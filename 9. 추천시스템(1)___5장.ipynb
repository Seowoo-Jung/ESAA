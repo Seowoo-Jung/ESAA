{
  "nbformat": 4,
  "nbformat_minor": 0,
  "metadata": {
    "colab": {
      "name": "추천시스템(1) _ 5장.ipynb",
      "provenance": [],
      "authorship_tag": "ABX9TyORw9iWnJN7AJzKNf9tw8Rs",
      "include_colab_link": true
    },
    "kernelspec": {
      "name": "python3",
      "display_name": "Python 3"
    },
    "language_info": {
      "name": "python"
    }
  },
  "cells": [
    {
      "cell_type": "markdown",
      "metadata": {
        "id": "view-in-github",
        "colab_type": "text"
      },
      "source": [
        "<a href=\"https://colab.research.google.com/github/Seowoo-Jung/ESAA/blob/main/9.%20%EC%B6%94%EC%B2%9C%EC%8B%9C%EC%8A%A4%ED%85%9C(1)___5%EC%9E%A5.ipynb\" target=\"_parent\"><img src=\"https://colab.research.google.com/assets/colab-badge.svg\" alt=\"Open In Colab\"/></a>"
      ]
    },
    {
      "cell_type": "markdown",
      "metadata": {
        "id": "NvJpfo7DHzTU"
      },
      "source": [
        "# 추천시스템(1):5장 \n",
        "\n",
        "## 콘텐츠 기반 필터링 실습 - TMDB 5000 영화 데이터 세트\n",
        "\n",
        "### p.579 ~ 580\n",
        "\n",
        ">> 콘텐츠 기반 필터링: 사용자가 특정한 아이템을 선호하는 경우 그 아이템과 비슷한 콘텐츠를 가진 다른 아이템 추천\n",
        "\n",
        "--> 이 실습의 경우 장르 속성을 기반으로 만든다.\n",
        "\n"
      ]
    },
    {
      "cell_type": "code",
      "metadata": {
        "colab": {
          "base_uri": "https://localhost:8080/",
          "height": 323
        },
        "id": "BK6DuawvHnFs",
        "outputId": "67758f17-ba03-409b-f59e-9ce2d071bef5"
      },
      "source": [
        "import pandas as pd\n",
        "import numpy as np\n",
        "import warnings; warnings.filterwarnings('ignore')\n",
        "\n",
        "movies = pd.read_csv(\"/content/tmdb_5000_movies.csv\")\n",
        "print(movies.shape)\n",
        "movies.head(1)"
      ],
      "execution_count": null,
      "outputs": [
        {
          "output_type": "stream",
          "name": "stdout",
          "text": [
            "(4803, 20)\n"
          ]
        },
        {
          "output_type": "execute_result",
          "data": {
            "text/html": [
              "<div>\n",
              "<style scoped>\n",
              "    .dataframe tbody tr th:only-of-type {\n",
              "        vertical-align: middle;\n",
              "    }\n",
              "\n",
              "    .dataframe tbody tr th {\n",
              "        vertical-align: top;\n",
              "    }\n",
              "\n",
              "    .dataframe thead th {\n",
              "        text-align: right;\n",
              "    }\n",
              "</style>\n",
              "<table border=\"1\" class=\"dataframe\">\n",
              "  <thead>\n",
              "    <tr style=\"text-align: right;\">\n",
              "      <th></th>\n",
              "      <th>budget</th>\n",
              "      <th>genres</th>\n",
              "      <th>homepage</th>\n",
              "      <th>id</th>\n",
              "      <th>keywords</th>\n",
              "      <th>original_language</th>\n",
              "      <th>original_title</th>\n",
              "      <th>overview</th>\n",
              "      <th>popularity</th>\n",
              "      <th>production_companies</th>\n",
              "      <th>production_countries</th>\n",
              "      <th>release_date</th>\n",
              "      <th>revenue</th>\n",
              "      <th>runtime</th>\n",
              "      <th>spoken_languages</th>\n",
              "      <th>status</th>\n",
              "      <th>tagline</th>\n",
              "      <th>title</th>\n",
              "      <th>vote_average</th>\n",
              "      <th>vote_count</th>\n",
              "    </tr>\n",
              "  </thead>\n",
              "  <tbody>\n",
              "    <tr>\n",
              "      <th>0</th>\n",
              "      <td>237000000</td>\n",
              "      <td>[{\"id\": 28, \"name\": \"Action\"}, {\"id\": 12, \"name\": \"Adventure\"}, {\"id\": 14, \"name\": \"Fantasy\"}, {...</td>\n",
              "      <td>http://www.avatarmovie.com/</td>\n",
              "      <td>19995</td>\n",
              "      <td>[{\"id\": 1463, \"name\": \"culture clash\"}, {\"id\": 2964, \"name\": \"future\"}, {\"id\": 3386, \"name\": \"sp...</td>\n",
              "      <td>en</td>\n",
              "      <td>Avatar</td>\n",
              "      <td>In the 22nd century, a paraplegic Marine is dispatched to the moon Pandora on a unique mission, ...</td>\n",
              "      <td>150.437577</td>\n",
              "      <td>[{\"name\": \"Ingenious Film Partners\", \"id\": 289}, {\"name\": \"Twentieth Century Fox Film Corporatio...</td>\n",
              "      <td>[{\"iso_3166_1\": \"US\", \"name\": \"United States of America\"}, {\"iso_3166_1\": \"GB\", \"name\": \"United ...</td>\n",
              "      <td>2009-12-10</td>\n",
              "      <td>2787965087</td>\n",
              "      <td>162.0</td>\n",
              "      <td>[{\"iso_639_1\": \"en\", \"name\": \"English\"}, {\"iso_639_1\": \"es\", \"name\": \"Espa\\u00f1ol\"}]</td>\n",
              "      <td>Released</td>\n",
              "      <td>Enter the World of Pandora.</td>\n",
              "      <td>Avatar</td>\n",
              "      <td>7.2</td>\n",
              "      <td>11800</td>\n",
              "    </tr>\n",
              "  </tbody>\n",
              "</table>\n",
              "</div>"
            ],
            "text/plain": [
              "      budget  ... vote_count\n",
              "0  237000000  ...      11800\n",
              "\n",
              "[1 rows x 20 columns]"
            ]
          },
          "metadata": {},
          "execution_count": 7
        }
      ]
    },
    {
      "cell_type": "code",
      "metadata": {
        "id": "PIc2J5IqJdl7"
      },
      "source": [
        "## 콘텐츠 기반 필터링 추천 분석에 필요한 내용만 추출\n",
        "movies_df = movies [['id', 'title','genres','vote_average', 'vote_count', 'popularity', 'keywords','overview']]"
      ],
      "execution_count": null,
      "outputs": []
    },
    {
      "cell_type": "code",
      "metadata": {
        "colab": {
          "base_uri": "https://localhost:8080/",
          "height": 97
        },
        "id": "Pq8RZu-5J3F9",
        "outputId": "89677c70-d634-42ed-f114-d7b39d000063"
      },
      "source": [
        "# genres, keywords의 경우 여러개의 장르를 표현하기 위해 딕셔너리에 표현되어있음!--> 가공해야 정보를 추출할 수 있음!\n",
        "# 어떤게 있는지 확인\n",
        "pd.set_option('max_colwidth',100)\n",
        "movies_df[['genres','keywords']][:1]"
      ],
      "execution_count": null,
      "outputs": [
        {
          "output_type": "execute_result",
          "data": {
            "text/html": [
              "<div>\n",
              "<style scoped>\n",
              "    .dataframe tbody tr th:only-of-type {\n",
              "        vertical-align: middle;\n",
              "    }\n",
              "\n",
              "    .dataframe tbody tr th {\n",
              "        vertical-align: top;\n",
              "    }\n",
              "\n",
              "    .dataframe thead th {\n",
              "        text-align: right;\n",
              "    }\n",
              "</style>\n",
              "<table border=\"1\" class=\"dataframe\">\n",
              "  <thead>\n",
              "    <tr style=\"text-align: right;\">\n",
              "      <th></th>\n",
              "      <th>genres</th>\n",
              "      <th>keywords</th>\n",
              "    </tr>\n",
              "  </thead>\n",
              "  <tbody>\n",
              "    <tr>\n",
              "      <th>0</th>\n",
              "      <td>[{\"id\": 28, \"name\": \"Action\"}, {\"id\": 12, \"name\": \"Adventure\"}, {\"id\": 14, \"name\": \"Fantasy\"}, {...</td>\n",
              "      <td>[{\"id\": 1463, \"name\": \"culture clash\"}, {\"id\": 2964, \"name\": \"future\"}, {\"id\": 3386, \"name\": \"sp...</td>\n",
              "    </tr>\n",
              "  </tbody>\n",
              "</table>\n",
              "</div>"
            ],
            "text/plain": [
              "                                                                                                genres                                                                                             keywords\n",
              "0  [{\"id\": 28, \"name\": \"Action\"}, {\"id\": 12, \"name\": \"Adventure\"}, {\"id\": 14, \"name\": \"Fantasy\"}, {...  [{\"id\": 1463, \"name\": \"culture clash\"}, {\"id\": 2964, \"name\": \"future\"}, {\"id\": 3386, \"name\": \"sp..."
            ]
          },
          "metadata": {},
          "execution_count": 9
        }
      ]
    },
    {
      "cell_type": "code",
      "metadata": {
        "id": "uVivtzj8KHlw"
      },
      "source": [
        "from ast import literal_eval #문자열을 list[dict1, dict2] 로 분해할 수 있음. # 리스트가 문자열이 었는데 리스트 객체 로 만들어줌\n",
        "movies_df['genres'] = movies_df['genres'].apply(literal_eval) #보기\n",
        "movies_df['keywords'] = movies_df['keywords'].apply(literal_eval)"
      ],
      "execution_count": null,
      "outputs": []
    },
    {
      "cell_type": "code",
      "metadata": {
        "colab": {
          "base_uri": "https://localhost:8080/",
          "height": 35
        },
        "id": "92hZf32HKqsg",
        "outputId": "3f4c9fd0-626c-4133-b321-c8cabb0401ad"
      },
      "source": [
        "type(movies_df['genres'][0][1])\n",
        "movies_df['genres'][0][1] # 리스트 내부에 딕셔너리로 구성된 객체를 가짐. "
      ],
      "execution_count": null,
      "outputs": [
        {
          "output_type": "execute_result",
          "data": {
            "application/vnd.google.colaboratory.intrinsic+json": {
              "type": "string"
            },
            "text/plain": [
              "'Adventure'"
            ]
          },
          "metadata": {},
          "execution_count": 17
        }
      ]
    },
    {
      "cell_type": "code",
      "metadata": {
        "colab": {
          "base_uri": "https://localhost:8080/",
          "height": 97
        },
        "id": "oZC5U6vpLErA",
        "outputId": "c165c503-ec41-4b43-c7ce-6cc723dfac9d"
      },
      "source": [
        "# 장르명만 추출!\n",
        "movies_df['genres'] = movies_df['genres'].apply(lambda x : [ y['name'] for y in x])\n",
        "movies_df['keywords'] = movies_df['keywords'].apply(lambda x : [ y['name'] for y in x])\n",
        "movies_df[['genres','keywords']][:1]"
      ],
      "execution_count": null,
      "outputs": [
        {
          "output_type": "execute_result",
          "data": {
            "text/html": [
              "<div>\n",
              "<style scoped>\n",
              "    .dataframe tbody tr th:only-of-type {\n",
              "        vertical-align: middle;\n",
              "    }\n",
              "\n",
              "    .dataframe tbody tr th {\n",
              "        vertical-align: top;\n",
              "    }\n",
              "\n",
              "    .dataframe thead th {\n",
              "        text-align: right;\n",
              "    }\n",
              "</style>\n",
              "<table border=\"1\" class=\"dataframe\">\n",
              "  <thead>\n",
              "    <tr style=\"text-align: right;\">\n",
              "      <th></th>\n",
              "      <th>genres</th>\n",
              "      <th>keywords</th>\n",
              "    </tr>\n",
              "  </thead>\n",
              "  <tbody>\n",
              "    <tr>\n",
              "      <th>0</th>\n",
              "      <td>[Action, Adventure, Fantasy, Science Fiction]</td>\n",
              "      <td>[culture clash, future, space war, space colony, society, space travel, futuristic, romance, spa...</td>\n",
              "    </tr>\n",
              "  </tbody>\n",
              "</table>\n",
              "</div>"
            ],
            "text/plain": [
              "                                          genres                                                                                             keywords\n",
              "0  [Action, Adventure, Fantasy, Science Fiction]  [culture clash, future, space war, space colony, society, space travel, futuristic, romance, spa..."
            ]
          },
          "metadata": {},
          "execution_count": 13
        }
      ]
    },
    {
      "cell_type": "markdown",
      "metadata": {
        "id": "V8W20BU7OeVS"
      },
      "source": [
        "## 장르 콘텐츠 유사도 측정\n",
        "\n",
        "- genres를 count 기반으로 벡터 변환한다.\n",
        "- 벡터 변환한 데이터를 코사인 유사도를 이용하여 비교한다. 이를 위해 데이터 세트의 레코드별로 보사인 유사도값을 가진 객체 생성\n",
        "- 장르 유사도보다 높은 영화 중 평점 높은순으로 추천한다."
      ]
    },
    {
      "cell_type": "code",
      "metadata": {
        "colab": {
          "base_uri": "https://localhost:8080/",
          "height": 35
        },
        "id": "F5e9CwvyMNOz",
        "outputId": "2f45c6c3-3b60-43d6-e5b2-b6478377397f"
      },
      "source": [
        "# CountVectorizer이용을 위해서 공백 문자로 word 단위가 구분되는 문자열로 변환. (list->문자열)\n",
        "movies_df['genres_literal'] = movies_df['genres'].apply(lambda x : (' ').join(x)) \n",
        "movies_df['genres_literal'][0]"
      ],
      "execution_count": null,
      "outputs": [
        {
          "output_type": "execute_result",
          "data": {
            "application/vnd.google.colaboratory.intrinsic+json": {
              "type": "string"
            },
            "text/plain": [
              "'Action Adventure Fantasy Science Fiction'"
            ]
          },
          "metadata": {},
          "execution_count": 19
        }
      ]
    },
    {
      "cell_type": "code",
      "metadata": {
        "colab": {
          "base_uri": "https://localhost:8080/"
        },
        "id": "GqKyuQYUXJAB",
        "outputId": "5ac05ee5-7aa1-4659-d560-fed8b8bedcd2"
      },
      "source": [
        "from sklearn.feature_extraction.text import CountVectorizer\n",
        "\n",
        "count_vect = CountVectorizer(min_df = 0, ngram_range=(1,2))\n",
        "genre_mat=count_vect.fit_transform(movies_df['genres_literal'])\n",
        "print(genre_mat.shape)"
      ],
      "execution_count": null,
      "outputs": [
        {
          "output_type": "stream",
          "name": "stdout",
          "text": [
            "(4803, 276)\n"
          ]
        }
      ]
    },
    {
      "cell_type": "code",
      "metadata": {
        "colab": {
          "base_uri": "https://localhost:8080/"
        },
        "id": "to-MQqYYYapn",
        "outputId": "eb9cc7db-4c5b-4c6b-beb7-55d6fa92e7e5"
      },
      "source": [
        "# 코사인 유사도를 적용하여 행렬 형태로 반환\n",
        "from sklearn.metrics.pairwise import cosine_similarity\n",
        "\n",
        "genre_sim=cosine_similarity(genre_mat, genre_mat)\n",
        "print(genre_sim.shape)\n",
        "print(genre_sim[:1]) #여기서 유사도가 높은 순서대로 정리"
      ],
      "execution_count": null,
      "outputs": [
        {
          "output_type": "stream",
          "name": "stdout",
          "text": [
            "(4803, 4803)\n",
            "[[1.         0.59628479 0.4472136  ... 0.         0.         0.        ]]\n"
          ]
        }
      ]
    },
    {
      "cell_type": "code",
      "metadata": {
        "colab": {
          "base_uri": "https://localhost:8080/"
        },
        "id": "mWxOJ723Y3kh",
        "outputId": "61324b10-12b2-4785-a2e9-56840cf24c23"
      },
      "source": [
        "genre_sim_sorted_ind = genre_sim.argsort()[:, ::-1] # 각 행에 있는것들 중 유사도가 높은 순으로 정렬\n",
        "# argsort는 정렬된 비교 대상의 index를 반환해준다.\n",
        "print(genre_sim_sorted_ind[:1]) # index 이용하여 특정 레코드 추출할 수 있음."
      ],
      "execution_count": null,
      "outputs": [
        {
          "output_type": "stream",
          "name": "stdout",
          "text": [
            "[[   0 3494  813 ... 3038 3037 2401]]\n"
          ]
        }
      ]
    },
    {
      "cell_type": "markdown",
      "metadata": {
        "id": "G0akjHoSaWts"
      },
      "source": [
        "### 장르 콘텐츠 필터링을 이용한 영화 추천\n",
        "\n"
      ]
    },
    {
      "cell_type": "code",
      "metadata": {
        "id": "BRtU6iOcaRgo"
      },
      "source": [
        "## 함수를 만들어서 추천영화 정보를 갖는 dataframe 반환.\n",
        "def find_sim_movie(df, sorted_ind, title_name, top_n=10): #df:movide_df, sorted_ind:코사인 유사도 인덱스, \n",
        "#title_name: 추천기준이 되는 영화제목, top_n: 추천영화건수\n",
        "  # 인자로 입력된 movie_df Dataframe에서 'title' 칼럼이 입력된 title_name 값인 DataFrame추출\n",
        "  title_movie = df[df['title'] == title_name]\n",
        "\n",
        "  # title_named을 가진 DataFrame의 index 객체를 ndarray로 반환(원소 1개)하고\n",
        "  # sorted_ind 인자로 입력된 genre_sim_sorted_ind 객체에서 유사도 순으로 top_n개의 index 추출\n",
        "  title_index = title_movie.index.values\n",
        "  similar_indexes = sorted_ind[title_index, :(top_n)]\n",
        "\n",
        "  # 추출된 top_n index 출력. top_n index는 2차원 데이터임.\n",
        "  # dataframe에서 index로 사용하기 위해서 1차원 array로 변경\n",
        "  print(similar_indexes)\n",
        "  similar_indexes = similar_indexes.reshape(-1)\n",
        "\n",
        "  return df.iloc[similar_indexes]"
      ],
      "execution_count": null,
      "outputs": []
    },
    {
      "cell_type": "code",
      "metadata": {
        "colab": {
          "base_uri": "https://localhost:8080/",
          "height": 396
        },
        "id": "zGg-5vGEb1-e",
        "outputId": "b6998c56-cba7-444c-984e-2ee000ba518b"
      },
      "source": [
        "similar_movies=find_sim_movie(movies_df, genre_sim_sorted_ind, 'The Godfather',10)\n",
        "similar_movies[['title','vote_average']] # 대부를 좋아하는 고객에게 추천하기에는 이해하기 어려운 영화도 있고 평점이 낮은 영화 존재"
      ],
      "execution_count": null,
      "outputs": [
        {
          "output_type": "stream",
          "name": "stdout",
          "text": [
            "[3337]\n",
            "[[2731 1243 3636 1946 2640 4065 1847 4217  883 3866]]\n"
          ]
        },
        {
          "output_type": "execute_result",
          "data": {
            "text/html": [
              "<div>\n",
              "<style scoped>\n",
              "    .dataframe tbody tr th:only-of-type {\n",
              "        vertical-align: middle;\n",
              "    }\n",
              "\n",
              "    .dataframe tbody tr th {\n",
              "        vertical-align: top;\n",
              "    }\n",
              "\n",
              "    .dataframe thead th {\n",
              "        text-align: right;\n",
              "    }\n",
              "</style>\n",
              "<table border=\"1\" class=\"dataframe\">\n",
              "  <thead>\n",
              "    <tr style=\"text-align: right;\">\n",
              "      <th></th>\n",
              "      <th>title</th>\n",
              "      <th>vote_average</th>\n",
              "    </tr>\n",
              "  </thead>\n",
              "  <tbody>\n",
              "    <tr>\n",
              "      <th>2731</th>\n",
              "      <td>The Godfather: Part II</td>\n",
              "      <td>8.3</td>\n",
              "    </tr>\n",
              "    <tr>\n",
              "      <th>1243</th>\n",
              "      <td>Mean Streets</td>\n",
              "      <td>7.2</td>\n",
              "    </tr>\n",
              "    <tr>\n",
              "      <th>3636</th>\n",
              "      <td>Light Sleeper</td>\n",
              "      <td>5.7</td>\n",
              "    </tr>\n",
              "    <tr>\n",
              "      <th>1946</th>\n",
              "      <td>The Bad Lieutenant: Port of Call - New Orleans</td>\n",
              "      <td>6.0</td>\n",
              "    </tr>\n",
              "    <tr>\n",
              "      <th>2640</th>\n",
              "      <td>Things to Do in Denver When You're Dead</td>\n",
              "      <td>6.7</td>\n",
              "    </tr>\n",
              "    <tr>\n",
              "      <th>4065</th>\n",
              "      <td>Mi America</td>\n",
              "      <td>0.0</td>\n",
              "    </tr>\n",
              "    <tr>\n",
              "      <th>1847</th>\n",
              "      <td>GoodFellas</td>\n",
              "      <td>8.2</td>\n",
              "    </tr>\n",
              "    <tr>\n",
              "      <th>4217</th>\n",
              "      <td>Kids</td>\n",
              "      <td>6.8</td>\n",
              "    </tr>\n",
              "    <tr>\n",
              "      <th>883</th>\n",
              "      <td>Catch Me If You Can</td>\n",
              "      <td>7.7</td>\n",
              "    </tr>\n",
              "    <tr>\n",
              "      <th>3866</th>\n",
              "      <td>City of God</td>\n",
              "      <td>8.1</td>\n",
              "    </tr>\n",
              "  </tbody>\n",
              "</table>\n",
              "</div>"
            ],
            "text/plain": [
              "                                               title  vote_average\n",
              "2731                          The Godfather: Part II           8.3\n",
              "1243                                    Mean Streets           7.2\n",
              "3636                                   Light Sleeper           5.7\n",
              "1946  The Bad Lieutenant: Port of Call - New Orleans           6.0\n",
              "2640         Things to Do in Denver When You're Dead           6.7\n",
              "4065                                      Mi America           0.0\n",
              "1847                                      GoodFellas           8.2\n",
              "4217                                            Kids           6.8\n",
              "883                              Catch Me If You Can           7.7\n",
              "3866                                     City of God           8.1"
            ]
          },
          "metadata": {},
          "execution_count": 31
        }
      ]
    },
    {
      "cell_type": "code",
      "metadata": {
        "colab": {
          "base_uri": "https://localhost:8080/",
          "height": 360
        },
        "id": "7bNmA4z8ySYd",
        "outputId": "8e0f9964-9d8b-48fe-9fc3-124d8c761a5f"
      },
      "source": [
        "# 문제점 개선을 위해 더 많이 뽑아서 평점 순서대로 필터링\n",
        "# 평점(vote_average)만 보면 소수의 관객이 특정 영화에 높은 평점을 부여해 왜곡이 있을 수 있으므로 vote_count까지 고려\n",
        "movies_df[['title','vote_average','vote_count']].sort_values('vote_average', ascending=False)[:10]"
      ],
      "execution_count": null,
      "outputs": [
        {
          "output_type": "execute_result",
          "data": {
            "text/html": [
              "<div>\n",
              "<style scoped>\n",
              "    .dataframe tbody tr th:only-of-type {\n",
              "        vertical-align: middle;\n",
              "    }\n",
              "\n",
              "    .dataframe tbody tr th {\n",
              "        vertical-align: top;\n",
              "    }\n",
              "\n",
              "    .dataframe thead th {\n",
              "        text-align: right;\n",
              "    }\n",
              "</style>\n",
              "<table border=\"1\" class=\"dataframe\">\n",
              "  <thead>\n",
              "    <tr style=\"text-align: right;\">\n",
              "      <th></th>\n",
              "      <th>title</th>\n",
              "      <th>vote_average</th>\n",
              "      <th>vote_count</th>\n",
              "    </tr>\n",
              "  </thead>\n",
              "  <tbody>\n",
              "    <tr>\n",
              "      <th>3519</th>\n",
              "      <td>Stiff Upper Lips</td>\n",
              "      <td>10.0</td>\n",
              "      <td>1</td>\n",
              "    </tr>\n",
              "    <tr>\n",
              "      <th>4247</th>\n",
              "      <td>Me You and Five Bucks</td>\n",
              "      <td>10.0</td>\n",
              "      <td>2</td>\n",
              "    </tr>\n",
              "    <tr>\n",
              "      <th>4045</th>\n",
              "      <td>Dancer, Texas Pop. 81</td>\n",
              "      <td>10.0</td>\n",
              "      <td>1</td>\n",
              "    </tr>\n",
              "    <tr>\n",
              "      <th>4662</th>\n",
              "      <td>Little Big Top</td>\n",
              "      <td>10.0</td>\n",
              "      <td>1</td>\n",
              "    </tr>\n",
              "    <tr>\n",
              "      <th>3992</th>\n",
              "      <td>Sardaarji</td>\n",
              "      <td>9.5</td>\n",
              "      <td>2</td>\n",
              "    </tr>\n",
              "    <tr>\n",
              "      <th>2386</th>\n",
              "      <td>One Man's Hero</td>\n",
              "      <td>9.3</td>\n",
              "      <td>2</td>\n",
              "    </tr>\n",
              "    <tr>\n",
              "      <th>2970</th>\n",
              "      <td>There Goes My Baby</td>\n",
              "      <td>8.5</td>\n",
              "      <td>2</td>\n",
              "    </tr>\n",
              "    <tr>\n",
              "      <th>1881</th>\n",
              "      <td>The Shawshank Redemption</td>\n",
              "      <td>8.5</td>\n",
              "      <td>8205</td>\n",
              "    </tr>\n",
              "    <tr>\n",
              "      <th>2796</th>\n",
              "      <td>The Prisoner of Zenda</td>\n",
              "      <td>8.4</td>\n",
              "      <td>11</td>\n",
              "    </tr>\n",
              "    <tr>\n",
              "      <th>3337</th>\n",
              "      <td>The Godfather</td>\n",
              "      <td>8.4</td>\n",
              "      <td>5893</td>\n",
              "    </tr>\n",
              "  </tbody>\n",
              "</table>\n",
              "</div>"
            ],
            "text/plain": [
              "                         title  vote_average  vote_count\n",
              "3519          Stiff Upper Lips          10.0           1\n",
              "4247     Me You and Five Bucks          10.0           2\n",
              "4045     Dancer, Texas Pop. 81          10.0           1\n",
              "4662            Little Big Top          10.0           1\n",
              "3992                 Sardaarji           9.5           2\n",
              "2386            One Man's Hero           9.3           2\n",
              "2970        There Goes My Baby           8.5           2\n",
              "1881  The Shawshank Redemption           8.5        8205\n",
              "2796     The Prisoner of Zenda           8.4          11\n",
              "3337             The Godfather           8.4        5893"
            ]
          },
          "metadata": {},
          "execution_count": 33
        }
      ]
    },
    {
      "cell_type": "markdown",
      "metadata": {
        "id": "wbTMHyI0zmII"
      },
      "source": [
        "- 위 결과를 보면, 앞에 7개 영화들 같은 경우 적은 관객이 높은 평점을 주어 평점이 상대적으로 높아 영화 평점을 다른 방식으로 산출한다. : 가중 평점 이용!\n",
        "\n",
        "weighted Rating: (v/(v+m))* R + (m/(v+m)) * C\n",
        "\n",
        "v: 개별 영화에 평점을 투표한 횟수 : 'vote_count'\n",
        "\n",
        "m: 평점을 부여하기 위한 최소 투표 횟수 : 가중치 조절: m이 높으면 평점 투표횟수가 많은 영화에 더 큰 가중치!(전체 투표 횟수의 상위 60%를 기준으로 한다) :v가 크면 C보다 R에 더 가중치가 더해짐\n",
        "\n",
        "R: 개별 영화에 대한 평균 평점 :'vote_average'\n",
        "\n",
        "C: 전체 영화에 대한 평균 평점 : 'vote_average'의 평균"
      ]
    },
    {
      "cell_type": "code",
      "metadata": {
        "colab": {
          "base_uri": "https://localhost:8080/"
        },
        "id": "vF8atu-yzJDh",
        "outputId": "1c9eb861-9b8d-4e1e-e626-a10198d85a50"
      },
      "source": [
        "C=movies_df['vote_average'].mean()\n",
        "m=movies_df['vote_count'].quantile(0.6)\n",
        "print('C:', round(C, 3), 'm: ', round(m,3))"
      ],
      "execution_count": null,
      "outputs": [
        {
          "output_type": "stream",
          "name": "stdout",
          "text": [
            "C: 6.092 m:  370.2\n"
          ]
        }
      ]
    },
    {
      "cell_type": "code",
      "metadata": {
        "id": "JzgtUWt024QZ"
      },
      "source": [
        "# weighted mean을 구하는 함수를 생성하고 새로운 평점 정보('vote_weighted') 추가\n",
        "percentile=0.6\n",
        "m=movies['vote_count'].quantile(percentile)\n",
        "C=movies['vote_average'].mean()\n",
        "\n",
        "def weighted_vote_average(record):\n",
        "  v=record['vote_count']\n",
        "  R=record['vote_average']\n",
        "\n",
        "  return ((v/(v+m))*R) + ( (m/(m+v))*C)\n",
        "\n",
        "movies_df['weighted_vote']=movies_df.apply(weighted_vote_average, axis=1)"
      ],
      "execution_count": null,
      "outputs": []
    },
    {
      "cell_type": "code",
      "metadata": {
        "colab": {
          "base_uri": "https://localhost:8080/",
          "height": 360
        },
        "id": "AuP1NxOh3f33",
        "outputId": "2fdca547-9680-4e37-b1ef-e96c11a354ee"
      },
      "source": [
        "# 가중 평점 기준으로 출력\n",
        "movies_df[['title', 'vote_average', 'weighted_vote', 'vote_count']].sort_values('weighted_vote', ascending=False)[:10]"
      ],
      "execution_count": null,
      "outputs": [
        {
          "output_type": "execute_result",
          "data": {
            "text/html": [
              "<div>\n",
              "<style scoped>\n",
              "    .dataframe tbody tr th:only-of-type {\n",
              "        vertical-align: middle;\n",
              "    }\n",
              "\n",
              "    .dataframe tbody tr th {\n",
              "        vertical-align: top;\n",
              "    }\n",
              "\n",
              "    .dataframe thead th {\n",
              "        text-align: right;\n",
              "    }\n",
              "</style>\n",
              "<table border=\"1\" class=\"dataframe\">\n",
              "  <thead>\n",
              "    <tr style=\"text-align: right;\">\n",
              "      <th></th>\n",
              "      <th>title</th>\n",
              "      <th>vote_average</th>\n",
              "      <th>weighted_vote</th>\n",
              "      <th>vote_count</th>\n",
              "    </tr>\n",
              "  </thead>\n",
              "  <tbody>\n",
              "    <tr>\n",
              "      <th>1881</th>\n",
              "      <td>The Shawshank Redemption</td>\n",
              "      <td>8.5</td>\n",
              "      <td>8.396052</td>\n",
              "      <td>8205</td>\n",
              "    </tr>\n",
              "    <tr>\n",
              "      <th>3337</th>\n",
              "      <td>The Godfather</td>\n",
              "      <td>8.4</td>\n",
              "      <td>8.263591</td>\n",
              "      <td>5893</td>\n",
              "    </tr>\n",
              "    <tr>\n",
              "      <th>662</th>\n",
              "      <td>Fight Club</td>\n",
              "      <td>8.3</td>\n",
              "      <td>8.216455</td>\n",
              "      <td>9413</td>\n",
              "    </tr>\n",
              "    <tr>\n",
              "      <th>3232</th>\n",
              "      <td>Pulp Fiction</td>\n",
              "      <td>8.3</td>\n",
              "      <td>8.207102</td>\n",
              "      <td>8428</td>\n",
              "    </tr>\n",
              "    <tr>\n",
              "      <th>65</th>\n",
              "      <td>The Dark Knight</td>\n",
              "      <td>8.2</td>\n",
              "      <td>8.136930</td>\n",
              "      <td>12002</td>\n",
              "    </tr>\n",
              "    <tr>\n",
              "      <th>1818</th>\n",
              "      <td>Schindler's List</td>\n",
              "      <td>8.3</td>\n",
              "      <td>8.126069</td>\n",
              "      <td>4329</td>\n",
              "    </tr>\n",
              "    <tr>\n",
              "      <th>3865</th>\n",
              "      <td>Whiplash</td>\n",
              "      <td>8.3</td>\n",
              "      <td>8.123248</td>\n",
              "      <td>4254</td>\n",
              "    </tr>\n",
              "    <tr>\n",
              "      <th>809</th>\n",
              "      <td>Forrest Gump</td>\n",
              "      <td>8.2</td>\n",
              "      <td>8.105954</td>\n",
              "      <td>7927</td>\n",
              "    </tr>\n",
              "    <tr>\n",
              "      <th>2294</th>\n",
              "      <td>Spirited Away</td>\n",
              "      <td>8.3</td>\n",
              "      <td>8.105867</td>\n",
              "      <td>3840</td>\n",
              "    </tr>\n",
              "    <tr>\n",
              "      <th>2731</th>\n",
              "      <td>The Godfather: Part II</td>\n",
              "      <td>8.3</td>\n",
              "      <td>8.079586</td>\n",
              "      <td>3338</td>\n",
              "    </tr>\n",
              "  </tbody>\n",
              "</table>\n",
              "</div>"
            ],
            "text/plain": [
              "                         title  vote_average  weighted_vote  vote_count\n",
              "1881  The Shawshank Redemption           8.5       8.396052        8205\n",
              "3337             The Godfather           8.4       8.263591        5893\n",
              "662                 Fight Club           8.3       8.216455        9413\n",
              "3232              Pulp Fiction           8.3       8.207102        8428\n",
              "65             The Dark Knight           8.2       8.136930       12002\n",
              "1818          Schindler's List           8.3       8.126069        4329\n",
              "3865                  Whiplash           8.3       8.123248        4254\n",
              "809               Forrest Gump           8.2       8.105954        7927\n",
              "2294             Spirited Away           8.3       8.105867        3840\n",
              "2731    The Godfather: Part II           8.3       8.079586        3338"
            ]
          },
          "metadata": {},
          "execution_count": 44
        }
      ]
    },
    {
      "cell_type": "code",
      "metadata": {
        "colab": {
          "base_uri": "https://localhost:8080/",
          "height": 360
        },
        "id": "onUIHuR73qsg",
        "outputId": "da1bf2a9-0987-448f-de6b-0d9c4771fa44"
      },
      "source": [
        "## 개인에게 맞는 수정된 영화 추천시스템\n",
        "# 기존 함수보다 더 많은 영화 추천 후보군을 뽑고 weighted_vote 기준으로 거른다.\n",
        "def find_sim_movie(df, sorted_ind, title_name, top_n=10):\n",
        "  title_movie=df[df['title'] == title_name]\n",
        "  title_index = title_movie.index.values\n",
        "\n",
        "  # top_n의 2배에 해당하는 장르 유사성이 높은 인덱스 추출\n",
        "  similar_indexes = sorted_ind[title_index, :(top_n*2)]\n",
        "  similar_indexes = similar_indexes.reshape(-1)\n",
        "  # 기준 영화 인덱스는 제외\n",
        "  similar_indexes = similar_indexes[similar_indexes != title_index]\n",
        "\n",
        "  # top_n의 2배에 해당하는 후보군에서 weighted_vote가 높은 순으로 top_n만큼 추출\n",
        "  return df.iloc[similar_indexes].sort_values('weighted_vote', ascending=False)[:top_n]\n",
        "\n",
        "similar_movies = find_sim_movie(movies_df, genre_sim_sorted_ind, 'The Godfather', 10)\n",
        "similar_movies[['title', 'vote_average', 'weighted_vote']]"
      ],
      "execution_count": null,
      "outputs": [
        {
          "output_type": "execute_result",
          "data": {
            "text/html": [
              "<div>\n",
              "<style scoped>\n",
              "    .dataframe tbody tr th:only-of-type {\n",
              "        vertical-align: middle;\n",
              "    }\n",
              "\n",
              "    .dataframe tbody tr th {\n",
              "        vertical-align: top;\n",
              "    }\n",
              "\n",
              "    .dataframe thead th {\n",
              "        text-align: right;\n",
              "    }\n",
              "</style>\n",
              "<table border=\"1\" class=\"dataframe\">\n",
              "  <thead>\n",
              "    <tr style=\"text-align: right;\">\n",
              "      <th></th>\n",
              "      <th>title</th>\n",
              "      <th>vote_average</th>\n",
              "      <th>weighted_vote</th>\n",
              "    </tr>\n",
              "  </thead>\n",
              "  <tbody>\n",
              "    <tr>\n",
              "      <th>2731</th>\n",
              "      <td>The Godfather: Part II</td>\n",
              "      <td>8.3</td>\n",
              "      <td>8.079586</td>\n",
              "    </tr>\n",
              "    <tr>\n",
              "      <th>1847</th>\n",
              "      <td>GoodFellas</td>\n",
              "      <td>8.2</td>\n",
              "      <td>7.976937</td>\n",
              "    </tr>\n",
              "    <tr>\n",
              "      <th>3866</th>\n",
              "      <td>City of God</td>\n",
              "      <td>8.1</td>\n",
              "      <td>7.759693</td>\n",
              "    </tr>\n",
              "    <tr>\n",
              "      <th>1663</th>\n",
              "      <td>Once Upon a Time in America</td>\n",
              "      <td>8.2</td>\n",
              "      <td>7.657811</td>\n",
              "    </tr>\n",
              "    <tr>\n",
              "      <th>883</th>\n",
              "      <td>Catch Me If You Can</td>\n",
              "      <td>7.7</td>\n",
              "      <td>7.557097</td>\n",
              "    </tr>\n",
              "    <tr>\n",
              "      <th>281</th>\n",
              "      <td>American Gangster</td>\n",
              "      <td>7.4</td>\n",
              "      <td>7.141396</td>\n",
              "    </tr>\n",
              "    <tr>\n",
              "      <th>4041</th>\n",
              "      <td>This Is England</td>\n",
              "      <td>7.4</td>\n",
              "      <td>6.739664</td>\n",
              "    </tr>\n",
              "    <tr>\n",
              "      <th>1149</th>\n",
              "      <td>American Hustle</td>\n",
              "      <td>6.8</td>\n",
              "      <td>6.717525</td>\n",
              "    </tr>\n",
              "    <tr>\n",
              "      <th>1243</th>\n",
              "      <td>Mean Streets</td>\n",
              "      <td>7.2</td>\n",
              "      <td>6.626569</td>\n",
              "    </tr>\n",
              "    <tr>\n",
              "      <th>2839</th>\n",
              "      <td>Rounders</td>\n",
              "      <td>6.9</td>\n",
              "      <td>6.530427</td>\n",
              "    </tr>\n",
              "  </tbody>\n",
              "</table>\n",
              "</div>"
            ],
            "text/plain": [
              "                            title  vote_average  weighted_vote\n",
              "2731       The Godfather: Part II           8.3       8.079586\n",
              "1847                   GoodFellas           8.2       7.976937\n",
              "3866                  City of God           8.1       7.759693\n",
              "1663  Once Upon a Time in America           8.2       7.657811\n",
              "883           Catch Me If You Can           7.7       7.557097\n",
              "281             American Gangster           7.4       7.141396\n",
              "4041              This Is England           7.4       6.739664\n",
              "1149              American Hustle           6.8       6.717525\n",
              "1243                 Mean Streets           7.2       6.626569\n",
              "2839                     Rounders           6.9       6.530427"
            ]
          },
          "metadata": {},
          "execution_count": 45
        }
      ]
    }
  ]
}