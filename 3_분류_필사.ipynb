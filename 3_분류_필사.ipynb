{
  "nbformat": 4,
  "nbformat_minor": 0,
  "metadata": {
    "colab": {
      "name": "3. 분류 필사.ipynb",
      "provenance": [],
      "authorship_tag": "ABX9TyM/wF/rNm3Dwgn7njIHqZ1p",
      "include_colab_link": true
    },
    "kernelspec": {
      "name": "python3",
      "display_name": "Python 3"
    },
    "language_info": {
      "name": "python"
    }
  },
  "cells": [
    {
      "cell_type": "markdown",
      "metadata": {
        "id": "view-in-github",
        "colab_type": "text"
      },
      "source": [
        "<a href=\"https://colab.research.google.com/github/Seowoo-Jung/ESAA/blob/main/3_%EB%B6%84%EB%A5%98_%ED%95%84%EC%82%AC.ipynb\" target=\"_parent\"><img src=\"https://colab.research.google.com/assets/colab-badge.svg\" alt=\"Open In Colab\"/></a>"
      ]
    },
    {
      "cell_type": "markdown",
      "metadata": {
        "id": "AwUMjsLlLlN-"
      },
      "source": [
        "# 3. 분류\n",
        "\n",
        "## 3.1 MNIST"
      ]
    },
    {
      "cell_type": "code",
      "metadata": {
        "colab": {
          "base_uri": "https://localhost:8080/"
        },
        "id": "e_Fl0P-6LEt9",
        "outputId": "3e2a11bf-b3c4-4434-c781-4468a250b959"
      },
      "source": [
        "# 데이터 불러오기\n",
        "from sklearn.datasets import fetch_openml\n",
        "mnist=fetch_openml('mnist_784', version=1)\n",
        "mnist.keys()"
      ],
      "execution_count": 2,
      "outputs": [
        {
          "output_type": "execute_result",
          "data": {
            "text/plain": [
              "dict_keys(['data', 'target', 'frame', 'feature_names', 'target_names', 'DESCR', 'details', 'categories', 'url'])"
            ]
          },
          "metadata": {},
          "execution_count": 2
        }
      ]
    },
    {
      "cell_type": "code",
      "metadata": {
        "colab": {
          "base_uri": "https://localhost:8080/"
        },
        "id": "1ymQSPa6LpUI",
        "outputId": "93e9625e-091d-4a07-e95e-9be73c28b7c6"
      },
      "source": [
        "X, y = mnist[\"data\"], mnist[\"target\"]\n",
        "print(X.shape) # data 키: 샘플이 하나의 행, 특성이 하나의 열로 구성된 배열\n",
        "print(y.shape) # target 키: 레이블 배열"
      ],
      "execution_count": 3,
      "outputs": [
        {
          "output_type": "stream",
          "name": "stdout",
          "text": [
            "(70000, 784)\n",
            "(70000,)\n"
          ]
        }
      ]
    },
    {
      "cell_type": "markdown",
      "metadata": {
        "id": "w0pTg2yuMFMk"
      },
      "source": [
        "- 이미지가 70000개 있고 784개의 특성이 있다. (픽셀이 28*28)\n",
        "- 흰색(0) 부터 검은색(255) 까지의 픽셀 강도를 나타냄.\n"
      ]
    },
    {
      "cell_type": "code",
      "metadata": {
        "colab": {
          "base_uri": "https://localhost:8080/",
          "height": 248
        },
        "id": "hJILisD1LSbN",
        "outputId": "16187eb4-07fb-472f-a644-3615ec1d8049"
      },
      "source": [
        "# 이미지 확인\n",
        "import matplotlib as mpl\n",
        "import matplotlib.pyplot as plt\n",
        "\n",
        "some_digit = X[0]\n",
        "some_digit_image = some_digit.reshape(28,28) # 크기를 28*28으로 나눠줌\n",
        "\n",
        "plt.imshow(some_digit_image, cmap=\"binary\")\n",
        "plt.axis(\"off\")\n",
        "plt.show()"
      ],
      "execution_count": 4,
      "outputs": [
        {
          "output_type": "display_data",
          "data": {
            "image/png": "[encoded data removed]",
            "text/plain": [
              "<Figure size 432x288 with 1 Axes>"
            ]
          },
          "metadata": {
            "needs_background": "light"
          }
        }
      ]
    },
    {
      "cell_type": "code",
      "metadata": {
        "colab": {
          "base_uri": "https://localhost:8080/",
          "height": 35
        },
        "id": "CjWFDhn0Mmm_",
        "outputId": "a38873c5-db6a-4713-f801-983dbdd92561"
      },
      "source": [
        "# 실제 레이블 \n",
        "y[0]"
      ],
      "execution_count": 5,
      "outputs": [
        {
          "output_type": "execute_result",
          "data": {
            "application/vnd.google.colaboratory.intrinsic+json": {
              "type": "string"
            },
            "text/plain": [
              "'5'"
            ]
          },
          "metadata": {},
          "execution_count": 5
        }
      ]
    },
    {
      "cell_type": "code",
      "metadata": {
        "id": "PmTsPT8JMq1F"
      },
      "source": [
        "import numpy as np\n",
        "y=y.astype(np.uint8) # 대부분 숫자이므로 target 값을 정수로 변환"
      ],
      "execution_count": 7,
      "outputs": []
    },
    {
      "cell_type": "code",
      "metadata": {
        "id": "UF8XZoGMMvwL"
      },
      "source": [
        "# test 와 train split: 이미 데이터 자체가 섞여있으므로 앞에서부터 60000개 단위로 추출함.\n",
        "X_train, X_test, y_train, y_test = X[:60000], X[60000:], y[:60000], y[60000:]"
      ],
      "execution_count": 9,
      "outputs": []
    },
    {
      "cell_type": "markdown",
      "metadata": {
        "id": "lVL8NRLNNOp-"
      },
      "source": [
        "## 3.2 이진 분류기\n",
        "\n",
        ": 특정숫자 맞음, 특정숫자 아님 (2개의 클래스를 구분함)"
      ]
    },
    {
      "cell_type": "code",
      "metadata": {
        "id": "VxUuEd5jNCZ-"
      },
      "source": [
        "y_train_5 = (y_train == 5) # 5가 맞으면 T 아니면 F\n",
        "y_test_5 = (y_test == 5)"
      ],
      "execution_count": 11,
      "outputs": []
    },
    {
      "cell_type": "markdown",
      "metadata": {
        "id": "wpkhMpyFNjaa"
      },
      "source": [
        "- SGD 분류기\n",
        "\n",
        ": 매우 큰 데이터셋을 효율적으로 처리함."
      ]
    },
    {
      "cell_type": "code",
      "metadata": {
        "colab": {
          "base_uri": "https://localhost:8080/"
        },
        "id": "MB4YKqdsNgJd",
        "outputId": "fc8cddf6-7908-4db3-92fc-9b92dfa6bbc6"
      },
      "source": [
        "from sklearn.linear_model import SGDClassifier\n",
        "\n",
        "sgd_clf=SGDClassifier(random_state=42) # 훈련시 무작위성을 사용하므로 random_state를 지정한다.\n",
        "sgd_clf.fit(X_train, y_train_5)"
      ],
      "execution_count": 13,
      "outputs": [
        {
          "output_type": "execute_result",
          "data": {
            "text/plain": [
              "SGDClassifier(alpha=0.0001, average=False, class_weight=None,\n",
              "              early_stopping=False, epsilon=0.1, eta0=0.0, fit_intercept=True,\n",
              "              l1_ratio=0.15, learning_rate='optimal', loss='hinge',\n",
              "              max_iter=1000, n_iter_no_change=5, n_jobs=None, penalty='l2',\n",
              "              power_t=0.5, random_state=42, shuffle=True, tol=0.001,\n",
              "              validation_fraction=0.1, verbose=0, warm_start=False)"
            ]
          },
          "metadata": {},
          "execution_count": 13
        }
      ]
    },
    {
      "cell_type": "code",
      "metadata": {
        "colab": {
          "base_uri": "https://localhost:8080/"
        },
        "id": "KElN6t6kN5N3",
        "outputId": "df2fdc6b-3bc4-4f6a-abab-84ea5faf51ba"
      },
      "source": [
        "# 성능측정\n",
        "sgd_clf.predict([some_digit]) # some_digit이 5라고 추측"
      ],
      "execution_count": 14,
      "outputs": [
        {
          "output_type": "execute_result",
          "data": {
            "text/plain": [
              "array([ True])"
            ]
          },
          "metadata": {},
          "execution_count": 14
        }
      ]
    },
    {
      "cell_type": "markdown",
      "metadata": {
        "id": "VBFvzEWTOgEY"
      },
      "source": [
        "## 3.3 성능 측정\n",
        "\n",
        "### 3.3.1 교차 검증을 사용한 정확도 측정\n",
        "\n"
      ]
    },
    {
      "cell_type": "code",
      "metadata": {
        "colab": {
          "base_uri": "https://localhost:8080/"
        },
        "id": "DurH8bdaOFZk",
        "outputId": "41dca941-d2e0-4cde-8b2d-4b2af7822371"
      },
      "source": [
        "## 교차 검증 직접 구현: 사이킷런이 제공하는 것 보다 더 많이 교차검증하고싶을 때 (다시)\n",
        "from sklearn.model_selection import StratifiedKFold\n",
        "from sklearn.base import clone\n",
        "\n",
        "skfolds = StratifiedKFold(n_splits=3, random_state=42)\n",
        "\n",
        "for train_index, test_index in skfolds.split(X_train, y_train_5):\n",
        "  clone_clf = clone(sgd_clf) #\n",
        "  X_train_folds = X_train[train_index]\n",
        "  y_train_folds = y_train_5[train_index]\n",
        "  X_test_fold = X_train[test_index]\n",
        "  y_test_fold = y_train_5[test_index]\n",
        "\n",
        "  clone_clf.fit(X_train_folds, y_train_folds)\n",
        "  y_pred=clone_clf.predict(X_test_fold)\n",
        "  n_correct=sum(y_pred == y_test_fold)\n",
        "  print(n_correct / len(y_pred))"
      ],
      "execution_count": 16,
      "outputs": [
        {
          "output_type": "stream",
          "name": "stderr",
          "text": [
            "/usr/local/lib/python3.7/dist-packages/sklearn/model_selection/_split.py:296: FutureWarning: Setting a random_state has no effect since shuffle is False. This will raise an error in 0.24. You should leave random_state to its default (None), or set shuffle=True.\n",
            "  FutureWarning\n"
          ]
        },
        {
          "output_type": "stream",
          "name": "stdout",
          "text": [
            "0.95035\n",
            "0.96035\n",
            "0.9604\n"
          ]
        }
      ]
    },
    {
      "cell_type": "code",
      "metadata": {
        "colab": {
          "base_uri": "https://localhost:8080/"
        },
        "id": "Lyv4AYBCPtiq",
        "outputId": "0d339847-0700-4d58-d295-7dfff702687f"
      },
      "source": [
        "from sklearn.model_selection import cross_val_score\n",
        "cross_val_score(sgd_clf, X_train, y_train_5, cv=3, scoring=\"accuracy\") # ryckrjawmd"
      ],
      "execution_count": 18,
      "outputs": [
        {
          "output_type": "execute_result",
          "data": {
            "text/plain": [
              "array([0.95035, 0.96035, 0.9604 ])"
            ]
          },
          "metadata": {},
          "execution_count": 18
        }
      ]
    },
    {
      "cell_type": "code",
      "metadata": {
        "id": "dNUFJWg_QOzN"
      },
      "source": [
        "## 모든 이미지를 5가 아님으로 예측하는 분류하는 분류기를 만들고 성능예측\n",
        "from sklearn.base import BaseEstimator\n",
        "\n",
        "class Never5Classifier(BaseEstimator):\n",
        "  def fit(self, X, y=None):\n",
        "    return self\n",
        "  def predict(self, X):\n",
        "    return np.zeros((len(X),1), dtype=bool) # 5아님 :0"
      ],
      "execution_count": 22,
      "outputs": []
    },
    {
      "cell_type": "code",
      "metadata": {
        "colab": {
          "base_uri": "https://localhost:8080/"
        },
        "id": "vPKfx2gDQrFf",
        "outputId": "5ab79deb-a26b-43c2-ce79-20f40d0293b0"
      },
      "source": [
        "never_5_clf = Never5Classifier()\n",
        "cross_val_score(never_5_clf, X_train, y_train_5, cv=3, scoring=\"accuracy\")"
      ],
      "execution_count": 23,
      "outputs": [
        {
          "output_type": "execute_result",
          "data": {
            "text/plain": [
              "array([0.91125, 0.90855, 0.90915])"
            ]
          },
          "metadata": {},
          "execution_count": 23
        }
      ]
    },
    {
      "cell_type": "markdown",
      "metadata": {
        "id": "5-4pQwPBRPsb"
      },
      "source": [
        "- 데이터셋의 90%정도가 5이기 때문에 정확히 맞출 확률이 높음.\n",
        "- 불균형한 데이터 셋을 다룰 때,정확도를 분류기의 성능으로 잘 사용하지 않는다.\n",
        "\n",
        "### 3.3.2 오차 행렬"
      ]
    },
    {
      "cell_type": "code",
      "metadata": {
        "id": "9lhDDDfXRDCK"
      },
      "source": [
        "# 예측값 만들기\n",
        "from sklearn.model_selection import cross_val_predict\n",
        "\n",
        "y_train_pred = cross_val_predict(sgd_clf, X_train, y_train_5, cv=3) # 각 테스트 폴드에서 얻은 예측값을 반환"
      ],
      "execution_count": 24,
      "outputs": []
    },
    {
      "cell_type": "code",
      "metadata": {
        "colab": {
          "base_uri": "https://localhost:8080/"
        },
        "id": "M-8FbFmdSYlS",
        "outputId": "8d065898-525c-483a-a88c-7be299275b8e"
      },
      "source": [
        "## 오차행렬 만들기\n",
        "from sklearn.metrics import confusion_matrix\n",
        "confusion_matrix(y_train_5, y_train_pred) ## 왜 다르게 나와...?\n",
        "# [1,1], [2,2]가 정확하게 맞춘 경우"
      ],
      "execution_count": 26,
      "outputs": [
        {
          "output_type": "execute_result",
          "data": {
            "text/plain": [
              "array([[53892,   687],\n",
              "       [ 1891,  3530]])"
            ]
          },
          "metadata": {},
          "execution_count": 26
        }
      ]
    },
    {
      "cell_type": "code",
      "metadata": {
        "colab": {
          "base_uri": "https://localhost:8080/"
        },
        "id": "tPqnOuNhSlGF",
        "outputId": "6a1e0839-fc09-4e49-fc52-469b902bc3f6"
      },
      "source": [
        "## 완벽한 분류기인 경우\n",
        "y_train_perfect_predictions = y_train_5\n",
        "confusion_matrix(y_train_5, y_train_perfect_predictions)"
      ],
      "execution_count": 27,
      "outputs": [
        {
          "output_type": "execute_result",
          "data": {
            "text/plain": [
              "array([[54579,     0],\n",
              "       [    0,  5421]])"
            ]
          },
          "metadata": {},
          "execution_count": 27
        }
      ]
    },
    {
      "cell_type": "markdown",
      "metadata": {
        "id": "Mee3eRnTTT7y"
      },
      "source": [
        "정밀도 (양성 예측의 정확도)=TP/(TP+FP) \n",
        ": 양성으로 예측한것들 중에 진짜 양성인 비율\n",
        "\n",
        "재현율 (분류기가 정확하게 감지한 양성샘플의 비율) =  TP / (TP +FN)\n",
        "\n",
        ":진짜 양성인것들 중에 양성으로 예측한 비율"
      ]
    },
    {
      "cell_type": "code",
      "metadata": {
        "colab": {
          "base_uri": "https://localhost:8080/"
        },
        "id": "IaK_UPw5TKHe",
        "outputId": "31711440-4d16-44a7-cb34-d237b081d656"
      },
      "source": [
        "from sklearn.metrics import precision_score, recall_score\n",
        "precision_score(y_train_5, y_train_pred) # 정밀도"
      ],
      "execution_count": 28,
      "outputs": [
        {
          "output_type": "execute_result",
          "data": {
            "text/plain": [
              "0.8370879772350012"
            ]
          },
          "metadata": {},
          "execution_count": 28
        }
      ]
    },
    {
      "cell_type": "code",
      "metadata": {
        "colab": {
          "base_uri": "https://localhost:8080/"
        },
        "id": "smHLrKwsUluN",
        "outputId": "5ff02bef-4766-4f4c-ab32-ff131ab559f2"
      },
      "source": [
        "recall_score(y_train_5, y_train_pred) # 재현율"
      ],
      "execution_count": 29,
      "outputs": [
        {
          "output_type": "execute_result",
          "data": {
            "text/plain": [
              "0.6511713705958311"
            ]
          },
          "metadata": {},
          "execution_count": 29
        }
      ]
    },
    {
      "cell_type": "markdown",
      "metadata": {
        "id": "eK2EGdcYU3qY"
      },
      "source": [
        "정밀도와 재현율을 하나로 평가하는거 : F1 점수 > 조화평균\n",
        "\n",
        "- 정밀도와 재현율이 비슷하다면 f1점수가 좋은데 둘중 하나만 좋다면 그렇지 않다."
      ]
    },
    {
      "cell_type": "code",
      "metadata": {
        "colab": {
          "base_uri": "https://localhost:8080/"
        },
        "id": "TgoQ1xXDUwWr",
        "outputId": "47513cb1-48ee-4514-ffc7-19b4f608c325"
      },
      "source": [
        "from sklearn.metrics import f1_score\n",
        "f1_score(y_train_5, y_train_pred)"
      ],
      "execution_count": 30,
      "outputs": [
        {
          "output_type": "execute_result",
          "data": {
            "text/plain": [
              "0.7325171197343846"
            ]
          },
          "metadata": {},
          "execution_count": 30
        }
      ]
    },
    {
      "cell_type": "markdown",
      "metadata": {
        "id": "V6ux4MRKVOEC"
      },
      "source": [
        "### 3.3.4 정밀도/재현율 트레이드오프\n",
        "\n",
        "- 임계값을 높이면 정밀도가 올라가고 재현율이 내려감. 임계값을 내리면 재현율이 높아지고 정밀도가 줄어듦."
      ]
    },
    {
      "cell_type": "code",
      "metadata": {
        "colab": {
          "base_uri": "https://localhost:8080/"
        },
        "id": "TYz32m1SVA5e",
        "outputId": "dc68a310-6e45-4c28-f67d-3173b73634e0"
      },
      "source": [
        "# 점수를 기반으로 임곗값을 정해 예측하자\n",
        "y_scores = sgd_clf.decision_function([some_digit])\n",
        "print(y_scores)"
      ],
      "execution_count": 33,
      "outputs": [
        {
          "output_type": "stream",
          "name": "stdout",
          "text": [
            "[2164.22030239]\n"
          ]
        }
      ]
    },
    {
      "cell_type": "code",
      "metadata": {
        "colab": {
          "base_uri": "https://localhost:8080/"
        },
        "id": "BM3vnyFCWPgj",
        "outputId": "018c220c-55ca-496f-eec5-baa9c904e215"
      },
      "source": [
        "threshold=0\n",
        "y_some_digit_pred=(y_scores > threshold)\n",
        "y_some_digit_pred"
      ],
      "execution_count": 36,
      "outputs": [
        {
          "output_type": "execute_result",
          "data": {
            "text/plain": [
              "array([ True])"
            ]
          },
          "metadata": {},
          "execution_count": 36
        }
      ]
    },
    {
      "cell_type": "code",
      "metadata": {
        "colab": {
          "base_uri": "https://localhost:8080/"
        },
        "id": "iR2B7M67WeZF",
        "outputId": "e62c09a6-9996-4d55-a34c-77c794a87e80"
      },
      "source": [
        "threshold=8000\n",
        "y_some_digit_pred=(y_scores > threshold)\n",
        "y_some_digit_pred # 임계값 높이면 재현율이 줄어듦."
      ],
      "execution_count": 37,
      "outputs": [
        {
          "output_type": "execute_result",
          "data": {
            "text/plain": [
              "array([False])"
            ]
          },
          "metadata": {},
          "execution_count": 37
        }
      ]
    },
    {
      "cell_type": "code",
      "metadata": {
        "id": "ZzF__s7uWlIi"
      },
      "source": [
        "# 적절한 임계값 찾기\n",
        "y_scores = cross_val_predict(sgd_clf, X_train, y_train_5, cv=3, method=\"decision_function\")"
      ],
      "execution_count": 38,
      "outputs": []
    },
    {
      "cell_type": "code",
      "metadata": {
        "id": "S0j4ZQRxW0L-"
      },
      "source": [
        "## 모든 임계값에 대한 그래프\n",
        "from sklearn.metrics import precision_recall_curve\n",
        "\n",
        "precisions, recalls, thresholds = precision_recall_curve(y_train_5, y_scores)"
      ],
      "execution_count": 39,
      "outputs": []
    },
    {
      "cell_type": "code",
      "metadata": {
        "colab": {
          "base_uri": "https://localhost:8080/",
          "height": 265
        },
        "id": "v2lx-1thXHYn",
        "outputId": "b8e6edcf-39c5-4678-afa0-5be65d5eb8fe"
      },
      "source": [
        "def plot_precision_recall_vs_threshold(precisions, recalls, thresholds):\n",
        "  plt.plot(thresholds, precisions[:-1], \"b-\", label=\"정밀도\")\n",
        "  plt.plot(thresholds, recalls[:-1], \"g-\", label=\"재현율\")\n",
        "\n",
        "plot_precision_recall_vs_threshold(precisions, recalls, thresholds)\n",
        "plt.show()"
      ],
      "execution_count": 41,
      "outputs": [
        {
          "output_type": "display_data",
          "data": {
            "image/png": "[encoded data removed]",
            "text/plain": [
              "<Figure size 432x288 with 1 Axes>"
            ]
          },
          "metadata": {
            "needs_background": "light"
          }
        }
      ]
    },
    {
      "cell_type": "markdown",
      "metadata": {
        "id": "30wv7z78XjzB"
      },
      "source": [
        "- 정밀도 하강 직전의 임계값을 선택"
      ]
    },
    {
      "cell_type": "code",
      "metadata": {
        "id": "x81_DzOXXbXj"
      },
      "source": [
        "threshold_90_precision= thresholds[np.argmax(precisions >= 0.9)]\n",
        "y_train_pred_90 = (y_scores >= threshold_90_precision)"
      ],
      "execution_count": 42,
      "outputs": []
    },
    {
      "cell_type": "code",
      "metadata": {
        "colab": {
          "base_uri": "https://localhost:8080/"
        },
        "id": "0LHFzPTTYa2l",
        "outputId": "b93ebe57-1621-41ca-ca28-04a47fff1dc4"
      },
      "source": [
        "print(precision_score(y_train_5, y_train_pred_90))\n",
        "print(recall_score(y_train_5, y_train_pred_90))"
      ],
      "execution_count": 44,
      "outputs": [
        {
          "output_type": "stream",
          "name": "stdout",
          "text": [
            "0.9000345901072293\n"
          ]
        },
        {
          "output_type": "execute_result",
          "data": {
            "text/plain": [
              "0.4799852425751706"
            ]
          },
          "metadata": {},
          "execution_count": 44
        }
      ]
    },
    {
      "cell_type": "markdown",
      "metadata": {
        "id": "WIfG7JWVYoZ0"
      },
      "source": [
        "### 3.3.5 ROC 곡선\n",
        "\n",
        "- 1-특이도에 대한 그래프"
      ]
    },
    {
      "cell_type": "code",
      "metadata": {
        "id": "DxxMhz4xYhQv"
      },
      "source": [
        "from sklearn.metrics import roc_curve\n",
        "\n",
        "fpr, tpr, thresholds = roc_curve(y_train_5, y_scores)"
      ],
      "execution_count": 46,
      "outputs": []
    },
    {
      "cell_type": "code",
      "metadata": {
        "colab": {
          "base_uri": "https://localhost:8080/",
          "height": 265
        },
        "id": "25u1bXl-Y-Un",
        "outputId": "288326dd-f359-43b1-8191-1a8a2bf7c129"
      },
      "source": [
        "def plot_roc_curve(fpr, tpr, label=None):\n",
        "  plt.plot(fpr, tpr, linewidth=2, label=label)\n",
        "  plt.plot([0,1], [0,1], 'k--')\n",
        "\n",
        "plot_roc_curve(fpr, tpr)\n",
        "plt.show()"
      ],
      "execution_count": 47,
      "outputs": [
        {
          "output_type": "display_data",
          "data": {
            "image/png": "[encoded data removed]",
            "text/plain": [
              "<Figure size 432x288 with 1 Axes>"
            ]
          },
          "metadata": {
            "needs_background": "light"
          }
        }
      ]
    },
    {
      "cell_type": "markdown",
      "metadata": {
        "id": "wyLK0rISZWSx"
      },
      "source": [
        "- ROC 면적이 넓어야함"
      ]
    },
    {
      "cell_type": "code",
      "metadata": {
        "colab": {
          "base_uri": "https://localhost:8080/"
        },
        "id": "oiRMgWC-ZS9i",
        "outputId": "2801d014-8e9f-4943-df69-1f73b99aceec"
      },
      "source": [
        "from sklearn.metrics import roc_auc_score\n",
        "roc_auc_score(y_train_5, y_scores)"
      ],
      "execution_count": 49,
      "outputs": [
        {
          "output_type": "execute_result",
          "data": {
            "text/plain": [
              "0.9604938554008616"
            ]
          },
          "metadata": {},
          "execution_count": 49
        }
      ]
    },
    {
      "cell_type": "code",
      "metadata": {
        "id": "R64Nw7YhZdh3"
      },
      "source": [
        "## RandomForestClassifier와 비교\n",
        "from sklearn.ensemble import RandomForestClassifier\n",
        "\n",
        "forest_clf = RandomForestClassifier(random_state=42)\n",
        "y_probas_forest=cross_val_predict(forest_clf, X_train, y_train_5, cv=3, method=\"predict_proba\")"
      ],
      "execution_count": 50,
      "outputs": []
    },
    {
      "cell_type": "code",
      "metadata": {
        "id": "w604dhTOZ0UE"
      },
      "source": [
        "y_scores_forest = y_probas_forest[:,1]\n",
        "fpr_forest, tpr_forest, thresholds_forest=roc_curve(y_train_5, y_scores_forest)"
      ],
      "execution_count": 51,
      "outputs": []
    },
    {
      "cell_type": "code",
      "metadata": {
        "colab": {
          "base_uri": "https://localhost:8080/",
          "height": 265
        },
        "id": "pC7c1LlbZ941",
        "outputId": "f7751b4f-3137-4d0c-8120-42b9f4059c30"
      },
      "source": [
        "plt.plot(fpr, tpr, \"b:\", label=\"SGD\")\n",
        "plot_roc_curve(fpr_forest, tpr_forest, \"RandomForest\")\n",
        "plt.legend(loc=\"lower right\")\n",
        "plt.show()"
      ],
      "execution_count": 53,
      "outputs": [
        {
          "output_type": "display_data",
          "data": {
            "image/png": "[encoded data removed]",
            "text/plain": [
              "<Figure size 432x288 with 1 Axes>"
            ]
          },
          "metadata": {
            "needs_background": "light"
          }
        }
      ]
    },
    {
      "cell_type": "markdown",
      "metadata": {
        "id": "6ioAmzc8aNxx"
      },
      "source": [
        "- Random Forest 기법이 더 좋음."
      ]
    },
    {
      "cell_type": "code",
      "metadata": {
        "id": "Z84GHnW4aKKl"
      },
      "source": [
        ""
      ],
      "execution_count": null,
      "outputs": []
    }
  ]
}