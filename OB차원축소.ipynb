{
  "nbformat": 4,
  "nbformat_minor": 0,
  "metadata": {
    "colab": {
      "name": "OB차원축소.ipynb",
      "provenance": [],
      "collapsed_sections": [],
      "include_colab_link": true
    },
    "kernelspec": {
      "name": "python3",
      "display_name": "Python 3"
    },
    "language_info": {
      "name": "python"
    }
  },
  "cells": [
    {
      "cell_type": "markdown",
      "metadata": {
        "id": "view-in-github",
        "colab_type": "text"
      },
      "source": [
        "<a href=\"https://colab.research.google.com/github/Seowoo-Jung/ESAA/blob/main/OB%EC%B0%A8%EC%9B%90%EC%B6%95%EC%86%8C.ipynb\" target=\"_parent\"><img src=\"https://colab.research.google.com/assets/colab-badge.svg\" alt=\"Open In Colab\"/></a>"
      ]
    },
    {
      "cell_type": "markdown",
      "metadata": {
        "id": "9dqhGeEZiQn-"
      },
      "source": [
        "1. 데이터셋의 차원을 축소하는 목적은 무엇인가요? 대표적인 단점은 무엇인가요?"
      ]
    },
    {
      "cell_type": "markdown",
      "metadata": {
        "id": "KjQ1_L_FiqDb"
      },
      "source": [
        "*** 훈련 알고리즘의 속도를 높이고 가장 중요한 특성을 뽑아내기 위해 차원 축호한다. 단점은 일부 정보의 손실이 있을수 있고 계산이 많다.***"
      ]
    },
    {
      "cell_type": "markdown",
      "metadata": {
        "id": "koJ9d34cibn2"
      },
      "source": [
        "2. 기본 PCA, 점진적 PCA, 랜덤 PCA,커널 PCA는 어느 경우에 사용될까요?"
      ]
    },
    {
      "cell_type": "markdown",
      "metadata": {
        "id": "P9e-3-HzimIE"
      },
      "source": [
        "***기본 PCA는 데이터셋의 크기가 메모리에 맞을 때 사용한다. 점진적 PCA는 대용량 데이터셋에 적합한다. 랜덤 PCA는 데이터셋이 메모리크기에 맞고 차원을 크게 축소시킬 때 사용하여 기본 PCA보다 속도가 빠르다. 커널 PCA는 비선형 데이터셋에 유용하다.***"
      ]
    },
    {
      "cell_type": "markdown",
      "metadata": {
        "id": "28ZlnWKbi-fL"
      },
      "source": [
        "3. MNIST 데이터셋을 로드하고 훈련세트와 테스트세트로 분할하겠습니다."
      ]
    },
    {
      "cell_type": "markdown",
      "metadata": {
        "id": "NaWuyONJk_6l"
      },
      "source": [
        "# 모듈 설정 및 데이터 불러오기"
      ]
    },
    {
      "cell_type": "code",
      "metadata": {
        "id": "vC5y5w5TjJeb"
      },
      "source": [
        "# 파이썬 ≥3.5 필수\n",
        "import sys\n",
        "assert sys.version_info >= (3, 5)\n",
        "\n",
        "# 사이킷런 ≥0.20 필수\n",
        "import sklearn\n",
        "assert sklearn.__version__ >= \"0.20\"\n",
        "\n",
        "# 공통 모듈 임포트\n",
        "import numpy as np\n",
        "import os\n",
        "\n",
        "# 노트북 실행 결과를 동일하게 유지하기 위해\n",
        "np.random.seed(42)\n",
        "\n",
        "# MNIST 불러오기\n",
        "from sklearn.datasets import fetch_openml\n",
        "\n",
        "mnist = fetch_openml('mnist_784', version=1, as_frame=False)\n",
        "mnist.target = mnist.target.astype(np.uint8)"
      ],
      "execution_count": 1,
      "outputs": []
    },
    {
      "cell_type": "markdown",
      "metadata": {
        "id": "sE46F301lsCK"
      },
      "source": [
        "# 훈련세트와 테스트세트로 분할"
      ]
    },
    {
      "cell_type": "code",
      "metadata": {
        "id": "3FCer4bbjI_E"
      },
      "source": [
        "# 첫 60000개는 훈련을 위한 샘플, 나머지 10000개는 테스트용으로 분할\n",
        "X_train = mnist['data'][:60000]\n",
        "y_train = mnist['target'][:60000]\n",
        "\n",
        "X_test = mnist['data'][60000:]\n",
        "y_test = mnist['target'][60000:]"
      ],
      "execution_count": 2,
      "outputs": []
    },
    {
      "cell_type": "markdown",
      "metadata": {
        "id": "1xe-EAtul6hi"
      },
      "source": [
        "3.1 이 데이터셋을 랜덤 포레스트 분류기로 훈련시키고 시간이 얼마나 오래걸리는지 시간을 잰 후, 테스트 세트로 만들어진 모델의 정확도를 평가합니다."
      ]
    },
    {
      "cell_type": "code",
      "metadata": {
        "id": "0onbkszcmNPQ"
      },
      "source": [
        "# 랜덤포레스트로 훈련시키는 코드\n",
        "from sklearn.ensemble import RandomForestClassifier\n",
        "\n",
        "rnd_clf = RandomForestClassifier(n_estimators=100, random_state=42)"
      ],
      "execution_count": 3,
      "outputs": []
    },
    {
      "cell_type": "code",
      "metadata": {
        "colab": {
          "base_uri": "https://localhost:8080/"
        },
        "id": "MTY66DlXmWGv",
        "outputId": "19c34125-fed7-4deb-b9ae-0e28d6cca768"
      },
      "source": [
        "# 훈련 시간을 재는 코드입니다.\n",
        "import time\n",
        "\n",
        "t0 = time.time()\n",
        "rnd_clf.fit(X_train, y_train)\n",
        "t1 = time.time()\n",
        "\n",
        "print(\"훈련 시간: {:.2f}s\".format(t1 - t0))"
      ],
      "execution_count": 4,
      "outputs": [
        {
          "output_type": "stream",
          "name": "stdout",
          "text": [
            "훈련 시간: 45.75s\n"
          ]
        }
      ]
    },
    {
      "cell_type": "code",
      "metadata": {
        "colab": {
          "base_uri": "https://localhost:8080/"
        },
        "id": "klCgXFh3mz-H",
        "outputId": "ffb2737b-db06-490f-ddd1-294c13d338d5"
      },
      "source": [
        "# 정확도 평가 코드입니다.\n",
        "from sklearn.metrics import accuracy_score\n",
        "\n",
        "y_pred = rnd_clf.predict(X_test)\n",
        "accuracy_score(y_test, y_pred)"
      ],
      "execution_count": 5,
      "outputs": [
        {
          "output_type": "execute_result",
          "data": {
            "text/plain": [
              "0.9705"
            ]
          },
          "metadata": {},
          "execution_count": 5
        }
      ]
    },
    {
      "cell_type": "markdown",
      "metadata": {
        "id": "tme14Nezm8fI"
      },
      "source": [
        "**3.2 문제 : 데이터셋을 PCA를 사용해 설명된 분산이 95%가 되도록 차원을 축소하세요**"
      ]
    },
    {
      "cell_type": "code",
      "metadata": {
        "id": "6xmHLxA-nGkb"
      },
      "source": [
        "from sklearn.decomposition import PCA\n",
        "pca=PCA(n_components=0.95)\n",
        "X_reduced=pca.fit_transform(X_train)"
      ],
      "execution_count": 17,
      "outputs": []
    },
    {
      "cell_type": "markdown",
      "metadata": {
        "id": "5JHF-cvTnH_t"
      },
      "source": [
        "**3.3 문제 : 이 축소된 데이터셋에 위와 같이 새로운 랜덤포레스트 분류기를 훈련시키고 얼마나 오래걸리는지 확인합니다. 훈련 시간이 빨라졌나요?**"
      ]
    },
    {
      "cell_type": "code",
      "metadata": {
        "id": "iJwlAOF2nfiE",
        "colab": {
          "base_uri": "https://localhost:8080/"
        },
        "outputId": "0dd85c20-df94-4337-c45c-a357516529d6"
      },
      "source": [
        "rnd_clf_pca = RandomForestClassifier(n_estimators=100, random_state=42)\n",
        "t0 = time.time()\n",
        "rnd_clf_pca.fit(X_reduced, y_train)\n",
        "t1 = time.time()\n",
        "\n",
        "print(\"훈련 시간: {:.2f}s\".format(t1 - t0))"
      ],
      "execution_count": 8,
      "outputs": [
        {
          "output_type": "stream",
          "name": "stdout",
          "text": [
            "훈련 시간: 102.80s\n"
          ]
        }
      ]
    },
    {
      "cell_type": "code",
      "metadata": {
        "id": "aUsCD5QDnhDn"
      },
      "source": [
        "# 더 오래걸린다."
      ],
      "execution_count": null,
      "outputs": []
    },
    {
      "cell_type": "markdown",
      "metadata": {
        "id": "5akaZqgnnkIZ"
      },
      "source": [
        "**3.4 문제: 이 테스트 세트에서 이 분류기의 정확도를 평가해보세요. 이전 분류기와 비교해서 어떤가요?**"
      ]
    },
    {
      "cell_type": "code",
      "metadata": {
        "id": "UeShGy29nqrJ",
        "colab": {
          "base_uri": "https://localhost:8080/"
        },
        "outputId": "bea5ef2c-a019-4bc2-8856-02ae83267e9a"
      },
      "source": [
        "X_test_pca=pca.transform(X_test) # 여기서 pca fit하지 않고 transform만한다.-->train에서 얻었던걸 바탕으로 바꾸기 때문.\n",
        "y_pred_pca = rnd_clf_pca.predict(X_test_pca)\n",
        "accuracy_score(y_test, y_pred_pca)"
      ],
      "execution_count": 18,
      "outputs": [
        {
          "output_type": "execute_result",
          "data": {
            "text/plain": [
              "0.9481"
            ]
          },
          "metadata": {},
          "execution_count": 18
        }
      ]
    },
    {
      "cell_type": "markdown",
      "metadata": {
        "id": "1z6q2On3ocXr"
      },
      "source": [
        "3.5 소프트 맥스 회귀를 사용해서도 같은 방식으로 실험을 해봅니다."
      ]
    },
    {
      "cell_type": "code",
      "metadata": {
        "id": "14CAbbqVojVi",
        "colab": {
          "base_uri": "https://localhost:8080/"
        },
        "outputId": "df3111c5-5a65-4fdd-8156-95746d65ff6d"
      },
      "source": [
        "# 차원축소 이전의 코드\n",
        "from sklearn.linear_model import LogisticRegression\n",
        "\n",
        "log_clf = LogisticRegression(multi_class=\"multinomial\", solver=\"lbfgs\", random_state=42)\n",
        "t0 = time.time()\n",
        "log_clf.fit(X_train, y_train)\n",
        "t1 = time.time()"
      ],
      "execution_count": 14,
      "outputs": [
        {
          "output_type": "stream",
          "name": "stderr",
          "text": [
            "/usr/local/lib/python3.7/dist-packages/sklearn/linear_model/_logistic.py:818: ConvergenceWarning: lbfgs failed to converge (status=1):\n",
            "STOP: TOTAL NO. of ITERATIONS REACHED LIMIT.\n",
            "\n",
            "Increase the number of iterations (max_iter) or scale the data as shown in:\n",
            "    https://scikit-learn.org/stable/modules/preprocessing.html\n",
            "Please also refer to the documentation for alternative solver options:\n",
            "    https://scikit-learn.org/stable/modules/linear_model.html#logistic-regression\n",
            "  extra_warning_msg=_LOGISTIC_SOLVER_CONVERGENCE_MSG,\n"
          ]
        }
      ]
    },
    {
      "cell_type": "code",
      "metadata": {
        "id": "H8YQXt91ovnL",
        "colab": {
          "base_uri": "https://localhost:8080/"
        },
        "outputId": "15c24261-1dd3-412d-e973-b4a8654b86b4"
      },
      "source": [
        "print(\"훈련 시간: {:.2f}s\".format(t1 - t0))"
      ],
      "execution_count": 15,
      "outputs": [
        {
          "output_type": "stream",
          "name": "stdout",
          "text": [
            "훈련 시간: 46.34s\n"
          ]
        }
      ]
    },
    {
      "cell_type": "code",
      "metadata": {
        "id": "DJMencFdoxIE",
        "colab": {
          "base_uri": "https://localhost:8080/"
        },
        "outputId": "a3ab6b92-df07-4790-80ce-b04cc9126863"
      },
      "source": [
        "y_pred = log_clf.predict(X_test)\n",
        "accuracy_score(y_test, y_pred)"
      ],
      "execution_count": 16,
      "outputs": [
        {
          "output_type": "execute_result",
          "data": {
            "text/plain": [
              "0.9255"
            ]
          },
          "metadata": {},
          "execution_count": 16
        }
      ]
    },
    {
      "cell_type": "markdown",
      "metadata": {
        "id": "_SR8DpJTozQz"
      },
      "source": [
        "**3.6 문제 : 3.2에서 축소된 데이터 셋을 사용해 소프트맥스 회귀모델을 훈련시켜보세요. 그리고 훈련시간을 확인하세요**"
      ]
    },
    {
      "cell_type": "code",
      "metadata": {
        "id": "cj2v-6BzpMW0",
        "colab": {
          "base_uri": "https://localhost:8080/"
        },
        "outputId": "ad47febc-39ef-4806-b18c-51502543ddd6"
      },
      "source": [
        "log_clf_pca = LogisticRegression(multi_class=\"multinomial\", solver=\"lbfgs\", random_state=42)\n",
        "t0 = time.time()\n",
        "log_clf_pca.fit(X_reduced, y_train)\n",
        "t1 = time.time()"
      ],
      "execution_count": 19,
      "outputs": [
        {
          "output_type": "stream",
          "name": "stderr",
          "text": [
            "/usr/local/lib/python3.7/dist-packages/sklearn/linear_model/_logistic.py:818: ConvergenceWarning: lbfgs failed to converge (status=1):\n",
            "STOP: TOTAL NO. of ITERATIONS REACHED LIMIT.\n",
            "\n",
            "Increase the number of iterations (max_iter) or scale the data as shown in:\n",
            "    https://scikit-learn.org/stable/modules/preprocessing.html\n",
            "Please also refer to the documentation for alternative solver options:\n",
            "    https://scikit-learn.org/stable/modules/linear_model.html#logistic-regression\n",
            "  extra_warning_msg=_LOGISTIC_SOLVER_CONVERGENCE_MSG,\n"
          ]
        }
      ]
    },
    {
      "cell_type": "code",
      "metadata": {
        "id": "ZNjNXE-GpSjz",
        "colab": {
          "base_uri": "https://localhost:8080/"
        },
        "outputId": "7e2c265a-5467-4f4b-f89c-3f691383e459"
      },
      "source": [
        "print(\"훈련 시간: {:.2f}s\".format(t1 - t0))"
      ],
      "execution_count": 20,
      "outputs": [
        {
          "output_type": "stream",
          "name": "stdout",
          "text": [
            "훈련 시간: 15.45s\n"
          ]
        }
      ]
    },
    {
      "cell_type": "markdown",
      "metadata": {
        "id": "wMy1L2nSpWZm"
      },
      "source": [
        "**3.7 문제 : 모델의 정확도도 확인해보세요**"
      ]
    },
    {
      "cell_type": "code",
      "metadata": {
        "id": "hQtH-9ghpkw3",
        "colab": {
          "base_uri": "https://localhost:8080/"
        },
        "outputId": "60a7617a-a95e-4478-a573-3fc87eb546d3"
      },
      "source": [
        "y_pred = log_clf_pca.predict(X_test_pca)\n",
        "accuracy_score(y_test, y_pred)"
      ],
      "execution_count": 23,
      "outputs": [
        {
          "output_type": "execute_result",
          "data": {
            "text/plain": [
              "0.9201"
            ]
          },
          "metadata": {},
          "execution_count": 23
        }
      ]
    },
    {
      "cell_type": "markdown",
      "metadata": {
        "id": "55eN4bcItVNl"
      },
      "source": [
        "**3.8 문제 : 랜덤포레스트 모형의 훈련시간과 정확도, 소프트맥스 모형의 훈련시간과 정확도를 비교해보세요.**"
      ]
    },
    {
      "cell_type": "markdown",
      "metadata": {
        "id": "FZfgxC2vtW-d"
      },
      "source": [
        "***랜덤포레스트보다 소프트맥스 모형이 훈련시간이 더 짧다. 그러나 정확도는 랜덤 포레스트 모형이 더 높다. ***"
      ]
    }
  ]
}