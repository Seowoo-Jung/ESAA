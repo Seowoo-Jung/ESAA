{
  "nbformat": 4,
  "nbformat_minor": 0,
  "metadata": {
    "colab": {
      "name": "추천시스템(8).ipynb",
      "provenance": [],
      "authorship_tag": "ABX9TyP691ii65raGaM0aWD4MiSL",
      "include_colab_link": true
    },
    "kernelspec": {
      "name": "python3",
      "display_name": "Python 3"
    },
    "language_info": {
      "name": "python"
    }
  },
  "cells": [
    {
      "cell_type": "markdown",
      "metadata": {
        "id": "view-in-github",
        "colab_type": "text"
      },
      "source": [
        "<a href=\"https://colab.research.google.com/github/Seowoo-Jung/ESAA/blob/main/%EC%B6%94%EC%B2%9C%EC%8B%9C%EC%8A%A4%ED%85%9C(8).ipynb\" target=\"_parent\"><img src=\"https://colab.research.google.com/assets/colab-badge.svg\" alt=\"Open In Colab\"/></a>"
      ]
    },
    {
      "cell_type": "markdown",
      "metadata": {
        "id": "LzRNNcB7htxj"
      },
      "source": [
        "# (6주차) 8. 파이썬 추천 시스템 패키지 - Surprise (p.607 ~ 624)\n",
        "\n",
        "### 1) Surprise 패키지 소개\n",
        "\n",
        "- 장점: 다양한 추천 알고리즘(아이템 기반, 잠재요인 협업필터링)을 쉽게 사용할 수 있음. fit, predict()같은 함수들 이름이 사이킷 런 모델링과 비슷\n",
        "\n",
        "\n",
        "### 2) Surprise 를 이용한 추천 시스템 구축\n",
        "\n",
        "[Example]\n",
        "- train, test 분리 후 잠재요인협업필터링(SVD 행렬분해) 수행."
      ]
    },
    {
      "cell_type": "code",
      "metadata": {
        "colab": {
          "base_uri": "https://localhost:8080/"
        },
        "id": "u11ME5W8jQBX",
        "outputId": "717169e6-70af-45cd-db80-1a2f43acbb4b"
      },
      "source": [
        "! pip install scikit-surprise"
      ],
      "execution_count": 19,
      "outputs": [
        {
          "output_type": "stream",
          "name": "stdout",
          "text": [
            "Requirement already satisfied: scikit-surprise in /usr/local/lib/python3.7/dist-packages (1.1.1)\n",
            "Requirement already satisfied: scipy>=1.0.0 in /usr/local/lib/python3.7/dist-packages (from scikit-surprise) (1.4.1)\n",
            "Requirement already satisfied: joblib>=0.11 in /usr/local/lib/python3.7/dist-packages (from scikit-surprise) (1.0.1)\n",
            "Requirement already satisfied: numpy>=1.11.2 in /usr/local/lib/python3.7/dist-packages (from scikit-surprise) (1.19.5)\n",
            "Requirement already satisfied: six>=1.10.0 in /usr/local/lib/python3.7/dist-packages (from scikit-surprise) (1.15.0)\n"
          ]
        }
      ]
    },
    {
      "cell_type": "code",
      "metadata": {
        "id": "aUuHukt4hkxm"
      },
      "source": [
        "from surprise import SVD\n",
        "from surprise import Dataset\n",
        "from surprise import accuracy\n",
        "from surprise.model_selection import train_test_split"
      ],
      "execution_count": 20,
      "outputs": []
    },
    {
      "cell_type": "code",
      "metadata": {
        "id": "j5qZMS_rjBrl"
      },
      "source": [
        "## 데이터 로딩 : Surprise에 Dataset 클래스를 통해서만 가능\n",
        "# MovieLens 사이트에서 제공하는 과거 데이터 세트를 가져온다.\n",
        "data = Dataset.load_builtin('ml-100k') # 이거 실행하면 아카이브 사이트로부터 내려받아 로컬 디렉터리에 저장하게됨\n",
        "#수행 시마다 동일하게 데이터를 분할하기 위해 random_state 값 부여\n",
        "trainset, testset = train_test_split(data, test_size=0.25, random_state=0)"
      ],
      "execution_count": 21,
      "outputs": []
    },
    {
      "cell_type": "code",
      "metadata": {
        "id": "WPAwI-WPj9Y7",
        "colab": {
          "base_uri": "https://localhost:8080/"
        },
        "outputId": "93bd9f6b-fe30-414e-a12d-0eedda0bb6ba"
      },
      "source": [
        "# 데이터 파일 분리문자: \\t\n",
        "# 로우 레벨의 사용자-아이템 평점 데이터를 그대로 적용해야함. (데이터 다운받은 그대로 변환)\n",
        "# (아이템 아이디를 칼럼명으로 변환하여 사용자-아이템 평점 행렬을 변환함)\n",
        "# Surprise는 자체적으로 로우 레벨의 데이터를 칼럼레벨 데이터로 변경하기 때문에 로우 레벨 데이터 세트로 적용\n",
        "\n",
        "algo=SVD()\n",
        "algo.fit(trainset) # 학습"
      ],
      "execution_count": 22,
      "outputs": [
        {
          "output_type": "execute_result",
          "data": {
            "text/plain": [
              "<surprise.prediction_algorithms.matrix_factorization.SVD at 0x7f2277d77bd0>"
            ]
          },
          "metadata": {},
          "execution_count": 22
        }
      ]
    },
    {
      "cell_type": "code",
      "metadata": {
        "colab": {
          "base_uri": "https://localhost:8080/"
        },
        "id": "siNIHx47lr_V",
        "outputId": "c6623878-8915-4771-ee55-c52490e74697"
      },
      "source": [
        "# SVD 행렬로 분해 후 추천 예측(test, predict)\n",
        "## test 함수를 이용한 예측\n",
        "predictions = algo.test(testset) # 입력된 데이터 세트에 대한 추천 데이터 세트 반환.\n",
        "print('prediction type: ', type(predictions), ' size:', len(predictions)) # size는 데이터 세트 크기와 같음. \n",
        "print('prediction 결과의 최초 5개 추출') \n",
        "predictions[:5]"
      ],
      "execution_count": 23,
      "outputs": [
        {
          "output_type": "stream",
          "name": "stdout",
          "text": [
            "prediction type:  <class 'list'>  size: 25000\n",
            "prediction 결과의 최초 5개 추출\n"
          ]
        },
        {
          "output_type": "execute_result",
          "data": {
            "text/plain": [
              "[Prediction(uid='120', iid='282', r_ui=4.0, est=3.7078770868862008, details={'was_impossible': False}),\n",
              " Prediction(uid='882', iid='291', r_ui=4.0, est=3.9364634601237563, details={'was_impossible': False}),\n",
              " Prediction(uid='535', iid='507', r_ui=5.0, est=4.288764788884727, details={'was_impossible': False}),\n",
              " Prediction(uid='697', iid='244', r_ui=5.0, est=3.371276048305824, details={'was_impossible': False}),\n",
              " Prediction(uid='751', iid='385', r_ui=4.0, est=3.7264836624995277, details={'was_impossible': False})]"
            ]
          },
          "metadata": {},
          "execution_count": 23
        }
      ]
    },
    {
      "cell_type": "markdown",
      "metadata": {
        "id": "gacDsKAonGI9"
      },
      "source": [
        " - uid: 개별 사용자 id\n",
        " - iid: 영화 아이디 \n",
        " - r_ui: 실제 평점\n",
        " - est: 예측 평점 \n",
        " - details: 추천을 예측할 수 없는 경우 로그용 ('was_impossible': True)이면 예측값 생성 할 수 없음."
      ]
    },
    {
      "cell_type": "code",
      "metadata": {
        "colab": {
          "base_uri": "https://localhost:8080/"
        },
        "id": "_Y63ac-2mIwS",
        "outputId": "eb5cc1e8-8b2f-467c-e78e-d3cc2e561fa2"
      },
      "source": [
        "# prediction 객체의 속성에 접근\n",
        "[(pred.uid, pred.iid, pred.est) for pred in predictions[:3]]"
      ],
      "execution_count": 24,
      "outputs": [
        {
          "output_type": "execute_result",
          "data": {
            "text/plain": [
              "[('120', '282', 3.7078770868862008),\n",
              " ('882', '291', 3.9364634601237563),\n",
              " ('535', '507', 4.288764788884727)]"
            ]
          },
          "metadata": {},
          "execution_count": 24
        }
      ]
    },
    {
      "cell_type": "code",
      "metadata": {
        "colab": {
          "base_uri": "https://localhost:8080/"
        },
        "id": "AimufII5nbp1",
        "outputId": "2c92bd5d-68e0-419b-cad9-1cf7c8cd6b70"
      },
      "source": [
        "## predict를 이용한 추천 예측: 개별 사용자의 아이템에 대한 추천 평점\n",
        "# 사용자 아이디, 아이템 아이디는 \"문자열\"로 입력해야함\n",
        "uid=str(196)\n",
        "iid=str(302)\n",
        "pred=algo.predict(uid, iid)\n",
        "print(pred)"
      ],
      "execution_count": 25,
      "outputs": [
        {
          "output_type": "stream",
          "name": "stdout",
          "text": [
            "user: 196        item: 302        r_ui = None   est = 4.01   {'was_impossible': False}\n"
          ]
        }
      ]
    },
    {
      "cell_type": "markdown",
      "metadata": {
        "id": "TLD2hCAan1V3"
      },
      "source": [
        "test() 는 predict() 여러번 반복한 것."
      ]
    },
    {
      "cell_type": "code",
      "metadata": {
        "colab": {
          "base_uri": "https://localhost:8080/"
        },
        "id": "o8vwcAqsnv8O",
        "outputId": "7b22e7e8-bc43-493f-fa4c-511f32da073f"
      },
      "source": [
        "# 실제값과 예측 평점 사이의 차이(성능)\n",
        "accuracy.rmse(predictions)"
      ],
      "execution_count": 26,
      "outputs": [
        {
          "output_type": "stream",
          "name": "stdout",
          "text": [
            "RMSE: 0.9481\n"
          ]
        },
        {
          "output_type": "execute_result",
          "data": {
            "text/plain": [
              "0.9481426733566418"
            ]
          },
          "metadata": {},
          "execution_count": 26
        }
      ]
    },
    {
      "cell_type": "markdown",
      "metadata": {
        "id": "5086WL-5oeBp"
      },
      "source": [
        "### 3) Surprise 주요 모듈 소개\n",
        "\n",
        "- Dataset\n",
        "\n",
        "< OS 파일 데이터를 Suprise로 로딩: Dataset.load_from_file>\n",
        "\n",
        ": low-level dataset 만 적용할 수 있음.\n",
        "\n",
        ": user_id, item_id, rating 순으로 되어있어야 하고 네번째 칼럼부터는 로딩하지 않음."
      ]
    },
    {
      "cell_type": "code",
      "metadata": {
        "id": "FP6zXch1n_28"
      },
      "source": [
        "import pandas as pd\n",
        "\n",
        "ratings = pd.read_csv(\"/ratings.csv\")\n",
        "# ratings_noh.csv 파일로 언로드 인덱스와 헤더를 모두 제거한 새로운 파일 생성\n",
        "ratings.to_csv(\"/ratings_noh.csv\", index=False, header=False)"
      ],
      "execution_count": 27,
      "outputs": []
    },
    {
      "cell_type": "code",
      "metadata": {
        "id": "o9EScywQq8qC"
      },
      "source": [
        "# ratings_noh.csv 임포트 \n",
        "# Reader 클래스를 이용하여 파싱 포맷지정.(데이터는 콤마로 분리되어있음)\n",
        "# 칼럼명, 분리문자, 최소~최대평점을 입력하여 데이터 파일을 파싱하면서 로딩\n",
        "from surprise import Reader\n",
        "\n",
        "reader=Reader(line_format='user item rating timestamp', sep=',',rating_scale=(0.5,5))\n",
        "data=Dataset.load_from_file('/ratings_noh.csv', reader=reader)"
      ],
      "execution_count": 28,
      "outputs": []
    },
    {
      "cell_type": "markdown",
      "metadata": {
        "id": "QHUMastjsLvq"
      },
      "source": [
        "- Surprise 데이터 세트를 쓰는 경우 무비렌즈 데이터 형식을 따르므로 외부에서 데이터를 가져올때 Reader클래스를 설정하여 형식을 지정해줘야한다.\n",
        "\n",
        "<Reader 클래스의 주요 생성 파라미터>\n",
        "\n",
        "- line_format: 공백으로 분리하여 칼럼 인식\n",
        "- sep: 칼럼을 분리하는 분리자. default='\\t'\n",
        "- raing_scale: 평점의 최대, 최소, default=(1,5)"
      ]
    },
    {
      "cell_type": "code",
      "metadata": {
        "colab": {
          "base_uri": "https://localhost:8080/"
        },
        "id": "qXbk3Omyrqpm",
        "outputId": "f1082548-a00b-4584-ac0c-c42f10eeb7b3"
      },
      "source": [
        "## 예측\n",
        "trainset, testset = train_test_split(data, test_size=0.25, random_state=0)\n",
        "\n",
        "#수행 시마다 동일한 결과를 도출하기 위해 random_state 설정\n",
        "algo=SVD(n_factors=50, random_state=0)\n",
        "\n",
        "#학습 데이터 세트로 학습하고 나서 테스트 데이터 세트로 평점 예측 후 RMSE 평가\n",
        "algo.fit(trainset)\n",
        "predictions=algo.test(testset)\n",
        "accuracy.rmse(predictions)"
      ],
      "execution_count": 29,
      "outputs": [
        {
          "output_type": "stream",
          "name": "stdout",
          "text": [
            "RMSE: 0.8682\n"
          ]
        },
        {
          "output_type": "execute_result",
          "data": {
            "text/plain": [
              "0.8681952927143516"
            ]
          },
          "metadata": {},
          "execution_count": 29
        }
      ]
    },
    {
      "cell_type": "markdown",
      "metadata": {
        "id": "UGKrTkvItK3f"
      },
      "source": [
        "< 판다스에서 Surprise 데이터 세트로 로딩 : Dataset.load_from_df() 사용>\n",
        "\n",
        "- 순서를 반드시 지킨다! (사용자 id, 아이템 id, 평점)\n",
        "\n",
        "\n",
        "\n"
      ]
    },
    {
      "cell_type": "code",
      "metadata": {
        "colab": {
          "base_uri": "https://localhost:8080/"
        },
        "id": "8ommnM3Rs7Rc",
        "outputId": "79719d45-5903-4825-aed6-07e9535577f4"
      },
      "source": [
        "import pandas as pd\n",
        "from surprise import Reader, Dataset\n",
        "\n",
        "ratings=pd.read_csv(\"/ratings.csv\")\n",
        "reader=Reader(rating_scale=(0.5, 5.0))\n",
        "\n",
        "# ratings Dataframe 에서 칼럼은 사용자 아이디, 아이템 아이디, 평점 순서를 지켜야함.\n",
        "data = Dataset.load_from_df(ratings[['userId', 'movieId', 'rating']], reader)\n",
        "# ratings[['userId', 'movieId', 'rating']]: 이렇게 설정하면 어차피 안에 내용만 들어가게되니까 header제거 필요없네..\n",
        "trainset, testsets = train_test_split(data, test_size=0.25, random_state=0)\n",
        "\n",
        "algo=SVD(n_factors=50, random_state=0)\n",
        "algo.fit(trainset)\n",
        "predictions = algo.test(testset)\n",
        "accuracy.rmse(predictions)"
      ],
      "execution_count": 30,
      "outputs": [
        {
          "output_type": "stream",
          "name": "stdout",
          "text": [
            "RMSE: 1.0388\n"
          ]
        },
        {
          "output_type": "execute_result",
          "data": {
            "text/plain": [
              "1.0387858758781252"
            ]
          },
          "metadata": {},
          "execution_count": 30
        }
      ]
    },
    {
      "cell_type": "markdown",
      "metadata": {
        "id": "yE7_oGHruJv-"
      },
      "source": [
        "### 4) Surprise 추천 알고리즘 클래스\n",
        "\n",
        ": SVD, KNNBasic, BaselineOnly\n",
        "\n",
        "- SVD: SVD의 비용함수는 베이스라인의 편향성을 감안한 평점 예측에 정규화를 적용한 것!\n",
        "\n",
        "--> 베이스 라인?\n",
        "\n",
        "베이스라인 모형(baseline model)은 사용자 아이디 u, 상품 아이디 i, 두 개의 카테고리 값 입력에서 평점 r(u,i)의 예측치 r^(u,i) 을 예측하는 가장 단순한 회귀분석모형으로 다음과 같이 사용자와 상품 특성에 의한 평균 평점의 합으로 나타난다.\n",
        "\n",
        "r^(u,i)=μ+b(u)+b(i) -->사용자 취향(편향) 적용 + 과최적화를 피하기 위해 정규화 적용.\n",
        "\n",
        "블로그 참고: https://datascienceschool.net/03%20machine%20learning/07.01%20%EC%B6%94%EC%B2%9C%20%EC%8B%9C%EC%8A%A4%ED%85%9C.html#id4\n",
        "\n",
        "### 5) 베이스라인 평점\n",
        "\n",
        ": 한 개인의 성향을 반영해 아이템 평가에 편향성(bias)요소를 반영하여 평점을 부과하는 것\n",
        "\n",
        ": 전체 평균 평점 \n",
        "\n",
        "+사용자 편향 점수 (사용자별 아이템 평점 평균 - 전체 평균 평점)\n",
        "\n",
        "+아이템 편향 점수 (아이템별 평점 평균 - 전체 평균 평점)\n",
        "\n",
        "### 6) 교차 검증과 하이퍼 파라미터 튜닝\n",
        "\n",
        ": cross_validate()를 이용!"
      ]
    },
    {
      "cell_type": "code",
      "metadata": {
        "colab": {
          "base_uri": "https://localhost:8080/"
        },
        "id": "4QUGDiRWt_hA",
        "outputId": "0d508428-0d9c-477b-8f9a-3459a6d7bb15"
      },
      "source": [
        "from surprise.model_selection import cross_validate\n",
        "\n",
        "# 판다스 DataFrame에서 Surprise 데이터 세트로 데이터 로딩\n",
        "ratings = pd.read_csv('/ratings.csv')\n",
        "reader=Reader(rating_scale=(0.5, 5.0))\n",
        "data = Dataset.load_from_df(ratings[['userId', 'movieId', 'rating']], reader)\n",
        "\n",
        "algo = SVD(random_state=0)\n",
        "cross_validate(algo, data, measures=['RMSE', 'MAE'], cv=5, verbose=True)"
      ],
      "execution_count": 31,
      "outputs": [
        {
          "output_type": "stream",
          "name": "stdout",
          "text": [
            "Evaluating RMSE, MAE of algorithm SVD on 5 split(s).\n",
            "\n",
            "                  Fold 1  Fold 2  Fold 3  Fold 4  Fold 5  Mean    Std     \n",
            "RMSE (testset)    0.8716  0.8723  0.8755  0.8753  0.8765  0.8742  0.0019  \n",
            "MAE (testset)     0.6693  0.6684  0.6747  0.6742  0.6732  0.6720  0.0026  \n",
            "Fit time          4.91    4.85    4.88    4.85    5.12    4.92    0.10    \n",
            "Test time         0.15    0.29    0.16    0.32    0.15    0.21    0.07    \n"
          ]
        },
        {
          "output_type": "execute_result",
          "data": {
            "text/plain": [
              "{'fit_time': (4.906571388244629,\n",
              "  4.847833871841431,\n",
              "  4.8841328620910645,\n",
              "  4.8467795848846436,\n",
              "  5.116687536239624),\n",
              " 'test_mae': array([0.6693166 , 0.66840321, 0.67465061, 0.67418395, 0.67322438]),\n",
              " 'test_rmse': array([0.87161263, 0.87233666, 0.87549318, 0.87527298, 0.87646657]),\n",
              " 'test_time': (0.15309619903564453,\n",
              "  0.29187750816345215,\n",
              "  0.15668916702270508,\n",
              "  0.3162422180175781,\n",
              "  0.152726411819458)}"
            ]
          },
          "metadata": {},
          "execution_count": 31
        }
      ]
    },
    {
      "cell_type": "code",
      "metadata": {
        "colab": {
          "base_uri": "https://localhost:8080/"
        },
        "id": "CzMkUd7iSlT5",
        "outputId": "cf56c4ce-e784-4132-ba1a-25b6fe31eca1"
      },
      "source": [
        "# 파라미터 최적화\n",
        "from surprise.model_selection import GridSearchCV\n",
        "\n",
        "#최적화할 파라미터를 딕셔너리 형태로 지정.\n",
        "param_grid = {'n_epochs':[20,40,60], 'n_factors':[50,100,200]}\n",
        "\n",
        "# CV를 3개 폴드 세트로 지정, 성능 평가를 rmse, mad로 수행되도록 GridSearchCV 구성\n",
        "gs = GridSearchCV(SVD, param_grid, measures=['rmse', 'mae'], cv=3)\n",
        "gs.fit(data)\n",
        "\n",
        "# 최고 RMSE Evaluation 점수와 그때의 하이퍼 파라미터\n",
        "print(gs.best_score['rmse'])\n",
        "print(gs.best_params['rmse'])"
      ],
      "execution_count": 32,
      "outputs": [
        {
          "output_type": "stream",
          "name": "stdout",
          "text": [
            "0.8769404977431111\n",
            "{'n_epochs': 20, 'n_factors': 50}\n"
          ]
        }
      ]
    },
    {
      "cell_type": "markdown",
      "metadata": {
        "id": "JSh-PfqKTY7W"
      },
      "source": [
        "### 7) Surprise를 이용한 개인화 영화 추천 시스템 구축\n",
        "\n",
        ": 잠재 요인 협업 필터링 기반의 개인화된 영화 추천. (사용자가 평점을 매개지 않은 영화 중 개인 취향에 적절한 영화 추천!\n",
        "\n",
        "- 데이터를 분리하지 않고 전체를 학습 데이터로 사용한다. But, Surprise는 데이터 세트를 TrainSet 클래스 객체로 변환하지 않으면 학습할 수 없다."
      ]
    },
    {
      "cell_type": "code",
      "metadata": {
        "colab": {
          "base_uri": "https://localhost:8080/",
          "height": 287
        },
        "id": "A7mPKB4GTLz6",
        "outputId": "c30daa0f-e7df-44a7-c9af-f56a85cc5eb4"
      },
      "source": [
        "## 오류\n",
        "# 다음 코드는 train_test_split()으로 분리되지 않는 데이터 세트에 fit()을 호출해 오류가 발행합니다.\n",
        "data=Dataset.load_from_df(ratings[['userId', 'movieId', 'rating']], reader)\n",
        "algo=SVD(n_factors=50, random_state=0)\n",
        "algo.fit(data)"
      ],
      "execution_count": 33,
      "outputs": [
        {
          "output_type": "error",
          "ename": "AttributeError",
          "evalue": "ignored",
          "traceback": [
            "\u001b[0;31m---------------------------------------------------------------------------\u001b[0m",
            "\u001b[0;31mAttributeError\u001b[0m                            Traceback (most recent call last)",
            "\u001b[0;32m<ipython-input-33-5287cfec6af5>\u001b[0m in \u001b[0;36m<module>\u001b[0;34m()\u001b[0m\n\u001b[1;32m      3\u001b[0m \u001b[0mdata\u001b[0m\u001b[0;34m=\u001b[0m\u001b[0mDataset\u001b[0m\u001b[0;34m.\u001b[0m\u001b[0mload_from_df\u001b[0m\u001b[0;34m(\u001b[0m\u001b[0mratings\u001b[0m\u001b[0;34m[\u001b[0m\u001b[0;34m[\u001b[0m\u001b[0;34m'userId'\u001b[0m\u001b[0;34m,\u001b[0m \u001b[0;34m'movieId'\u001b[0m\u001b[0;34m,\u001b[0m \u001b[0;34m'rating'\u001b[0m\u001b[0;34m]\u001b[0m\u001b[0;34m]\u001b[0m\u001b[0;34m,\u001b[0m \u001b[0mreader\u001b[0m\u001b[0;34m)\u001b[0m\u001b[0;34m\u001b[0m\u001b[0;34m\u001b[0m\u001b[0m\n\u001b[1;32m      4\u001b[0m \u001b[0malgo\u001b[0m\u001b[0;34m=\u001b[0m\u001b[0mSVD\u001b[0m\u001b[0;34m(\u001b[0m\u001b[0mn_factors\u001b[0m\u001b[0;34m=\u001b[0m\u001b[0;36m50\u001b[0m\u001b[0;34m,\u001b[0m \u001b[0mrandom_state\u001b[0m\u001b[0;34m=\u001b[0m\u001b[0;36m0\u001b[0m\u001b[0;34m)\u001b[0m\u001b[0;34m\u001b[0m\u001b[0;34m\u001b[0m\u001b[0m\n\u001b[0;32m----> 5\u001b[0;31m \u001b[0malgo\u001b[0m\u001b[0;34m.\u001b[0m\u001b[0mfit\u001b[0m\u001b[0;34m(\u001b[0m\u001b[0mdata\u001b[0m\u001b[0;34m)\u001b[0m\u001b[0;34m\u001b[0m\u001b[0;34m\u001b[0m\u001b[0m\n\u001b[0m",
            "\u001b[0;32m/usr/local/lib/python3.7/dist-packages/surprise/prediction_algorithms/matrix_factorization.pyx\u001b[0m in \u001b[0;36msurprise.prediction_algorithms.matrix_factorization.SVD.fit\u001b[0;34m()\u001b[0m\n",
            "\u001b[0;32m/usr/local/lib/python3.7/dist-packages/surprise/prediction_algorithms/matrix_factorization.pyx\u001b[0m in \u001b[0;36msurprise.prediction_algorithms.matrix_factorization.SVD.sgd\u001b[0;34m()\u001b[0m\n",
            "\u001b[0;31mAttributeError\u001b[0m: 'DatasetAutoFolds' object has no attribute 'global_mean'"
          ]
        }
      ]
    },
    {
      "cell_type": "markdown",
      "metadata": {
        "id": "paLlejhqUNie"
      },
      "source": [
        "따라서 전체 데이터를 학습하려면 DatasetAutoFolds 클래스 사용!"
      ]
    },
    {
      "cell_type": "code",
      "metadata": {
        "colab": {
          "base_uri": "https://localhost:8080/"
        },
        "id": "NbJ3_lfmUS4q",
        "outputId": "b78e7d51-b151-4786-9ef9-ee979d9fb3e3"
      },
      "source": [
        "from surprise.dataset import DatasetAutoFolds\n",
        "\n",
        "reader = Reader(line_format='user item rating timestamp', sep=',', rating_scale=(0.5,5) )\n",
        "# DatasetAutoFolds 클래스를 ratings_noh.csv 파일 기반으로 생성\n",
        "data_folds=DatasetAutoFolds(ratings_file='/ratings_noh.csv', reader=reader)\n",
        "\n",
        "# 전체 데이터를 학습 데이터로 생성함.\n",
        "trainset=data_folds.build_full_trainset() \n",
        "\n",
        "algo = SVD(n_epochs=20, n_factors=50, random_state=0)\n",
        "algo.fit(trainset)"
      ],
      "execution_count": 34,
      "outputs": [
        {
          "output_type": "execute_result",
          "data": {
            "text/plain": [
              "<surprise.prediction_algorithms.matrix_factorization.SVD at 0x7f2275b96450>"
            ]
          },
          "metadata": {},
          "execution_count": 34
        }
      ]
    },
    {
      "cell_type": "code",
      "metadata": {
        "colab": {
          "base_uri": "https://localhost:8080/"
        },
        "id": "M5SqyZShUxBr",
        "outputId": "e80ec0f0-3041-4234-ec4b-b6a28624a659"
      },
      "source": [
        "# userid=9가 평점을 매기지 않은 영화를 movieId 42로 선정하고 예측 평점을 계산\n",
        "# 영화에 대한 상세 속성 정보 DataFrame 로딩\n",
        "movies=pd.read_csv('/movies.csv')\n",
        "\n",
        "# userId=09의 movieId 데이터를 추출해 movieId=42 데이터가 있는지 확인.\n",
        "movieIds=ratings[ratings['userId']==9]['movieId']\n",
        "if movieIds[movieIds==42].count() == 0:\n",
        "  print('사용자 아이디 9는 형과 아이디 42의 평점 없음')\n",
        "\n",
        "print(movies[movies['movieId']==42])"
      ],
      "execution_count": 35,
      "outputs": [
        {
          "output_type": "stream",
          "name": "stdout",
          "text": [
            "사용자 아이디 9는 형과 아이디 42의 평점 없음\n",
            "    movieId                   title              genres\n",
            "38       42  Dead Presidents (1995)  Action|Crime|Drama\n"
          ]
        }
      ]
    },
    {
      "cell_type": "code",
      "metadata": {
        "colab": {
          "base_uri": "https://localhost:8080/"
        },
        "id": "fWwPieNGXstw",
        "outputId": "9d47e67b-8de3-4330-8fe7-77b8c7d44162"
      },
      "source": [
        "# 9번 사람의 42번 영화에 대한 예상 평점\n",
        "uid=str(9)\n",
        "iid=str(42)\n",
        "\n",
        "pred=algo.predict(uid, iid, verbose=True)\n",
        "# verbose: T: 로깅을 출력할지 말지에 대한 옵션\n",
        "# 이거 true해야 결과가 나옴"
      ],
      "execution_count": 38,
      "outputs": [
        {
          "output_type": "stream",
          "name": "stdout",
          "text": [
            "user: 9          item: 42         r_ui = None   est = 3.13   {'was_impossible': False}\n"
          ]
        }
      ]
    },
    {
      "cell_type": "markdown",
      "metadata": {
        "id": "8XyfhUNYYFLR"
      },
      "source": [
        "- 사용자가 평점을 매기지 않은 전체 영화를 추출하고 예측 평점 순으로 영화를 추천\n",
        "\n",
        "1. 추천대상이 되는 영화 추출: get_unseen_movies() 정의"
      ]
    },
    {
      "cell_type": "code",
      "metadata": {
        "colab": {
          "base_uri": "https://localhost:8080/"
        },
        "id": "pe7cELU8YQZn",
        "outputId": "e1c00fec-7645-4362-87c5-5f11c507ba33"
      },
      "source": [
        "def get_unseen_surprise(ratings, movies, userId):\n",
        "  #입력값으로 들어온 userId에 해당하는 사용자가 평점을 매긴 모든 영화를 리스트로 생성\n",
        "  seen_movies = ratings[ratings['userId'] == userId]['movieId'].tolist()\n",
        "\n",
        "  # 모든 영화의 movieId를 리스트로 생성.\n",
        "  total_movies=movies['movieId'].tolist()\n",
        "\n",
        "  # 모든 영화의 movieId 중 이미 평점을 매긴 영화의 movieId를 제외한 후 리스트로 생성\n",
        "  unseen_movies = [movie for movie in total_movies if movie not in seen_movies]\n",
        "  print('평점 매긴 영화 수:', len(seen_movies), '추천 대상 영화 수:', len(unseen_movies), '전체 영화 수:', len(total_movies))\n",
        "\n",
        "  return unseen_movies\n",
        "\n",
        "unseen_movies = get_unseen_surprise(ratings, movies, 9)"
      ],
      "execution_count": 39,
      "outputs": [
        {
          "output_type": "stream",
          "name": "stdout",
          "text": [
            "평점 매긴 영화 수: 46 추천 대상 영화 수: 9696 전체 영화 수: 9742\n"
          ]
        }
      ]
    },
    {
      "cell_type": "code",
      "metadata": {
        "id": "EOpEhC87ZJrZ"
      },
      "source": [
        "## SVD를 이용하여 높은 예측 평점을 가진 순으로 영화 추천!\n",
        "def recomm_movie_by_surprise(algo, userId, unseen_movies, top_n=10):\n",
        "  # 알고리즘 객체의 predict() 메서드를 평점이 없는 영화에 반복 수행한 후 결과를 list 객체로 저장\n",
        "  predictions = [algo.predict(str(userId), str(movieId)) for movieId in unseen_movies]\n",
        "\n",
        "  # predictions list 객체는 surprise 의 Preditions 객체를 원소로 가지고 있음.\n",
        "  # [Predition(uid='9', iid='1', est=3.69), Preditions(uid='9', iid='2', est=2.98),,, ]\n",
        "\n",
        "  # 이를 est 값으로 정렬하기 위해서 아래의 sortkey 함수를 정의함.\n",
        "  # sortkey_est 함수는 list 객체의 sort() 함수의 키 값으로 사용되어 정렬 수행.\n",
        "  def sortkey_est(pred):\n",
        "    return pred.est # est 값만 뽑아서 return\n",
        "\n",
        "  # sortkey_est() 반환값의 내림 차순으로 정렬수행하고 top_n개의 최상위 값 추출,\n",
        "  predictions.sort(key=sortkey_est, reverse=True)\n",
        "  top_predictions=predictions[:top_n]\n",
        "\n",
        "  # top_n으로 추출된 영화의 정보 추출. 영화아이디, 추천 예상 평점, 제목 추출\n",
        "  top_movie_ids = [int(pred.iid) for pred in top_predictions]\n",
        "  top_movie_rating=[pred.est for pred in top_predictions]\n",
        "  top_movie_titles=movies[movies.movieId.isin(top_movie_ids)]['title']\n",
        "\n",
        "  top_movie_preds = [ (id, title, rating) for id, title, rating in \\\n",
        "                     zip(top_movie_ids, top_movie_titles, top_movie_rating)]\n",
        "\n",
        "  return top_movie_preds"
      ],
      "execution_count": 44,
      "outputs": []
    },
    {
      "cell_type": "code",
      "metadata": {
        "colab": {
          "base_uri": "https://localhost:8080/"
        },
        "id": "XE6Gc6iYbHXI",
        "outputId": "73959179-4acf-4b67-f4f1-bc1905cc4571"
      },
      "source": [
        "unseen_movies=get_unseen_surprise(ratings, movies, 9)\n",
        "top_movie_preds=recomm_movie_by_surprise(algo, 9, unseen_movies, top_n=10)\n",
        "\n",
        "print(\"##### Top-10 추천 영화 리스트 #####\")\n",
        "for top_movie in top_movie_preds:\n",
        "  print(top_movie[1], \":\", top_movie[2])"
      ],
      "execution_count": 45,
      "outputs": [
        {
          "output_type": "stream",
          "name": "stdout",
          "text": [
            "평점 매긴 영화 수: 46 추천 대상 영화 수: 9696 전체 영화 수: 9742\n",
            "##### Top-10 추천 영화 리스트 #####\n",
            "Usual Suspects, The (1995) : 4.306302135700814\n",
            "Star Wars: Episode IV - A New Hope (1977) : 4.281663842987387\n",
            "Pulp Fiction (1994) : 4.278152632122759\n",
            "Silence of the Lambs, The (1991) : 4.226073566460876\n",
            "Godfather, The (1972) : 4.1918097904381995\n",
            "Streetcar Named Desire, A (1951) : 4.154746591122658\n",
            "Star Wars: Episode V - The Empire Strikes Back (1980) : 4.122016128534504\n",
            "Star Wars: Episode VI - Return of the Jedi (1983) : 4.108009609093436\n",
            "Goodfellas (1990) : 4.083464936588478\n",
            "Glory (1989) : 4.07887165526957\n"
          ]
        }
      ]
    },
    {
      "cell_type": "code",
      "metadata": {
        "id": "ZQh9uCJkbdsT"
      },
      "source": [
        ""
      ],
      "execution_count": null,
      "outputs": []
    }
  ]
}