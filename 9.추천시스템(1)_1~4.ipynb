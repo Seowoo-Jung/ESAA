{
  "nbformat": 4,
  "nbformat_minor": 0,
  "metadata": {
    "colab": {
      "name": "9.추천시스템(1)_1~4.ipynb",
      "provenance": [],
      "authorship_tag": "ABX9TyOi5wtheW0ZYqyQzV1tdItd",
      "include_colab_link": true
    },
    "kernelspec": {
      "name": "python3",
      "display_name": "Python 3"
    },
    "language_info": {
      "name": "python"
    }
  },
  "cells": [
    {
      "cell_type": "markdown",
      "metadata": {
        "id": "view-in-github",
        "colab_type": "text"
      },
      "source": [
        "<a href=\"https://colab.research.google.com/github/Seowoo-Jung/ESAA/blob/main/9.%EC%B6%94%EC%B2%9C%EC%8B%9C%EC%8A%A4%ED%85%9C(1)_1~4.ipynb\" target=\"_parent\"><img src=\"https://colab.research.google.com/assets/colab-badge.svg\" alt=\"Open In Colab\"/></a>"
      ]
    },
    {
      "cell_type": "markdown",
      "metadata": {
        "id": "6wBhK6myN3hf"
      },
      "source": [
        "# 9. 추천시스템(1) 1 ~ 4장(p.526~ 579)\n",
        "\n",
        "### 4) 잠재 요인 협업 필터링\n",
        "\n",
        "- 확률적 하강 방식을 이용한 행렬 분해\n",
        "\n",
        ": 잠재요인을 찾아내어 분해 후 내적하여 예측값 구함."
      ]
    },
    {
      "cell_type": "code",
      "metadata": {
        "id": "mpXHUHBbNwW1"
      },
      "source": [
        "import numpy as np\n",
        "\n",
        "# 원본 행렬 R 생성, 분해 행렬 P와 Q 초기화, 잠재 요인 차원 K는 3으로 설정.\n",
        "R = np.array([[4, np.NaN, np.NaN, 2, np.NaN],\n",
        "              [np.NaN, 5, np.NaN, 3, 1],\n",
        "              [np.NaN, np.NaN, 3, 4, 4], \n",
        "              [5, 2, 1, 2, np.NaN]])\n",
        "\n",
        "num_users, num_items = R.shape\n",
        "K=3 # 잠재요인 차원: 3\n",
        "\n",
        "# P와 Q 행렬의 크기를 지정하고 정규 분포를 가진 임의의 값으로 입력합니다.\n",
        "np.random.seed(1)\n",
        "P = np.random.normal(scale=1./K, size=(num_users, K)) #4*3\n",
        "Q = np.random.normal(scale=1./K, size=(num_items, K)) #5*3\n",
        "\n",
        "# scale로 표준편차 조정하기"
      ],
      "execution_count": 2,
      "outputs": []
    },
    {
      "cell_type": "markdown",
      "metadata": {
        "id": "Wd0lZHSuO4uw"
      },
      "source": [
        "- 예측 행렬의 오차를 구하는 함수 get_rmse() 만들기"
      ]
    },
    {
      "cell_type": "code",
      "metadata": {
        "id": "qdAnffnHODyc"
      },
      "source": [
        "from sklearn.metrics import mean_squared_error\n",
        "\n",
        "def get_rmse(R, P, Q, non_zeros):\n",
        "  error=0\n",
        "  # 두 개의 분해된 행렬 P와 Q.T의 내적으로 예측 R 행렬 생성\n",
        "  full_pred_matrix=np.dot(P, Q.T)\n",
        "\n",
        "  # 실제 R 행렬에서 널이 아닌 값의 위치 인덱스 추출해 실제 R 행렬과 예측 행렬의 RMSE 추출\n",
        "  x_non_zero_ind = [non_zero[0] for non_zero in non_zeros] # R의 0이 아닌 행의 위치만 추가\n",
        "  y_non_zero_ind = [non_zero[1] for non_zero in non_zeros] # R의 0이 아닌 열의 위치만 추가\n",
        "  R_non_zeros=R[x_non_zero_ind, y_non_zero_ind] # 0이 아닌 index만 추출\n",
        "  full_pred_matrix_non_zeros = full_pred_matrix[x_non_zero_ind, y_non_zero_ind] #R의 예측값 구하기\n",
        "  mse = mean_squared_error(R_non_zeros, full_pred_matrix_non_zeros) #오차 구하기\n",
        "  rmse=np.sqrt(mse)\n",
        "\n",
        "  return rmse"
      ],
      "execution_count": 9,
      "outputs": []
    },
    {
      "cell_type": "markdown",
      "metadata": {
        "id": "euQVakIJQY5b"
      },
      "source": [
        "- SGD 기반의 행렬 분해 수행\n",
        "\n",
        ": R 값을 제외한 데이터의 인덱스 추출, 업데이터할 횟수, 학습률, L2 정규화 계수 지정 후 반복학습\n"
      ]
    },
    {
      "cell_type": "code",
      "metadata": {
        "colab": {
          "base_uri": "https://localhost:8080/"
        },
        "id": "rcs0eX4JQRH9",
        "outputId": "fb4b2b7c-c9bb-4e77-e717-8c5a7dcebffb"
      },
      "source": [
        "# R>0인 행 위치, 열 위치, 값을 non_zeros 리스트에 저장.\n",
        "non_zeros = [(i, j, R[i,j]) for i in range(num_users) for j in range(num_items) if R[i, j] > 0]\n",
        "\n",
        "steps=1000 #학습 반복 횟수\n",
        "learning_rate=0.01 # 학습률\n",
        "r_lambda=0.01 # 정규화 계수\n",
        "\n",
        "# SGD 기법으로 P와 Q 매트릭스를 계속 업데이트.\n",
        "for step in range(steps):\n",
        "  for i, j, r in non_zeros:\n",
        "    #실제 값과 예측 값의 차이인 오류 값 구함\n",
        "    eij = r-np.dot(P[i,:], Q[j,:].T)\n",
        "    # Regularization을 반영한 SGD 업데이트 공식 적용\n",
        "    P[i,:] = P[i , :] + learning_rate*(eij * Q[j, :] - r_lambda*P[i,:])\n",
        "    Q[j,:] = Q[j , :] + learning_rate*(eij * P[i, :] - r_lambda*Q[j,:])\n",
        "\n",
        "  rmse=get_rmse(R, P, Q, non_zeros) # 오차 계산\n",
        "  if (step%50) == 0:\n",
        "    print(\"### iteration step: \", step, \"rmse: \",rmse)"
      ],
      "execution_count": 11,
      "outputs": [
        {
          "output_type": "stream",
          "name": "stdout",
          "text": [
            "### iteration step:  0 rmse:  3.2388050277987723\n",
            "### iteration step:  50 rmse:  0.4876723101369647\n",
            "### iteration step:  100 rmse:  0.15643403848192458\n",
            "### iteration step:  150 rmse:  0.07455141311978064\n",
            "### iteration step:  200 rmse:  0.043252267985793146\n",
            "### iteration step:  250 rmse:  0.029248328780879226\n",
            "### iteration step:  300 rmse:  0.022621116143829507\n",
            "### iteration step:  350 rmse:  0.019493636196525232\n",
            "### iteration step:  400 rmse:  0.018022719092132773\n",
            "### iteration step:  450 rmse:  0.01731968595344283\n",
            "### iteration step:  500 rmse:  0.016973657887570985\n",
            "### iteration step:  550 rmse:  0.01679680459589558\n",
            "### iteration step:  600 rmse:  0.016701322901884634\n",
            "### iteration step:  650 rmse:  0.016644736912476574\n",
            "### iteration step:  700 rmse:  0.016605910068210012\n",
            "### iteration step:  750 rmse:  0.01657420047570488\n",
            "### iteration step:  800 rmse:  0.01654431582921612\n",
            "### iteration step:  850 rmse:  0.016513751774735037\n",
            "### iteration step:  900 rmse:  0.01648146573819507\n",
            "### iteration step:  950 rmse:  0.01644717168347911\n"
          ]
        }
      ]
    },
    {
      "cell_type": "code",
      "metadata": {
        "colab": {
          "base_uri": "https://localhost:8080/"
        },
        "id": "bFhenK7wSIm_",
        "outputId": "928982ae-e25f-457e-c1e8-8a909c61fbc3"
      },
      "source": [
        "pred_matrix = np.dot(P, Q.T)\n",
        "print(\"예측 행렬:\\n\", np.round(pred_matrix, 3))"
      ],
      "execution_count": 14,
      "outputs": [
        {
          "output_type": "stream",
          "name": "stdout",
          "text": [
            "예측 행렬:\n",
            " [[3.991 0.897 1.306 2.002 1.663]\n",
            " [6.696 4.978 0.979 2.981 1.003]\n",
            " [6.677 0.391 2.987 3.977 3.986]\n",
            " [4.968 2.005 1.006 2.017 1.14 ]]\n"
          ]
        }
      ]
    },
    {
      "cell_type": "markdown",
      "metadata": {
        "id": "2yqLm2d7Sfrk"
      },
      "source": [
        "- 널 값은 채워지고 널이 아닌 값은 실제와 큰 차이가 나지 않는다."
      ]
    },
    {
      "cell_type": "code",
      "metadata": {
        "colab": {
          "base_uri": "https://localhost:8080/"
        },
        "id": "gH_AVr2KSX8r",
        "outputId": "8ca3a4b1-bc8c-4e3d-f392-cd1e15ca6453"
      },
      "source": [
        "print(R)"
      ],
      "execution_count": 15,
      "outputs": [
        {
          "output_type": "stream",
          "name": "stdout",
          "text": [
            "[[ 4. nan nan  2. nan]\n",
            " [nan  5. nan  3.  1.]\n",
            " [nan nan  3.  4.  4.]\n",
            " [ 5.  2.  1.  2. nan]]\n"
          ]
        }
      ]
    }
  ]
}