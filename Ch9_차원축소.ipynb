{
  "nbformat": 4,
  "nbformat_minor": 0,
  "metadata": {
    "colab": {
      "name": "Ch9_차원축소.ipynb",
      "provenance": [],
      "authorship_tag": "ABX9TyOCME7edhIS6ZRIee022CaK",
      "include_colab_link": true
    },
    "kernelspec": {
      "name": "python3",
      "display_name": "Python 3"
    },
    "language_info": {
      "name": "python"
    }
  },
  "cells": [
    {
      "cell_type": "markdown",
      "metadata": {
        "id": "view-in-github",
        "colab_type": "text"
      },
      "source": [
        "<a href=\"https://colab.research.google.com/github/Seowoo-Jung/ESAA/blob/main/Ch9_%EC%B0%A8%EC%9B%90%EC%B6%95%EC%86%8C.ipynb\" target=\"_parent\"><img src=\"https://colab.research.google.com/assets/colab-badge.svg\" alt=\"Open In Colab\"/></a>"
      ]
    },
    {
      "cell_type": "code",
      "source": [
        "from sklearn.datasets import make_moons\n",
        "X,y= make_moons(n_samples=100, noise=0.15)\n",
        "from sklearn.model_selection import train_test_split\n",
        "X_train, X_test, y_train, y_test = train_test_split(X, y, test_size=0.4)"
      ],
      "metadata": {
        "id": "Ygjdgx_lRO15"
      },
      "execution_count": 1,
      "outputs": []
    },
    {
      "cell_type": "code",
      "execution_count": 2,
      "metadata": {
        "id": "FeSeu9MOQhrK"
      },
      "outputs": [],
      "source": [
        "import numpy as np\n",
        "X_centered=X - X.mean(axis=0)\n",
        "U,s,Vt=np.linalg.svd(X_centered)\n",
        "c1=Vt.T[:,0]\n",
        "c2=Vt.T[:,1]"
      ]
    },
    {
      "cell_type": "code",
      "source": [
        "W2=Vt.T[:,:2]\n",
        "X2D=X_centered.dot(W2)"
      ],
      "metadata": {
        "id": "kDdDPjqORb8p"
      },
      "execution_count": 3,
      "outputs": []
    },
    {
      "cell_type": "code",
      "source": [
        "#사이킷런 이용하기\n",
        "from sklearn.decomposition import PCA\n",
        "\n",
        "pca=PCA(n_components=2)\n",
        "X2D=pca.fit_transform(X)"
      ],
      "metadata": {
        "id": "-85M_uCrRhnv"
      },
      "execution_count": 4,
      "outputs": []
    },
    {
      "cell_type": "code",
      "source": [
        "pca.explained_variance_ratio_"
      ],
      "metadata": {
        "colab": {
          "base_uri": "https://localhost:8080/"
        },
        "id": "2a3g2ioWRqSa",
        "outputId": "9996969f-301f-4894-db59-9cb7220b5149"
      },
      "execution_count": 5,
      "outputs": [
        {
          "output_type": "execute_result",
          "data": {
            "text/plain": [
              "array([0.82251853, 0.17748147])"
            ]
          },
          "metadata": {},
          "execution_count": 5
        }
      ]
    },
    {
      "cell_type": "code",
      "source": [
        "# 적절한 차원 수 선택하기\n",
        "pca=PCA()\n",
        "pca.fit(X_train)\n",
        "cumsum=np.cumsum(pca.explained_variance_ratio_)\n",
        "d=np.argmax(cumsum >= 0.95)+1"
      ],
      "metadata": {
        "id": "dW182wDFRsIl"
      },
      "execution_count": 7,
      "outputs": []
    },
    {
      "cell_type": "code",
      "source": [
        "# 분산 비율 설정\n",
        "pca = PCA(n_components=0.95)\n",
        "X_reduced = pca.fit_transform(X_train)"
      ],
      "metadata": {
        "id": "kIEfpp_iR15Z"
      },
      "execution_count": 13,
      "outputs": []
    },
    {
      "cell_type": "code",
      "source": [
        "# 데이터셋 재구성\n",
        "pca=PCA(n_components=154)\n",
        "X_reduced = pca.fit_transform(X_train)\n",
        "X_recovered=pca.inverse_transform(X_reduced)"
      ],
      "metadata": {
        "id": "EC6IWgF2R9NA"
      },
      "execution_count": 20,
      "outputs": []
    },
    {
      "cell_type": "code",
      "source": [
        "# 랜덤 PCA\n",
        "rnd_pca=PCA(n_components=154, svd_solver=\"randomized\")\n",
        "X_reduced=rnd_pca.fit_transform(X_train)"
      ],
      "metadata": {
        "id": "QMLfEBzhSudO"
      },
      "execution_count": 23,
      "outputs": []
    },
    {
      "cell_type": "code",
      "source": [
        "# 점진적 PCA\n",
        "from sklearn.decomposition import IncrementalPCA\n",
        "\n",
        "n_batches=100\n",
        "inc_pca=IncrementalPCA(n_components=154)\n",
        "for X_batch in np.array_split(X_train, n_batches):\n",
        "  inc_pca.partial_fit(X_batch)\n",
        "\n",
        "X_reduced=inc_pca.transform(X_train)"
      ],
      "metadata": {
        "id": "QPesjAJaTLgp"
      },
      "execution_count": null,
      "outputs": []
    },
    {
      "cell_type": "code",
      "source": [
        "## fit 메소드 사용\n",
        "X_mm=np.memmap(filename, dtype=\"float32\", mode=\"readonly\", shape=(m,n))\n",
        "\n",
        "batch_siz=m//n_batches\n",
        "inc_pca=IncrementalPCA(n_components=154, batch_size=batch_size)\n",
        "inc_pca.fit(X_mm)"
      ],
      "metadata": {
        "id": "iCelnTQoTgMe"
      },
      "execution_count": null,
      "outputs": []
    },
    {
      "cell_type": "code",
      "source": [
        "# 커널 PCA\n",
        "from sklearn.decomposition import KernelPCA\n",
        "\n",
        "rbf_pca=KernelPCA(n_components=2, kernel=\"rbf\", gamma=0.04)\n",
        "X_reduced=rbf_pca.fit_transform(X)"
      ],
      "metadata": {
        "id": "LhKtm4pLTv2O"
      },
      "execution_count": null,
      "outputs": []
    },
    {
      "cell_type": "code",
      "source": [
        "## 그리드서치\n",
        "from sklearn.model_selection import GridSearchCV\n",
        "from sklearn.linear_model import LogisticRegression\n",
        "from sklearn.pipeline import Pipeline\n",
        "\n",
        "clf=Pipeline([\n",
        "('kpca', KernelPCA(n_components=2)),\n",
        "(\"log_reg\", LogisticRegression())\n",
        "])\n",
        "\n",
        "param_grid=[{\"kpca__gamma\":np.linespace(0.03, 0.05, 10),\n",
        "             \"kpca__kernel\":['rbf', 'sigmoid']}]"
      ],
      "metadata": {
        "id": "BqVVwJZlT7wN"
      },
      "execution_count": null,
      "outputs": []
    },
    {
      "cell_type": "code",
      "source": [
        "## 재구성 원상\n",
        "rbf_pca=KernelPCa(n_components=2, kernel=\"rbf\", gamma=0.0433, fit_inverse_transform=True)\n",
        "X_reduced=rbf_pca.fit_transform(X)\n",
        "X_preimage=rbf_pca.inverse_transform(X_reduced)"
      ],
      "metadata": {
        "id": "ZI2je3WSUakG"
      },
      "execution_count": null,
      "outputs": []
    },
    {
      "cell_type": "code",
      "source": [
        "## LLE\n",
        "from sklearn.manifold import LocallyLinerEmbedding\n",
        "\n",
        "lle=LocallyLinearEmbedding(n_components=2, n_neighbors=10)\n",
        "X_reduced=lle.fit_transform(X)"
      ],
      "metadata": {
        "id": "9Qe0UlkvUqPW"
      },
      "execution_count": null,
      "outputs": []
    }
  ]
}