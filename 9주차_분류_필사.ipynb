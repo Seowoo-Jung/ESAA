{
  "nbformat": 4,
  "nbformat_minor": 0,
  "metadata": {
    "colab": {
      "name": "9주차_분류 필사.ipynb",
      "provenance": [],
      "collapsed_sections": [],
      "authorship_tag": "ABX9TyOJuDwqNhDV4Zx2oWC8BYe7",
      "include_colab_link": true
    },
    "kernelspec": {
      "name": "python3",
      "display_name": "Python 3"
    },
    "language_info": {
      "name": "python"
    }
  },
  "cells": [
    {
      "cell_type": "markdown",
      "metadata": {
        "id": "view-in-github",
        "colab_type": "text"
      },
      "source": [
        "<a href=\"https://colab.research.google.com/github/Seowoo-Jung/ESAA/blob/main/9%EC%A3%BC%EC%B0%A8_%EB%B6%84%EB%A5%98_%ED%95%84%EC%82%AC.ipynb\" target=\"_parent\"><img src=\"https://colab.research.google.com/assets/colab-badge.svg\" alt=\"Open In Colab\"/></a>"
      ]
    },
    {
      "cell_type": "markdown",
      "metadata": {
        "id": "ULm-Jt_VQgDS"
      },
      "source": [
        "# Kaggle\n",
        "\n",
        "## Heart Disease - Classifications (Machine Learning) "
      ]
    },
    {
      "cell_type": "code",
      "metadata": {
        "id": "eIlMjkumOxI7"
      },
      "source": [
        "import numpy as np\n",
        "import pandas as pd\n",
        "import matplotlib.pyplot as plt\n",
        "import seaborn as sns\n",
        "from sklearn.linear_model import LogisticRegression\n",
        "from sklearn.model_selection import train_test_split"
      ],
      "execution_count": 1,
      "outputs": []
    },
    {
      "cell_type": "markdown",
      "metadata": {
        "id": "z6vnJ9CLRD-a"
      },
      "source": [
        "### Read data"
      ]
    },
    {
      "cell_type": "code",
      "metadata": {
        "id": "0xggj8AaRAZm"
      },
      "source": [
        "df = pd.read_csv(\"/content/heart.csv\")"
      ],
      "execution_count": 2,
      "outputs": []
    },
    {
      "cell_type": "code",
      "metadata": {
        "colab": {
          "base_uri": "https://localhost:8080/",
          "height": 203
        },
        "id": "dDb8lX6VRNVq",
        "outputId": "a32f1f70-5ad3-48be-e405-a0e02dec306e"
      },
      "source": [
        "df.head()"
      ],
      "execution_count": 3,
      "outputs": [
        {
          "output_type": "execute_result",
          "data": {
            "text/html": [
              "<div>\n",
              "<style scoped>\n",
              "    .dataframe tbody tr th:only-of-type {\n",
              "        vertical-align: middle;\n",
              "    }\n",
              "\n",
              "    .dataframe tbody tr th {\n",
              "        vertical-align: top;\n",
              "    }\n",
              "\n",
              "    .dataframe thead th {\n",
              "        text-align: right;\n",
              "    }\n",
              "</style>\n",
              "<table border=\"1\" class=\"dataframe\">\n",
              "  <thead>\n",
              "    <tr style=\"text-align: right;\">\n",
              "      <th></th>\n",
              "      <th>age</th>\n",
              "      <th>sex</th>\n",
              "      <th>cp</th>\n",
              "      <th>trestbps</th>\n",
              "      <th>chol</th>\n",
              "      <th>fbs</th>\n",
              "      <th>restecg</th>\n",
              "      <th>thalach</th>\n",
              "      <th>exang</th>\n",
              "      <th>oldpeak</th>\n",
              "      <th>slope</th>\n",
              "      <th>ca</th>\n",
              "      <th>thal</th>\n",
              "      <th>target</th>\n",
              "    </tr>\n",
              "  </thead>\n",
              "  <tbody>\n",
              "    <tr>\n",
              "      <th>0</th>\n",
              "      <td>63</td>\n",
              "      <td>1</td>\n",
              "      <td>3</td>\n",
              "      <td>145</td>\n",
              "      <td>233</td>\n",
              "      <td>1</td>\n",
              "      <td>0</td>\n",
              "      <td>150</td>\n",
              "      <td>0</td>\n",
              "      <td>2.3</td>\n",
              "      <td>0</td>\n",
              "      <td>0</td>\n",
              "      <td>1</td>\n",
              "      <td>1</td>\n",
              "    </tr>\n",
              "    <tr>\n",
              "      <th>1</th>\n",
              "      <td>37</td>\n",
              "      <td>1</td>\n",
              "      <td>2</td>\n",
              "      <td>130</td>\n",
              "      <td>250</td>\n",
              "      <td>0</td>\n",
              "      <td>1</td>\n",
              "      <td>187</td>\n",
              "      <td>0</td>\n",
              "      <td>3.5</td>\n",
              "      <td>0</td>\n",
              "      <td>0</td>\n",
              "      <td>2</td>\n",
              "      <td>1</td>\n",
              "    </tr>\n",
              "    <tr>\n",
              "      <th>2</th>\n",
              "      <td>41</td>\n",
              "      <td>0</td>\n",
              "      <td>1</td>\n",
              "      <td>130</td>\n",
              "      <td>204</td>\n",
              "      <td>0</td>\n",
              "      <td>0</td>\n",
              "      <td>172</td>\n",
              "      <td>0</td>\n",
              "      <td>1.4</td>\n",
              "      <td>2</td>\n",
              "      <td>0</td>\n",
              "      <td>2</td>\n",
              "      <td>1</td>\n",
              "    </tr>\n",
              "    <tr>\n",
              "      <th>3</th>\n",
              "      <td>56</td>\n",
              "      <td>1</td>\n",
              "      <td>1</td>\n",
              "      <td>120</td>\n",
              "      <td>236</td>\n",
              "      <td>0</td>\n",
              "      <td>1</td>\n",
              "      <td>178</td>\n",
              "      <td>0</td>\n",
              "      <td>0.8</td>\n",
              "      <td>2</td>\n",
              "      <td>0</td>\n",
              "      <td>2</td>\n",
              "      <td>1</td>\n",
              "    </tr>\n",
              "    <tr>\n",
              "      <th>4</th>\n",
              "      <td>57</td>\n",
              "      <td>0</td>\n",
              "      <td>0</td>\n",
              "      <td>120</td>\n",
              "      <td>354</td>\n",
              "      <td>0</td>\n",
              "      <td>1</td>\n",
              "      <td>163</td>\n",
              "      <td>1</td>\n",
              "      <td>0.6</td>\n",
              "      <td>2</td>\n",
              "      <td>0</td>\n",
              "      <td>2</td>\n",
              "      <td>1</td>\n",
              "    </tr>\n",
              "  </tbody>\n",
              "</table>\n",
              "</div>"
            ],
            "text/plain": [
              "   age  sex  cp  trestbps  chol  fbs  ...  exang  oldpeak  slope  ca  thal  target\n",
              "0   63    1   3       145   233    1  ...      0      2.3      0   0     1       1\n",
              "1   37    1   2       130   250    0  ...      0      3.5      0   0     2       1\n",
              "2   41    0   1       130   204    0  ...      0      1.4      2   0     2       1\n",
              "3   56    1   1       120   236    0  ...      0      0.8      2   0     2       1\n",
              "4   57    0   0       120   354    0  ...      1      0.6      2   0     2       1\n",
              "\n",
              "[5 rows x 14 columns]"
            ]
          },
          "metadata": {},
          "execution_count": 3
        }
      ]
    },
    {
      "cell_type": "markdown",
      "metadata": {
        "id": "6PEVtqGbRZtj"
      },
      "source": [
        "Data contains;\n",
        "\n",
        "age - age in years\n",
        "\n",
        "sex - (1 = male; 0 = female)\n",
        "\n",
        "cp - chest pain type\n",
        "\n",
        "trestbps - resting blood pressure (in mm Hg on admission to the hospital)\n",
        "\n",
        "chol - serum cholestoral in mg/dl\n",
        "\n",
        "fbs - (fasting blood sugar > 120 mg/dl) (1 = true; 0 = false)\n",
        "\n",
        "restecg - resting electrocardiographic results\n",
        "\n",
        "thalach - maximum heart rate achieved\n",
        "\n",
        "exang - exercise induced angina (1 = yes; 0 = no)\n",
        "\n",
        "oldpeak - ST depression induced by exercise relative to rest\n",
        "\n",
        "slope - the slope of the peak exercise ST segment\n",
        "\n",
        "ca - number of major vessels (0-3) colored by flourosopy\n",
        "\n",
        "thal - 3 = normal; 6 = fixed defect; 7 = reversable defect\n",
        "\n",
        "target - have disease or not (1=yes, 0=no)"
      ]
    },
    {
      "cell_type": "markdown",
      "metadata": {
        "id": "fndblt86Rf6b"
      },
      "source": [
        "### Data Exploration"
      ]
    },
    {
      "cell_type": "code",
      "metadata": {
        "colab": {
          "base_uri": "https://localhost:8080/"
        },
        "id": "Q8ojxvmiROFL",
        "outputId": "cf617ff9-757c-43e3-a085-d6b759631f8b"
      },
      "source": [
        "# 병에 걸린사람(target) 분포\n",
        "df.target.value_counts()"
      ],
      "execution_count": 4,
      "outputs": [
        {
          "output_type": "execute_result",
          "data": {
            "text/plain": [
              "1    165\n",
              "0    138\n",
              "Name: target, dtype: int64"
            ]
          },
          "metadata": {},
          "execution_count": 4
        }
      ]
    },
    {
      "cell_type": "code",
      "metadata": {
        "colab": {
          "base_uri": "https://localhost:8080/",
          "height": 279
        },
        "id": "DY-mB7rNRkHY",
        "outputId": "5e87dfa4-1d09-420a-e4a1-66442607e9ba"
      },
      "source": [
        "sns.countplot(x=\"target\", data=df, palette=\"bwr\")\n",
        "plt.show()"
      ],
      "execution_count": 5,
      "outputs": [
        {
          "output_type": "display_data",
          "data": {
            "image/png": "[encoded data removed]",
            "text/plain": [
              "<Figure size 432x288 with 1 Axes>"
            ]
          },
          "metadata": {
            "needs_background": "light"
          }
        }
      ]
    },
    {
      "cell_type": "code",
      "metadata": {
        "colab": {
          "base_uri": "https://localhost:8080/"
        },
        "id": "mhdKeZ3ERuS9",
        "outputId": "5a486d0c-4615-4eef-a6c3-c15b6ae8f6ab"
      },
      "source": [
        "# target value의 분포\n",
        "countNoDisease = len(df[df.target == 0])\n",
        "countHaveDisease = len(df[df.target == 1])\n",
        "print(\"Percentage of Patients Haven't Heart Disease: {:.2f}%\".format((countNoDisease / (len(df.target))*100)))\n",
        "print(\"Percentage of Patients Have Heart Disease: {:.2f}%\".format((countHaveDisease / (len(df.target))*100)))"
      ],
      "execution_count": 6,
      "outputs": [
        {
          "output_type": "stream",
          "name": "stdout",
          "text": [
            "Percentage of Patients Haven't Heart Disease: 45.54%\n",
            "Percentage of Patients Have Heart Disease: 54.46%\n"
          ]
        }
      ]
    },
    {
      "cell_type": "code",
      "metadata": {
        "colab": {
          "base_uri": "https://localhost:8080/",
          "height": 279
        },
        "id": "CCHUpgLoSWA8",
        "outputId": "3a7608d3-1fa2-4dca-829d-f2464691f56c"
      },
      "source": [
        "# 성별 분포\n",
        "sns.countplot(x=\"sex\", data=df, palette=\"mako_r\")\n",
        "plt.xlabel(\"Sex (0=female, 1=male\")\n",
        "plt.show()"
      ],
      "execution_count": 7,
      "outputs": [
        {
          "output_type": "display_data",
          "data": {
            "image/png": "[encoded data removed]",
            "text/plain": [
              "<Figure size 432x288 with 1 Axes>"
            ]
          },
          "metadata": {
            "needs_background": "light"
          }
        }
      ]
    },
    {
      "cell_type": "code",
      "metadata": {
        "colab": {
          "base_uri": "https://localhost:8080/"
        },
        "id": "bJ5FjsyjTeUS",
        "outputId": "d2150cd6-bd11-4d8b-e04c-b7c88f90d7df"
      },
      "source": [
        "countFemale = len(df[df.sex == 0])\n",
        "countMale = len(df[df.sex == 1])\n",
        "\n",
        "print(\"Percentage of Female Patients : {:.2f}%\".format((countFemale / (len(df.sex))*100)))\n",
        "print(\"Percentage of Male Patients : {:.2f}%\".format((countMale / (len(df.sex))*100)))"
      ],
      "execution_count": 8,
      "outputs": [
        {
          "output_type": "stream",
          "name": "stdout",
          "text": [
            "Percentage of Female Patients : 31.68%\n",
            "Percentage of Male Patients : 68.32%\n"
          ]
        }
      ]
    },
    {
      "cell_type": "code",
      "metadata": {
        "colab": {
          "base_uri": "https://localhost:8080/",
          "height": 142
        },
        "id": "E42MAtx9Twvn",
        "outputId": "62c9e43a-3563-469c-f8c8-0a39f383a832"
      },
      "source": [
        "df.groupby('target').mean()"
      ],
      "execution_count": 9,
      "outputs": [
        {
          "output_type": "execute_result",
          "data": {
            "text/html": [
              "<div>\n",
              "<style scoped>\n",
              "    .dataframe tbody tr th:only-of-type {\n",
              "        vertical-align: middle;\n",
              "    }\n",
              "\n",
              "    .dataframe tbody tr th {\n",
              "        vertical-align: top;\n",
              "    }\n",
              "\n",
              "    .dataframe thead th {\n",
              "        text-align: right;\n",
              "    }\n",
              "</style>\n",
              "<table border=\"1\" class=\"dataframe\">\n",
              "  <thead>\n",
              "    <tr style=\"text-align: right;\">\n",
              "      <th></th>\n",
              "      <th>age</th>\n",
              "      <th>sex</th>\n",
              "      <th>cp</th>\n",
              "      <th>trestbps</th>\n",
              "      <th>chol</th>\n",
              "      <th>fbs</th>\n",
              "      <th>restecg</th>\n",
              "      <th>thalach</th>\n",
              "      <th>exang</th>\n",
              "      <th>oldpeak</th>\n",
              "      <th>slope</th>\n",
              "      <th>ca</th>\n",
              "      <th>thal</th>\n",
              "    </tr>\n",
              "    <tr>\n",
              "      <th>target</th>\n",
              "      <th></th>\n",
              "      <th></th>\n",
              "      <th></th>\n",
              "      <th></th>\n",
              "      <th></th>\n",
              "      <th></th>\n",
              "      <th></th>\n",
              "      <th></th>\n",
              "      <th></th>\n",
              "      <th></th>\n",
              "      <th></th>\n",
              "      <th></th>\n",
              "      <th></th>\n",
              "    </tr>\n",
              "  </thead>\n",
              "  <tbody>\n",
              "    <tr>\n",
              "      <th>0</th>\n",
              "      <td>56.601449</td>\n",
              "      <td>0.826087</td>\n",
              "      <td>0.478261</td>\n",
              "      <td>134.398551</td>\n",
              "      <td>251.086957</td>\n",
              "      <td>0.159420</td>\n",
              "      <td>0.449275</td>\n",
              "      <td>139.101449</td>\n",
              "      <td>0.550725</td>\n",
              "      <td>1.585507</td>\n",
              "      <td>1.166667</td>\n",
              "      <td>1.166667</td>\n",
              "      <td>2.543478</td>\n",
              "    </tr>\n",
              "    <tr>\n",
              "      <th>1</th>\n",
              "      <td>52.496970</td>\n",
              "      <td>0.563636</td>\n",
              "      <td>1.375758</td>\n",
              "      <td>129.303030</td>\n",
              "      <td>242.230303</td>\n",
              "      <td>0.139394</td>\n",
              "      <td>0.593939</td>\n",
              "      <td>158.466667</td>\n",
              "      <td>0.139394</td>\n",
              "      <td>0.583030</td>\n",
              "      <td>1.593939</td>\n",
              "      <td>0.363636</td>\n",
              "      <td>2.121212</td>\n",
              "    </tr>\n",
              "  </tbody>\n",
              "</table>\n",
              "</div>"
            ],
            "text/plain": [
              "              age       sex        cp  ...     slope        ca      thal\n",
              "target                                 ...                              \n",
              "0       56.601449  0.826087  0.478261  ...  1.166667  1.166667  2.543478\n",
              "1       52.496970  0.563636  1.375758  ...  1.593939  0.363636  2.121212\n",
              "\n",
              "[2 rows x 13 columns]"
            ]
          },
          "metadata": {},
          "execution_count": 9
        }
      ]
    },
    {
      "cell_type": "code",
      "metadata": {
        "colab": {
          "base_uri": "https://localhost:8080/",
          "height": 391
        },
        "id": "P5TxL2nXT6Pm",
        "outputId": "ac45d0d3-1e44-423b-e543-21f930bd5367"
      },
      "source": [
        "# Age 별 Target의 분포\n",
        "pd.crosstab(df.age, df.target).plot(kind='bar', figsize=(20,6))\n",
        "plt.xlabel(\"Age\")\n",
        "plt.ylabel(\"Frequency\")\n",
        "#plt.savefig('heartDiseaseAndAges.png') # 이미지 저장\n",
        "plt.show()\n"
      ],
      "execution_count": 10,
      "outputs": [
        {
          "output_type": "display_data",
          "data": {
            "image/png": "[encoded data removed]",
            "text/plain": [
              "<Figure size 1440x432 with 1 Axes>"
            ]
          },
          "metadata": {
            "needs_background": "light"
          }
        }
      ]
    },
    {
      "cell_type": "code",
      "metadata": {
        "colab": {
          "base_uri": "https://localhost:8080/",
          "height": 404
        },
        "id": "twjLCiFWUXx5",
        "outputId": "c37e4f2f-f1f1-4d6f-fe38-7f54371b28ce"
      },
      "source": [
        "# 성별 target 분포\n",
        "#pd.crosstab(df.sex, df.target) # contingency table\n",
        "pd.crosstab(df.sex, df.target).plot(kind='bar', figsize=(15,6), color=['#1CA53B','#AA1111' ])\n",
        "plt.title('Heart Disease Freqeuncy for Sex')\n",
        "plt.xlabel('Sex (0=Female, 1= Male)')\n",
        "plt.xticks(rotation=0) # X축 회전\n",
        "plt.legend([\"Haven't Disease\", \"Have Disease\"])\n",
        "plt.ylabel('Frequency')\n",
        "plt.show()"
      ],
      "execution_count": 11,
      "outputs": [
        {
          "output_type": "display_data",
          "data": {
            "image/png": "[encoded data removed]",
            "text/plain": [
              "<Figure size 1080x432 with 1 Axes>"
            ]
          },
          "metadata": {
            "needs_background": "light"
          }
        }
      ]
    },
    {
      "cell_type": "code",
      "metadata": {
        "colab": {
          "base_uri": "https://localhost:8080/",
          "height": 279
        },
        "id": "W1TkdDZYUr9h",
        "outputId": "4391f135-d830-441f-ff23-f3591dc99c7c"
      },
      "source": [
        "# age 별 최대 심박수(thalach) + target > 어린나이에서 주로 병 걸리고, 병걸린 사람들의 최대 심박수는 높다.\n",
        "plt.scatter(x=df.age[df.target == 1], y=df.thalach[(df.target == 1)], c=\"red\")\n",
        "plt.scatter(x=df.age[df.target == 0], y=df.thalach[(df.target == 0)])\n",
        "plt.legend([\"Disease\", \"Not Disease\"])\n",
        "plt.xlabel(\"Age\")\n",
        "plt.ylabel(\"Maximum Heart Rate\")\n",
        "plt.show()"
      ],
      "execution_count": 12,
      "outputs": [
        {
          "output_type": "display_data",
          "data": {
            "image/png": "[encoded data removed]",
            "text/plain": [
              "<Figure size 432x288 with 1 Axes>"
            ]
          },
          "metadata": {
            "needs_background": "light"
          }
        }
      ]
    },
    {
      "cell_type": "code",
      "metadata": {
        "colab": {
          "base_uri": "https://localhost:8080/",
          "height": 404
        },
        "id": "d2TMd1ZRVu23",
        "outputId": "937fa7fd-3fe8-4208-c0ad-181024d5ba26"
      },
      "source": [
        "# 운동으로 인한 심장박동 증가 기울기 별 target의 분포\n",
        "pd.crosstab(df.slope, df.target).plot(kind=\"bar\", figsize=(15,6),color=['#DAF7A6','#FF5733' ] )\n",
        "plt.title(\"Heart Disease Frequency for Slope\")\n",
        "plt.xlabel(\"The Slope of The Peak Exercise ST Segment\")\n",
        "plt.xticks(rotation=0)\n",
        "plt.ylabel(\"Frequency\")\n",
        "plt.show()\n"
      ],
      "execution_count": 13,
      "outputs": [
        {
          "output_type": "display_data",
          "data": {
            "image/png": "[encoded data removed]",
            "text/plain": [
              "<Figure size 1080x432 with 1 Axes>"
            ]
          },
          "metadata": {
            "needs_background": "light"
          }
        }
      ]
    },
    {
      "cell_type": "code",
      "metadata": {
        "colab": {
          "base_uri": "https://localhost:8080/",
          "height": 404
        },
        "id": "ZmlEVUtKWgcK",
        "outputId": "a24f73c4-162d-4b6a-85b3-e68242efd3cb"
      },
      "source": [
        "# 공복혈당 >120 인 여부에 따른 target 분포\n",
        "pd.crosstab(df.fbs, df.target).plot(kind=\"bar\", figsize=(15,6), color=['#FFC300','#581845' ])\n",
        "plt.title(\"Heart Disease Frequency According To FBS\")\n",
        "plt.xlabel('FBS - (Fasting Blood Sugar > 120 mg/dl) (1=true; 0=false)')\n",
        "plt.xticks(rotation=0)\n",
        "plt.legend([\"Haven't Disease\", \"Have Disease\"])\n",
        "plt.ylabel('Frequency of Disease or Not')\n",
        "plt.show()"
      ],
      "execution_count": 14,
      "outputs": [
        {
          "output_type": "display_data",
          "data": {
            "image/png": "[encoded data removed]",
            "text/plain": [
              "<Figure size 1080x432 with 1 Axes>"
            ]
          },
          "metadata": {
            "needs_background": "light"
          }
        }
      ]
    },
    {
      "cell_type": "code",
      "metadata": {
        "colab": {
          "base_uri": "https://localhost:8080/",
          "height": 404
        },
        "id": "rRPBb46BXTiJ",
        "outputId": "44f751a3-8250-43fa-eb33-a52b77e903de"
      },
      "source": [
        "# 흉통의 종류 별 target 분포\n",
        "pd.crosstab(df.cp, df.target).plot(kind='bar', figsize=(15,6), color=['#11A5AA','#AA1190' ])\n",
        "plt.title(\"Heart Disease Frequency According To Chest Pain Type\")\n",
        "plt.xlabel(\"Chest Pain Type\")\n",
        "plt.xticks(rotation=0)\n",
        "plt.ylabel(\"Frequency of Disease or Not\")\n",
        "plt.show()"
      ],
      "execution_count": 15,
      "outputs": [
        {
          "output_type": "display_data",
          "data": {
            "image/png": "[encoded data removed]",
            "text/plain": [
              "<Figure size 1080x432 with 1 Axes>"
            ]
          },
          "metadata": {
            "needs_background": "light"
          }
        }
      ]
    },
    {
      "cell_type": "markdown",
      "metadata": {
        "id": "hkKyT84YX4A0"
      },
      "source": [
        "### Creating Dummy Variables\n",
        "\n",
        "- cp, thal, slope는 범주형 변수이므로 더미화"
      ]
    },
    {
      "cell_type": "code",
      "metadata": {
        "id": "qDtz4SotX0jS"
      },
      "source": [
        "a=pd.get_dummies(df['cp'], prefix=\"cp\")\n",
        "b=pd.get_dummies(df['thal'], prefix=\"thal\")\n",
        "c=pd.get_dummies(df['slope'], prefix=\"slope\")"
      ],
      "execution_count": 16,
      "outputs": []
    },
    {
      "cell_type": "code",
      "metadata": {
        "colab": {
          "base_uri": "https://localhost:8080/",
          "height": 203
        },
        "id": "NmKdBCjvYPiR",
        "outputId": "80b13115-2136-4e13-a9bb-5b753b245474"
      },
      "source": [
        "frames = [df, a, b, c]\n",
        "df=pd.concat(frames, axis=1)\n",
        "df.head()"
      ],
      "execution_count": 17,
      "outputs": [
        {
          "output_type": "execute_result",
          "data": {
            "text/html": [
              "<div>\n",
              "<style scoped>\n",
              "    .dataframe tbody tr th:only-of-type {\n",
              "        vertical-align: middle;\n",
              "    }\n",
              "\n",
              "    .dataframe tbody tr th {\n",
              "        vertical-align: top;\n",
              "    }\n",
              "\n",
              "    .dataframe thead th {\n",
              "        text-align: right;\n",
              "    }\n",
              "</style>\n",
              "<table border=\"1\" class=\"dataframe\">\n",
              "  <thead>\n",
              "    <tr style=\"text-align: right;\">\n",
              "      <th></th>\n",
              "      <th>age</th>\n",
              "      <th>sex</th>\n",
              "      <th>cp</th>\n",
              "      <th>trestbps</th>\n",
              "      <th>chol</th>\n",
              "      <th>fbs</th>\n",
              "      <th>restecg</th>\n",
              "      <th>thalach</th>\n",
              "      <th>exang</th>\n",
              "      <th>oldpeak</th>\n",
              "      <th>slope</th>\n",
              "      <th>ca</th>\n",
              "      <th>thal</th>\n",
              "      <th>target</th>\n",
              "      <th>cp_0</th>\n",
              "      <th>cp_1</th>\n",
              "      <th>cp_2</th>\n",
              "      <th>cp_3</th>\n",
              "      <th>thal_0</th>\n",
              "      <th>thal_1</th>\n",
              "      <th>thal_2</th>\n",
              "      <th>thal_3</th>\n",
              "      <th>slope_0</th>\n",
              "      <th>slope_1</th>\n",
              "      <th>slope_2</th>\n",
              "    </tr>\n",
              "  </thead>\n",
              "  <tbody>\n",
              "    <tr>\n",
              "      <th>0</th>\n",
              "      <td>63</td>\n",
              "      <td>1</td>\n",
              "      <td>3</td>\n",
              "      <td>145</td>\n",
              "      <td>233</td>\n",
              "      <td>1</td>\n",
              "      <td>0</td>\n",
              "      <td>150</td>\n",
              "      <td>0</td>\n",
              "      <td>2.3</td>\n",
              "      <td>0</td>\n",
              "      <td>0</td>\n",
              "      <td>1</td>\n",
              "      <td>1</td>\n",
              "      <td>0</td>\n",
              "      <td>0</td>\n",
              "      <td>0</td>\n",
              "      <td>1</td>\n",
              "      <td>0</td>\n",
              "      <td>1</td>\n",
              "      <td>0</td>\n",
              "      <td>0</td>\n",
              "      <td>1</td>\n",
              "      <td>0</td>\n",
              "      <td>0</td>\n",
              "    </tr>\n",
              "    <tr>\n",
              "      <th>1</th>\n",
              "      <td>37</td>\n",
              "      <td>1</td>\n",
              "      <td>2</td>\n",
              "      <td>130</td>\n",
              "      <td>250</td>\n",
              "      <td>0</td>\n",
              "      <td>1</td>\n",
              "      <td>187</td>\n",
              "      <td>0</td>\n",
              "      <td>3.5</td>\n",
              "      <td>0</td>\n",
              "      <td>0</td>\n",
              "      <td>2</td>\n",
              "      <td>1</td>\n",
              "      <td>0</td>\n",
              "      <td>0</td>\n",
              "      <td>1</td>\n",
              "      <td>0</td>\n",
              "      <td>0</td>\n",
              "      <td>0</td>\n",
              "      <td>1</td>\n",
              "      <td>0</td>\n",
              "      <td>1</td>\n",
              "      <td>0</td>\n",
              "      <td>0</td>\n",
              "    </tr>\n",
              "    <tr>\n",
              "      <th>2</th>\n",
              "      <td>41</td>\n",
              "      <td>0</td>\n",
              "      <td>1</td>\n",
              "      <td>130</td>\n",
              "      <td>204</td>\n",
              "      <td>0</td>\n",
              "      <td>0</td>\n",
              "      <td>172</td>\n",
              "      <td>0</td>\n",
              "      <td>1.4</td>\n",
              "      <td>2</td>\n",
              "      <td>0</td>\n",
              "      <td>2</td>\n",
              "      <td>1</td>\n",
              "      <td>0</td>\n",
              "      <td>1</td>\n",
              "      <td>0</td>\n",
              "      <td>0</td>\n",
              "      <td>0</td>\n",
              "      <td>0</td>\n",
              "      <td>1</td>\n",
              "      <td>0</td>\n",
              "      <td>0</td>\n",
              "      <td>0</td>\n",
              "      <td>1</td>\n",
              "    </tr>\n",
              "    <tr>\n",
              "      <th>3</th>\n",
              "      <td>56</td>\n",
              "      <td>1</td>\n",
              "      <td>1</td>\n",
              "      <td>120</td>\n",
              "      <td>236</td>\n",
              "      <td>0</td>\n",
              "      <td>1</td>\n",
              "      <td>178</td>\n",
              "      <td>0</td>\n",
              "      <td>0.8</td>\n",
              "      <td>2</td>\n",
              "      <td>0</td>\n",
              "      <td>2</td>\n",
              "      <td>1</td>\n",
              "      <td>0</td>\n",
              "      <td>1</td>\n",
              "      <td>0</td>\n",
              "      <td>0</td>\n",
              "      <td>0</td>\n",
              "      <td>0</td>\n",
              "      <td>1</td>\n",
              "      <td>0</td>\n",
              "      <td>0</td>\n",
              "      <td>0</td>\n",
              "      <td>1</td>\n",
              "    </tr>\n",
              "    <tr>\n",
              "      <th>4</th>\n",
              "      <td>57</td>\n",
              "      <td>0</td>\n",
              "      <td>0</td>\n",
              "      <td>120</td>\n",
              "      <td>354</td>\n",
              "      <td>0</td>\n",
              "      <td>1</td>\n",
              "      <td>163</td>\n",
              "      <td>1</td>\n",
              "      <td>0.6</td>\n",
              "      <td>2</td>\n",
              "      <td>0</td>\n",
              "      <td>2</td>\n",
              "      <td>1</td>\n",
              "      <td>1</td>\n",
              "      <td>0</td>\n",
              "      <td>0</td>\n",
              "      <td>0</td>\n",
              "      <td>0</td>\n",
              "      <td>0</td>\n",
              "      <td>1</td>\n",
              "      <td>0</td>\n",
              "      <td>0</td>\n",
              "      <td>0</td>\n",
              "      <td>1</td>\n",
              "    </tr>\n",
              "  </tbody>\n",
              "</table>\n",
              "</div>"
            ],
            "text/plain": [
              "   age  sex  cp  trestbps  chol  ...  thal_2  thal_3  slope_0  slope_1  slope_2\n",
              "0   63    1   3       145   233  ...       0       0        1        0        0\n",
              "1   37    1   2       130   250  ...       1       0        1        0        0\n",
              "2   41    0   1       130   204  ...       1       0        0        0        1\n",
              "3   56    1   1       120   236  ...       1       0        0        0        1\n",
              "4   57    0   0       120   354  ...       1       0        0        0        1\n",
              "\n",
              "[5 rows x 25 columns]"
            ]
          },
          "metadata": {},
          "execution_count": 17
        }
      ]
    },
    {
      "cell_type": "code",
      "metadata": {
        "colab": {
          "base_uri": "https://localhost:8080/",
          "height": 203
        },
        "id": "QmhEM5bYYTS4",
        "outputId": "49b6557a-2443-479d-8813-9e8bd5166768"
      },
      "source": [
        "df=df.drop(columns=['cp', 'thal', 'slope'])\n",
        "df.head()"
      ],
      "execution_count": 18,
      "outputs": [
        {
          "output_type": "execute_result",
          "data": {
            "text/html": [
              "<div>\n",
              "<style scoped>\n",
              "    .dataframe tbody tr th:only-of-type {\n",
              "        vertical-align: middle;\n",
              "    }\n",
              "\n",
              "    .dataframe tbody tr th {\n",
              "        vertical-align: top;\n",
              "    }\n",
              "\n",
              "    .dataframe thead th {\n",
              "        text-align: right;\n",
              "    }\n",
              "</style>\n",
              "<table border=\"1\" class=\"dataframe\">\n",
              "  <thead>\n",
              "    <tr style=\"text-align: right;\">\n",
              "      <th></th>\n",
              "      <th>age</th>\n",
              "      <th>sex</th>\n",
              "      <th>trestbps</th>\n",
              "      <th>chol</th>\n",
              "      <th>fbs</th>\n",
              "      <th>restecg</th>\n",
              "      <th>thalach</th>\n",
              "      <th>exang</th>\n",
              "      <th>oldpeak</th>\n",
              "      <th>ca</th>\n",
              "      <th>target</th>\n",
              "      <th>cp_0</th>\n",
              "      <th>cp_1</th>\n",
              "      <th>cp_2</th>\n",
              "      <th>cp_3</th>\n",
              "      <th>thal_0</th>\n",
              "      <th>thal_1</th>\n",
              "      <th>thal_2</th>\n",
              "      <th>thal_3</th>\n",
              "      <th>slope_0</th>\n",
              "      <th>slope_1</th>\n",
              "      <th>slope_2</th>\n",
              "    </tr>\n",
              "  </thead>\n",
              "  <tbody>\n",
              "    <tr>\n",
              "      <th>0</th>\n",
              "      <td>63</td>\n",
              "      <td>1</td>\n",
              "      <td>145</td>\n",
              "      <td>233</td>\n",
              "      <td>1</td>\n",
              "      <td>0</td>\n",
              "      <td>150</td>\n",
              "      <td>0</td>\n",
              "      <td>2.3</td>\n",
              "      <td>0</td>\n",
              "      <td>1</td>\n",
              "      <td>0</td>\n",
              "      <td>0</td>\n",
              "      <td>0</td>\n",
              "      <td>1</td>\n",
              "      <td>0</td>\n",
              "      <td>1</td>\n",
              "      <td>0</td>\n",
              "      <td>0</td>\n",
              "      <td>1</td>\n",
              "      <td>0</td>\n",
              "      <td>0</td>\n",
              "    </tr>\n",
              "    <tr>\n",
              "      <th>1</th>\n",
              "      <td>37</td>\n",
              "      <td>1</td>\n",
              "      <td>130</td>\n",
              "      <td>250</td>\n",
              "      <td>0</td>\n",
              "      <td>1</td>\n",
              "      <td>187</td>\n",
              "      <td>0</td>\n",
              "      <td>3.5</td>\n",
              "      <td>0</td>\n",
              "      <td>1</td>\n",
              "      <td>0</td>\n",
              "      <td>0</td>\n",
              "      <td>1</td>\n",
              "      <td>0</td>\n",
              "      <td>0</td>\n",
              "      <td>0</td>\n",
              "      <td>1</td>\n",
              "      <td>0</td>\n",
              "      <td>1</td>\n",
              "      <td>0</td>\n",
              "      <td>0</td>\n",
              "    </tr>\n",
              "    <tr>\n",
              "      <th>2</th>\n",
              "      <td>41</td>\n",
              "      <td>0</td>\n",
              "      <td>130</td>\n",
              "      <td>204</td>\n",
              "      <td>0</td>\n",
              "      <td>0</td>\n",
              "      <td>172</td>\n",
              "      <td>0</td>\n",
              "      <td>1.4</td>\n",
              "      <td>0</td>\n",
              "      <td>1</td>\n",
              "      <td>0</td>\n",
              "      <td>1</td>\n",
              "      <td>0</td>\n",
              "      <td>0</td>\n",
              "      <td>0</td>\n",
              "      <td>0</td>\n",
              "      <td>1</td>\n",
              "      <td>0</td>\n",
              "      <td>0</td>\n",
              "      <td>0</td>\n",
              "      <td>1</td>\n",
              "    </tr>\n",
              "    <tr>\n",
              "      <th>3</th>\n",
              "      <td>56</td>\n",
              "      <td>1</td>\n",
              "      <td>120</td>\n",
              "      <td>236</td>\n",
              "      <td>0</td>\n",
              "      <td>1</td>\n",
              "      <td>178</td>\n",
              "      <td>0</td>\n",
              "      <td>0.8</td>\n",
              "      <td>0</td>\n",
              "      <td>1</td>\n",
              "      <td>0</td>\n",
              "      <td>1</td>\n",
              "      <td>0</td>\n",
              "      <td>0</td>\n",
              "      <td>0</td>\n",
              "      <td>0</td>\n",
              "      <td>1</td>\n",
              "      <td>0</td>\n",
              "      <td>0</td>\n",
              "      <td>0</td>\n",
              "      <td>1</td>\n",
              "    </tr>\n",
              "    <tr>\n",
              "      <th>4</th>\n",
              "      <td>57</td>\n",
              "      <td>0</td>\n",
              "      <td>120</td>\n",
              "      <td>354</td>\n",
              "      <td>0</td>\n",
              "      <td>1</td>\n",
              "      <td>163</td>\n",
              "      <td>1</td>\n",
              "      <td>0.6</td>\n",
              "      <td>0</td>\n",
              "      <td>1</td>\n",
              "      <td>1</td>\n",
              "      <td>0</td>\n",
              "      <td>0</td>\n",
              "      <td>0</td>\n",
              "      <td>0</td>\n",
              "      <td>0</td>\n",
              "      <td>1</td>\n",
              "      <td>0</td>\n",
              "      <td>0</td>\n",
              "      <td>0</td>\n",
              "      <td>1</td>\n",
              "    </tr>\n",
              "  </tbody>\n",
              "</table>\n",
              "</div>"
            ],
            "text/plain": [
              "   age  sex  trestbps  chol  fbs  ...  thal_2  thal_3  slope_0  slope_1  slope_2\n",
              "0   63    1       145   233    1  ...       0       0        1        0        0\n",
              "1   37    1       130   250    0  ...       1       0        1        0        0\n",
              "2   41    0       130   204    0  ...       1       0        0        0        1\n",
              "3   56    1       120   236    0  ...       1       0        0        0        1\n",
              "4   57    0       120   354    0  ...       1       0        0        0        1\n",
              "\n",
              "[5 rows x 22 columns]"
            ]
          },
          "metadata": {},
          "execution_count": 18
        }
      ]
    },
    {
      "cell_type": "markdown",
      "metadata": {
        "id": "9ocxFThkYcII"
      },
      "source": [
        "## Create Model for Logistic Regression"
      ]
    },
    {
      "cell_type": "code",
      "metadata": {
        "id": "Ls_8u7VGYZzG"
      },
      "source": [
        "# target과 data 파트 나눔\n",
        "y=df.target.values\n",
        "x_data = df.drop(['target'], axis=1)"
      ],
      "execution_count": 19,
      "outputs": []
    },
    {
      "cell_type": "code",
      "metadata": {
        "id": "ew1VIxZTYmIk"
      },
      "source": [
        "# target 분포 정규화\n",
        "x = (x_data - np.min(x_data)) / (np.max(x_data) - np.min(x_data)).values"
      ],
      "execution_count": 20,
      "outputs": []
    },
    {
      "cell_type": "code",
      "metadata": {
        "id": "FGEc4MWXYwaM"
      },
      "source": [
        "# test(20%), train(80%) split\n",
        "x_train, x_test, y_train, y_test = train_test_split(x,y,test_size=0.2, random_state=0)"
      ],
      "execution_count": 21,
      "outputs": []
    },
    {
      "cell_type": "code",
      "metadata": {
        "id": "L9mphQTnY62k"
      },
      "source": [
        "#transpose matrices\n",
        "x_train = x_train.T\n",
        "y_train = y_train.T\n",
        "x_test = x_test.T\n",
        "y_test = y_test.T"
      ],
      "execution_count": 22,
      "outputs": []
    },
    {
      "cell_type": "markdown",
      "metadata": {
        "id": "cSmXH7Pem1LI"
      },
      "source": [
        "Let's say weight=0.01 and bias=0.0"
      ]
    },
    {
      "cell_type": "code",
      "metadata": {
        "id": "PFtfAJeYZM3h"
      },
      "source": [
        "#initialize\n",
        "def initialize(dimension):\n",
        "    \n",
        "    weight = np.full((dimension,1),0.01)\n",
        "    bias = 0.0\n",
        "    return weight,bias"
      ],
      "execution_count": 23,
      "outputs": []
    },
    {
      "cell_type": "code",
      "metadata": {
        "id": "IfG4nPtunCdr"
      },
      "source": [
        "def sigmoid(z):\n",
        "    \n",
        "    y_head = 1/(1+ np.exp(-z))\n",
        "    return y_head"
      ],
      "execution_count": 24,
      "outputs": []
    },
    {
      "cell_type": "markdown",
      "metadata": {
        "id": "22GOlQkhndJr"
      },
      "source": [
        "##### Logistic Regression 직접 짜기"
      ]
    },
    {
      "cell_type": "code",
      "metadata": {
        "id": "wvoeEoDKnIgM"
      },
      "source": [
        "def forwardBackward(weight,bias,x_train,y_train):\n",
        "    # Forward\n",
        "    \n",
        "    y_head = sigmoid(np.dot(weight.T,x_train) + bias)\n",
        "    loss = -(y_train*np.log(y_head) + (1-y_train)*np.log(1-y_head))\n",
        "    cost = np.sum(loss) / x_train.shape[1]\n",
        "    \n",
        "    # Backward\n",
        "    derivative_weight = np.dot(x_train,((y_head-y_train).T))/x_train.shape[1]\n",
        "    derivative_bias = np.sum(y_head-y_train)/x_train.shape[1]\n",
        "    gradients = {\"Derivative Weight\" : derivative_weight, \"Derivative Bias\" : derivative_bias}\n",
        "    \n",
        "    return cost,gradients"
      ],
      "execution_count": 25,
      "outputs": []
    },
    {
      "cell_type": "code",
      "metadata": {
        "id": "ac7LWiRPoKyh"
      },
      "source": [
        "def update(weight,bias,x_train,y_train,learningRate,iteration) :\n",
        "    costList = []\n",
        "    index = []\n",
        "    \n",
        "    #for each iteration, update weight and bias values\n",
        "    for i in range(iteration):\n",
        "        cost,gradients = forwardBackward(weight,bias,x_train,y_train)\n",
        "        weight = weight - learningRate * gradients[\"Derivative Weight\"]\n",
        "        bias = bias - learningRate * gradients[\"Derivative Bias\"]\n",
        "        \n",
        "        costList.append(cost)\n",
        "        index.append(i)\n",
        "\n",
        "    parameters = {\"weight\": weight,\"bias\": bias}\n",
        "    \n",
        "    print(\"iteration:\",iteration)\n",
        "    print(\"cost:\",cost)\n",
        "\n",
        "    plt.plot(index,costList)\n",
        "    plt.xlabel(\"Number of Iteration\")\n",
        "    plt.ylabel(\"Cost\")\n",
        "    plt.show()\n",
        "\n",
        "    return parameters, gradients"
      ],
      "execution_count": 26,
      "outputs": []
    },
    {
      "cell_type": "code",
      "metadata": {
        "id": "Jl9Fctp9pNN0"
      },
      "source": [
        "def predict(weight,bias,x_test):\n",
        "    z = np.dot(weight.T,x_test) + bias\n",
        "    y_head = sigmoid(z)\n",
        "\n",
        "    y_prediction = np.zeros((1,x_test.shape[1]))\n",
        "    \n",
        "    for i in range(y_head.shape[1]):\n",
        "        if y_head[0,i] <= 0.5:\n",
        "            y_prediction[0,i] = 0\n",
        "        else:\n",
        "            y_prediction[0,i] = 1\n",
        "    return y_prediction"
      ],
      "execution_count": 27,
      "outputs": []
    },
    {
      "cell_type": "code",
      "metadata": {
        "id": "m9rZxmbFpYt6"
      },
      "source": [
        "def logistic_regression(x_train,y_train,x_test,y_test,learningRate,iteration):\n",
        "    dimension = x_train.shape[0]\n",
        "    weight,bias = initialize(dimension)\n",
        "    \n",
        "    parameters, gradients = update(weight,bias,x_train,y_train,learningRate,iteration)\n",
        "\n",
        "    y_prediction = predict(parameters[\"weight\"],parameters[\"bias\"],x_test)\n",
        "    \n",
        "    print(\"Manuel Test Accuracy: {:.2f}%\".format((100 - np.mean(np.abs(y_prediction - y_test))*100)))"
      ],
      "execution_count": 28,
      "outputs": []
    },
    {
      "cell_type": "code",
      "metadata": {
        "colab": {
          "base_uri": "https://localhost:8080/",
          "height": 332
        },
        "id": "RLB0ypo7qAor",
        "outputId": "3deba5e4-2e1f-4263-b51e-faa135c07d5a"
      },
      "source": [
        "logistic_regression(x_train,y_train,x_test,y_test,1,100)"
      ],
      "execution_count": 29,
      "outputs": [
        {
          "output_type": "stream",
          "name": "stdout",
          "text": [
            "iteration: 100\n",
            "cost: 0.35977361236645333\n"
          ]
        },
        {
          "output_type": "display_data",
          "data": {
            "image/png": "[encoded data removed]",
            "text/plain": [
              "<Figure size 432x288 with 1 Axes>"
            ]
          },
          "metadata": {
            "needs_background": "light"
          }
        },
        {
          "output_type": "stream",
          "name": "stdout",
          "text": [
            "Manuel Test Accuracy: 86.89%\n"
          ]
        }
      ]
    },
    {
      "cell_type": "code",
      "metadata": {
        "colab": {
          "base_uri": "https://localhost:8080/"
        },
        "id": "jGJ_5UHHqEdA",
        "outputId": "ad45d299-7544-456c-cc6f-393a9cfbc050"
      },
      "source": [
        "# Sklearn Logistic Regression\n",
        "accuracies = {}\n",
        "\n",
        "lr = LogisticRegression()\n",
        "lr.fit(x_train.T, y_train)\n",
        "acc = lr.score(x_test.T, y_test.T)*100\n",
        "\n",
        "accuracies['Logistic Regression'] = acc\n",
        "print(\"Test Accuracy {:.2f}%\".format(acc))"
      ],
      "execution_count": 30,
      "outputs": [
        {
          "output_type": "stream",
          "name": "stdout",
          "text": [
            "Test Accuracy 86.89%\n"
          ]
        }
      ]
    },
    {
      "cell_type": "markdown",
      "metadata": {
        "id": "5mP2QoZM-nva"
      },
      "source": [
        "#### KNN Algorithm"
      ]
    },
    {
      "cell_type": "code",
      "metadata": {
        "id": "VIDdASA7rxd5",
        "colab": {
          "base_uri": "https://localhost:8080/"
        },
        "outputId": "6dfe5a85-16b6-431c-c486-f18be82cecbe"
      },
      "source": [
        "# KNN Model\n",
        "from sklearn.neighbors import KNeighborsClassifier\n",
        "knn = KNeighborsClassifier(n_neighbors =2) # n_neighbors means k\n",
        "knn.fit(x_train.T, y_train.T)\n",
        "prediction = knn.predict(x_test.T)\n",
        "\n",
        "print(\"{}NN Score: {:.2f}%\".format(2, knn.score(x_test.T, y_test.T)*100)) # 정확도 계산"
      ],
      "execution_count": 34,
      "outputs": [
        {
          "output_type": "stream",
          "name": "stdout",
          "text": [
            "2NN Score: 77.05%\n"
          ]
        }
      ]
    },
    {
      "cell_type": "code",
      "metadata": {
        "colab": {
          "base_uri": "https://localhost:8080/",
          "height": 297
        },
        "id": "k8Ql7SVz-_YT",
        "outputId": "f2297576-afbf-468c-cca1-babf2a4572c6"
      },
      "source": [
        "# try to find best k value\n",
        "scoreList = []\n",
        "for i in range(1,20):\n",
        "  knn2 = KNeighborsClassifier(n_neighbors = i) # n_neighbors means k\n",
        "  knn2.fit(x_train.T, y_train.T)\n",
        "  scoreList.append(knn2.score(x_test.T, y_test.T))\n",
        "\n",
        "plt.plot(range(1,20), scoreList)\n",
        "plt.xticks(np.arange(1,20,1))\n",
        "plt.xlabel(\"K value\")\n",
        "plt.ylabel(\"Score\")\n",
        "plt.show()\n",
        "\n",
        "acc = max(scoreList)*100\n",
        "accuracies['KNN']=acc\n",
        "print(\"Maximum KNN Score is {:.2f}%\".format(acc))\n",
        "# k=3,7,8이 적합 "
      ],
      "execution_count": 36,
      "outputs": [
        {
          "output_type": "display_data",
          "data": {
            "image/png": "[encoded data removed]",
            "text/plain": [
              "<Figure size 432x288 with 1 Axes>"
            ]
          },
          "metadata": {
            "needs_background": "light"
          }
        },
        {
          "output_type": "stream",
          "name": "stdout",
          "text": [
            "Maximum KNN Score is 88.52%\n"
          ]
        }
      ]
    },
    {
      "cell_type": "markdown",
      "metadata": {
        "id": "76pvHYbaAFJQ"
      },
      "source": [
        "### SVM Algorithm"
      ]
    },
    {
      "cell_type": "code",
      "metadata": {
        "colab": {
          "base_uri": "https://localhost:8080/"
        },
        "id": "0c2yq1gn_0PK",
        "outputId": "3d95b2ac-bd48-4781-a8cd-79542993cd4f"
      },
      "source": [
        "from sklearn.svm import SVC\n",
        "\n",
        "svm = SVC(random_state=1)\n",
        "svm.fit(x_train.T, y_train.T)\n",
        "\n",
        "acc=svm.score(x_test.T, y_test.T)*100\n",
        "accuracies['SVM']=acc\n",
        "print(\"Test Accuracy of SVM Algorithm : {:.2f}\".format(acc))"
      ],
      "execution_count": 37,
      "outputs": [
        {
          "output_type": "stream",
          "name": "stdout",
          "text": [
            "Test Accuracy of SVM Algorithm : 88.52\n"
          ]
        }
      ]
    },
    {
      "cell_type": "markdown",
      "metadata": {
        "id": "EnRNUEt5An5E"
      },
      "source": [
        "### Naive Bayes Algorithm"
      ]
    },
    {
      "cell_type": "code",
      "metadata": {
        "colab": {
          "base_uri": "https://localhost:8080/"
        },
        "id": "IgUjIaIhAiHu",
        "outputId": "8051e541-a6f8-4979-ac1d-e6d2fb786cf9"
      },
      "source": [
        "from sklearn.naive_bayes import GaussianNB\n",
        "nb = GaussianNB()\n",
        "nb.fit(x_train.T, y_train.T)\n",
        "\n",
        "acc=nb.score(x_test.T, y_test.T)*100\n",
        "accuracies['Naive Bayes']=acc\n",
        "print(\"Accuracy of Naive Bayes: {:.2f}%\".format(acc))"
      ],
      "execution_count": 38,
      "outputs": [
        {
          "output_type": "stream",
          "name": "stdout",
          "text": [
            "Accuracy of Naive Bayes: 86.89%\n"
          ]
        }
      ]
    },
    {
      "cell_type": "markdown",
      "metadata": {
        "id": "9SLXSmO4Bky0"
      },
      "source": [
        "### Decision Tree"
      ]
    },
    {
      "cell_type": "code",
      "metadata": {
        "colab": {
          "base_uri": "https://localhost:8080/"
        },
        "id": "RQreP6JJBiJC",
        "outputId": "6242eee0-17d5-4b0b-8b07-e354a9aeff69"
      },
      "source": [
        "from sklearn.tree import DecisionTreeClassifier\n",
        "dtc = DecisionTreeClassifier()\n",
        "dtc.fit(x_train.T, y_train.T)\n",
        "\n",
        "acc= dtc.score(x_test.T, y_test.T)*100\n",
        "accuracies['Decision Tree']=acc\n",
        "print(\"Decision Tree Test Accuracy {:.2f}%\".format(acc))"
      ],
      "execution_count": 39,
      "outputs": [
        {
          "output_type": "stream",
          "name": "stdout",
          "text": [
            "Decision Tree Test Accuracy 75.41%\n"
          ]
        }
      ]
    },
    {
      "cell_type": "markdown",
      "metadata": {
        "id": "mCKPP7aDB7pj"
      },
      "source": [
        "### Random Forest Classification"
      ]
    },
    {
      "cell_type": "code",
      "metadata": {
        "colab": {
          "base_uri": "https://localhost:8080/"
        },
        "id": "O0nZ--73B4nu",
        "outputId": "183ec913-a904-479e-fd5d-331a8419b957"
      },
      "source": [
        "# Random Forest Classification\n",
        "from sklearn.ensemble import RandomForestClassifier\n",
        "rf=RandomForestClassifier(n_estimators=1000, random_state=1)\n",
        "rf.fit(x_train.T, y_train.T)\n",
        "\n",
        "acc=rf.score(x_test.T, y_test.T)*100\n",
        "accuracies['Random Forest'] =acc\n",
        "print(\"Random Forest Algorithm Accuracy score: {:.2f}%\".format(acc))"
      ],
      "execution_count": 42,
      "outputs": [
        {
          "output_type": "stream",
          "name": "stdout",
          "text": [
            "Random Forest Algorithm Accuracy score: 88.52%\n"
          ]
        }
      ]
    },
    {
      "cell_type": "markdown",
      "metadata": {
        "id": "h7ImTcx0CcIb"
      },
      "source": [
        "## Comparing Models"
      ]
    },
    {
      "cell_type": "code",
      "metadata": {
        "colab": {
          "base_uri": "https://localhost:8080/",
          "height": 334
        },
        "id": "8LdqxCUWCU2q",
        "outputId": "a96e2fbf-1e08-4064-8070-8bcfc37ce504"
      },
      "source": [
        "colors = [\"purple\", \"green\", \"orange\", \"magenta\", \"#CFC60E\",\"#0FBBAE\"]\n",
        "\n",
        "sns.set_style(\"whitegrid\")\n",
        "plt.figure(figsize=(16,5))\n",
        "plt.yticks(np.arange(0,100,10))\n",
        "plt.ylabel(\"Accuracy %\")\n",
        "plt.xlabel(\"Algorithms\")\n",
        "sns.barplot(x=list(accuracies.keys()), y=list(accuracies.values()), palette=colors)\n",
        "plt.show()"
      ],
      "execution_count": 43,
      "outputs": [
        {
          "output_type": "display_data",
          "data": {
            "image/png": "[encoded data removed]",
            "text/plain": [
              "<Figure size 1152x360 with 1 Axes>"
            ]
          },
          "metadata": {}
        }
      ]
    },
    {
      "cell_type": "markdown",
      "metadata": {
        "id": "B7L8zXMMDJaC"
      },
      "source": [
        "## Confusion Matrix"
      ]
    },
    {
      "cell_type": "code",
      "metadata": {
        "id": "XE9oTEC5C-h3"
      },
      "source": [
        "# predicted values\n",
        "y_head_lr = lr.predict(x_test.T)\n",
        "knn3 = KNeighborsClassifier(n_neighbors=3)\n",
        "knn3.fit(x_train.T, y_train.T)\n",
        "y_head_knn = knn3.predict(x_test.T)\n",
        "y_head_svm = svm.predict(x_test.T)\n",
        "y_head_nb = nb.predict(x_test.T)\n",
        "y_head_dtc = dtc.predict(x_test.T)\n",
        "y_head_rf = rf.predict(x_test.T)"
      ],
      "execution_count": 44,
      "outputs": []
    },
    {
      "cell_type": "code",
      "metadata": {
        "id": "8zefR_9CEDVf"
      },
      "source": [
        "from sklearn.metrics import confusion_matrix\n",
        "\n",
        "cm_lr=confusion_matrix(y_test, y_head_lr)\n",
        "cm_knn = confusion_matrix(y_test,y_head_knn)\n",
        "cm_svm = confusion_matrix(y_test,y_head_svm)\n",
        "cm_nb = confusion_matrix(y_test,y_head_nb)\n",
        "cm_dtc = confusion_matrix(y_test,y_head_dtc)\n",
        "cm_rf = confusion_matrix(y_test,y_head_rf)"
      ],
      "execution_count": 48,
      "outputs": []
    },
    {
      "cell_type": "code",
      "metadata": {
        "colab": {
          "base_uri": "https://localhost:8080/",
          "height": 787
        },
        "id": "EHCCbqv0EUd4",
        "outputId": "5499efe4-43c8-4139-8e9f-79aa94ab2f28"
      },
      "source": [
        "plt.figure(figsize=(24,12))\n",
        "\n",
        "plt.suptitle(\"Confusion Matrixes\",fontsize=24)\n",
        "plt.subplots_adjust(wspace = 0.4, hspace= 0.4)\n",
        "\n",
        "plt.subplot(2,3,1)\n",
        "plt.title(\"Logistic Regression Confusion Matrix\")\n",
        "sns.heatmap(cm_lr,annot=True,cmap=\"Blues\",fmt=\"d\",cbar=False, annot_kws={\"size\": 24})\n",
        "\n",
        "plt.subplot(2,3,2)\n",
        "plt.title(\"K Nearest Neighbors Confusion Matrix\")\n",
        "sns.heatmap(cm_knn,annot=True,cmap=\"Blues\",fmt=\"d\",cbar=False, annot_kws={\"size\": 24})\n",
        "\n",
        "plt.subplot(2,3,3)\n",
        "plt.title(\"Support Vector Machine Confusion Matrix\")\n",
        "sns.heatmap(cm_svm,annot=True,cmap=\"Blues\",fmt=\"d\",cbar=False, annot_kws={\"size\": 24})\n",
        "\n",
        "plt.subplot(2,3,4)\n",
        "plt.title(\"Naive Bayes Confusion Matrix\")\n",
        "sns.heatmap(cm_nb,annot=True,cmap=\"Blues\",fmt=\"d\",cbar=False, annot_kws={\"size\": 24})\n",
        "\n",
        "plt.subplot(2,3,5)\n",
        "plt.title(\"Decision Tree Classifier Confusion Matrix\")\n",
        "sns.heatmap(cm_dtc,annot=True,cmap=\"Blues\",fmt=\"d\",cbar=False, annot_kws={\"size\": 24})\n",
        "\n",
        "plt.subplot(2,3,6)\n",
        "plt.title(\"Random Forest Confusion Matrix\")\n",
        "sns.heatmap(cm_rf,annot=True,cmap=\"Blues\",fmt=\"d\",cbar=False, annot_kws={\"size\": 24})\n",
        "\n",
        "plt.show()"
      ],
      "execution_count": 51,
      "outputs": [
        {
          "output_type": "display_data",
          "data": {
            "image/png": "[encoded data removed]",
            "text/plain": [
              "<Figure size 1728x864 with 6 Axes>"
            ]
          },
          "metadata": {}
        }
      ]
    },
    {
      "cell_type": "code",
      "metadata": {
        "id": "yfiS89ibE3y3"
      },
      "source": [
        ""
      ],
      "execution_count": null,
      "outputs": []
    }
  ]
}