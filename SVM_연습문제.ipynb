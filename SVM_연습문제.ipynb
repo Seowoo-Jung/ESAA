{
  "nbformat": 4,
  "nbformat_minor": 0,
  "metadata": {
    "colab": {
      "name": "SVM_연습문제.ipynb",
      "provenance": [],
      "collapsed_sections": [],
      "include_colab_link": true
    },
    "kernelspec": {
      "name": "python3",
      "display_name": "Python 3"
    },
    "language_info": {
      "name": "python"
    }
  },
  "cells": [
    {
      "cell_type": "markdown",
      "metadata": {
        "id": "view-in-github",
        "colab_type": "text"
      },
      "source": [
        "<a href=\"https://colab.research.google.com/github/Seowoo-Jung/ESAA/blob/main/SVM_%EC%97%B0%EC%8A%B5%EB%AC%B8%EC%A0%9C.ipynb\" target=\"_parent\"><img src=\"https://colab.research.google.com/assets/colab-badge.svg\" alt=\"Open In Colab\"/></a>"
      ]
    },
    {
      "cell_type": "code",
      "metadata": {
        "id": "lYWK3uHVVqbm"
      },
      "source": [
        ""
      ],
      "execution_count": null,
      "outputs": []
    },
    {
      "cell_type": "markdown",
      "metadata": {
        "id": "CjaYSVJyWEcc"
      },
      "source": [
        "**2. 서포트 벡터가 무엇인가요?**"
      ]
    },
    {
      "cell_type": "markdown",
      "metadata": {
        "id": "q7aP2nkfXAq5"
      },
      "source": [
        "**답** :\n",
        "\n",
        ":경계에 위치한 샘플에 의해 경계를 결정하고 이들이 최대한 멀리 떨어지도록 하여 분류 혹은 회귀를 하는 기법."
      ]
    },
    {
      "cell_type": "markdown",
      "metadata": {
        "id": "l-8URMsSF5-a"
      },
      "source": [
        "**3. SVM을 사용할 때 입력값의 스케일이 왜 중요한가요?**"
      ]
    },
    {
      "cell_type": "markdown",
      "metadata": {
        "id": "uW2v-wnOF8UW"
      },
      "source": [
        "**답** :\n",
        "\n",
        " SVM은 스케일에 민감하기 때문에 스케일을 맞춰주면 결정경계가 좋아진다.\n",
        "\n",
        " - 훈련세트의 스케일이 맞지 않으면 크기가 작은 특성을 무시하는 경향이 있다."
      ]
    },
    {
      "cell_type": "markdown",
      "metadata": {
        "id": "TfRaWu4dXDsf"
      },
      "source": [
        "**8. 선형적으로 분리되는 데이터셋에 LinearSVC를 훈련시켜보세요. 그런 다음 같은 데이터셋에 SVC와 SGDClassifier를 적용해보세요. 거의 비슷한 모델이 만들어지는지 확인해보세요.**"
      ]
    },
    {
      "cell_type": "code",
      "metadata": {
        "id": "yj2Fd6v7XJpv"
      },
      "source": [
        "from sklearn import datasets\n",
        "import numpy as np\n",
        "from sklearn.svm import LinearSVC, SVC\n",
        "from sklearn.linear_model import SGDClassifier\n",
        "from sklearn.preprocessing import StandardScaler\n",
        "import matplotlib.pyplot as plt"
      ],
      "execution_count": 1,
      "outputs": []
    },
    {
      "cell_type": "code",
      "metadata": {
        "id": "Fwz70i3mBV-9"
      },
      "source": [
        "# iris data를 로드하고 x,y를 지정해줍니다.\n",
        "#(힌트: 핸즈온 머신러닝 교재 208쪽 참고)\n",
        "iris=datasets.load_iris()\n",
        "X=iris[\"data\"][:,(2,3)]\n",
        "y=(iris[\"target\"]==2).astype(np.float64)"
      ],
      "execution_count": 27,
      "outputs": []
    },
    {
      "cell_type": "code",
      "metadata": {
        "id": "3_FHdGvaEE2Q"
      },
      "source": [
        "C = 5 \n",
        "alpha = 1 / (C * len(X))\n"
      ],
      "execution_count": 28,
      "outputs": []
    },
    {
      "cell_type": "code",
      "metadata": {
        "id": "aupH_y9REIv5",
        "colab": {
          "base_uri": "https://localhost:8080/"
        },
        "outputId": "9df8762f-b7b6-48b4-9c77-7549ccd8fb3d"
      },
      "source": [
        "# LinearSVC 학습하기\n",
        "lin_svc = LinearSVC(loss='hinge',C=C,random_state=42)\n",
        "svc = SVC(kernel='linear',C=C)\n",
        "sgd_clf = SGDClassifier(loss='hinge', learning_rate = 'constant', eta0=0.001, tol=1e-3,alpha=alpha,\n",
        "                       max_iter=100000, random_state=42)\n",
        "\n",
        "# 위를 이용하여 데이터 스케일링 후 LinearSVC,SVC,SGDClassifier 구하기\n",
        "scaler=StandardScaler()\n",
        "X_scaled=scaler.fit_transform(X)\n",
        "\n",
        "lin_svc.fit(X_scaled, y)\n",
        "svc.fit(X_scaled, y)\n",
        "sgd_clf.fit(X_scaled, y)\n"
      ],
      "execution_count": 29,
      "outputs": [
        {
          "output_type": "execute_result",
          "data": {
            "text/plain": [
              "SGDClassifier(alpha=0.0013333333333333333, average=False, class_weight=None,\n",
              "              early_stopping=False, epsilon=0.1, eta0=0.001, fit_intercept=True,\n",
              "              l1_ratio=0.15, learning_rate='constant', loss='hinge',\n",
              "              max_iter=100000, n_iter_no_change=5, n_jobs=None, penalty='l2',\n",
              "              power_t=0.5, random_state=42, shuffle=True, tol=0.001,\n",
              "              validation_fraction=0.1, verbose=0, warm_start=False)"
            ]
          },
          "metadata": {},
          "execution_count": 29
        }
      ]
    },
    {
      "cell_type": "code",
      "metadata": {
        "id": "0EtRWmxhAs9Q"
      },
      "source": [
        "?lin_svc"
      ],
      "execution_count": 30,
      "outputs": []
    },
    {
      "cell_type": "code",
      "metadata": {
        "colab": {
          "base_uri": "https://localhost:8080/"
        },
        "id": "ycBIVC6PBF0h",
        "outputId": "b6d80b16-e98c-4fb2-d250-a850abdb5d7f"
      },
      "source": [
        "print('linear:', lin_svc.coef_, lin_svc.intercept_)\n",
        "print('svc:', svc.coef_, svc.intercept_)\n",
        "print('sgd_clf:', sgd_clf.coef_, sgd_clf.intercept_)"
      ],
      "execution_count": 31,
      "outputs": [
        {
          "output_type": "stream",
          "name": "stdout",
          "text": [
            "linear: [[2.19679117 3.16730946]] [-3.17999994]\n",
            "svc: [[2.84187135 3.29080461]] [-3.71602789]\n",
            "sgd_clf: [[0.97438163 1.33109798]] [-1.394]\n"
          ]
        }
      ]
    },
    {
      "cell_type": "markdown",
      "metadata": {
        "id": "I8QxEAM-E64F"
      },
      "source": [
        "\n",
        "- 기울기와 편향 계산시 coef이용하는법\n",
        "\n",
        "https://datascience.stackexchange.com/questions/17970/how-can-i-know-how-to-interpret-the-output-coefficients-coefs-from-the-mode\n",
        "\n"
      ]
    },
    {
      "cell_type": "code",
      "metadata": {
        "id": "8tTbQTEpBWIC",
        "colab": {
          "base_uri": "https://localhost:8080/",
          "height": 282
        },
        "outputId": "50092f2e-3481-414b-ef29-070650d4639a"
      },
      "source": [
        "# 세 개 모델의 결정 경계를 그리기\n",
        "# 먼저 결정 결제들의 기울기(W)와 편향(b)을 구함\n",
        "\n",
        "w1= -lin_svc.coef_[0,0] / lin_svc.coef_[0,1]\n",
        "b2= -lin_svc.intercept_[0]/ lin_svc.coef_[0,1]\n",
        "\n",
        "w2= -svc.coef_[0,0] / svc.coef_[0,1]\n",
        "b1= -svc.intercept_[0]/ svc.coef_[0,1]\n",
        "\n",
        "w3= -sgd_clf.coef_[0,0] / sgd_clf.coef_[0,1]\n",
        "b3= -sgd_clf.intercept_[0]/ sgd_clf.coef_[0,1]\n",
        "\n",
        "\n",
        "# 결정 결계를 원본 스케일로 변환하기 : inverse_transform\n",
        "line1=scaler.inverse_transform([[-10, -10*w1+b1], [10, 10*w1+b1]]) # 직선을 그리기 위해 임의의 두점을 설정한것!\n",
        "line2=scaler.inverse_transform([[-10, -10*w2+b2], [10, 10*w2+b2]])\n",
        "line3=scaler.inverse_transform([[-10, -10*w3+b3], [10, 10*w3+b3]])\n",
        "\n",
        "# 세 개의 결정 경계를 모두 그리기\n",
        "plt.figure(figsize=(11,4))\n",
        "plt.plot(line1[:,0], line1[:,1],'k:', label=\"LinearSVC\")\n",
        "plt.plot(line2[:,0], line2[:,1],'b--', linewidth=2, label=\"SVC\")\n",
        "plt.plot(line3[:,0], line3[:,1],'r-', label=\"SGDClassifier\")\n",
        "\n",
        "plt.plot(X[:,0][y==1], X[:,1][y==1], 'bs')\n",
        "plt.plot(X[:,0][y==0], X[:,1][y==0], 'yo')\n",
        "plt.legend(loc=\"upper center\", fontsize=14)\n",
        "\n",
        "\n",
        "\n",
        "# 아주 비슷한 결정 경계를 보인다. "
      ],
      "execution_count": 32,
      "outputs": [
        {
          "output_type": "execute_result",
          "data": {
            "text/plain": [
              "<matplotlib.legend.Legend at 0x7f25a17c8ed0>"
            ]
          },
          "metadata": {},
          "execution_count": 32
        },
        {
          "output_type": "display_data",
          "data": {
            "image/png": "[encoded data removed]",
            "text/plain": [
              "<Figure size 792x288 with 1 Axes>"
            ]
          },
          "metadata": {
            "needs_background": "light"
          }
        }
      ]
    },
    {
      "cell_type": "code",
      "metadata": {
        "id": "ZNG84j53Dm6J"
      },
      "source": [
        "# 너무 어려울 경우 https://leechamin.tistory.com/83 참고 "
      ],
      "execution_count": null,
      "outputs": []
    },
    {
      "cell_type": "code",
      "metadata": {
        "id": "UTEBBd1iIWjU"
      },
      "source": [
        ""
      ],
      "execution_count": null,
      "outputs": []
    }
  ]
}