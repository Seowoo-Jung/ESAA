{
 "cells": [
  {
   "cell_type": "markdown",
   "metadata": {},
   "source": [
    "### Amazon Review를 이용한 추천 시스템 실습 - suprise 패키지 사용\n",
    "\n",
    "[블로그 링크](simonezz.tistory.com/42)\n",
    "\n"
   ]
  },
  {
   "cell_type": "code",
   "execution_count": 1,
   "metadata": {},
   "outputs": [],
   "source": [
    "import numpy as np # linear algebra\n",
    "import pandas as pd # data processing, CSV file I/O (e.g. pd.read_csv)\n",
    "import os\n",
    "from IPython.core.interactiveshell import InteractiveShell\n",
    "InteractiveShell.ast_node_interactivity = \"all\"\n",
    "import math\n",
    "import json\n",
    "import time\n",
    "import matplotlib.pyplot as plt\n",
    "import seaborn as sns\n",
    "from sklearn.metrics.pairwise import cosine_similarity\n",
    "from sklearn.model_selection import train_test_split\n",
    "from sklearn.neighbors import NearestNeighbors\n",
    "# from sklearn.externals import joblib\n",
    "import scipy.sparse\n",
    "from scipy.sparse import csr_matrix\n",
    "from scipy.sparse.linalg import svds\n",
    "import warnings; warnings.simplefilter('ignore')\n",
    "%matplotlib inline"
   ]
  },
  {
   "cell_type": "code",
   "execution_count": 2,
   "metadata": {},
   "outputs": [],
   "source": [
    "# 데이터 불러오기\n",
    "electronics_data=pd.read_csv(\"ratings_Electronics (1).csv\", names=['userId', 'productId', 'Rating','timestamp'])"
   ]
  },
  {
   "cell_type": "code",
   "execution_count": 3,
   "metadata": {},
   "outputs": [
    {
     "name": "stdout",
     "output_type": "stream",
     "text": [
      "           userId   productId  Rating   timestamp\n",
      "0   AKM1MP6P0OYPR  0132793040     5.0  1365811200\n",
      "1  A2CX7LUOHB2NDG  0321732944     5.0  1341100800\n",
      "2  A2NWSAGRHCP8N5  0439886341     1.0  1367193600\n",
      "3  A2WNBOD3WNDNKT  0439886341     3.0  1374451200\n",
      "4  A1GI0U4ZRJA8WN  0439886341     1.0  1334707200\n",
      "(7824482, 4)\n"
     ]
    }
   ],
   "source": [
    "# 데이터 모양 확인\n",
    "print(electronics_data.head())\n",
    "print(electronics_data.shape)"
   ]
  },
  {
   "cell_type": "code",
   "execution_count": 4,
   "metadata": {},
   "outputs": [],
   "source": [
    "# 데이터 자르기\n",
    "electronics_data=electronics_data.iloc[:1048576, 0:]"
   ]
  },
  {
   "cell_type": "code",
   "execution_count": 5,
   "metadata": {},
   "outputs": [
    {
     "data": {
      "text/plain": [
       "userId        object\n",
       "productId     object\n",
       "Rating       float64\n",
       "timestamp      int64\n",
       "dtype: object"
      ]
     },
     "execution_count": 5,
     "metadata": {},
     "output_type": "execute_result"
    }
   ],
   "source": [
    "# 데이터 타입 확인\n",
    "electronics_data.dtypes"
   ]
  },
  {
   "cell_type": "code",
   "execution_count": 6,
   "metadata": {},
   "outputs": [
    {
     "data": {
      "text/plain": [
       "count    1.048576e+06\n",
       "mean     3.973380e+00\n",
       "std      1.399329e+00\n",
       "min      1.000000e+00\n",
       "25%      3.000000e+00\n",
       "50%      5.000000e+00\n",
       "75%      5.000000e+00\n",
       "max      5.000000e+00\n",
       "Name: Rating, dtype: float64"
      ]
     },
     "execution_count": 6,
     "metadata": {},
     "output_type": "execute_result"
    }
   ],
   "source": [
    "electronics_data.describe()['Rating']"
   ]
  },
  {
   "cell_type": "code",
   "execution_count": 7,
   "metadata": {},
   "outputs": [
    {
     "name": "stdout",
     "output_type": "stream",
     "text": [
      "max of rating : 5\n",
      "min of rating : 1\n"
     ]
    }
   ],
   "source": [
    "# 평가 range 결정하기\n",
    "print(\"max of rating : %d\" %(electronics_data.Rating.max()))\n",
    "print(\"min of rating : %d\" %(electronics_data.Rating.min()))"
   ]
  },
  {
   "cell_type": "markdown",
   "metadata": {},
   "source": [
    "### Missing values 수"
   ]
  },
  {
   "cell_type": "code",
   "execution_count": 8,
   "metadata": {},
   "outputs": [
    {
     "name": "stdout",
     "output_type": "stream",
     "text": [
      "Numbe of missing values across columns: \n",
      " userId       0\n",
      "productId    0\n",
      "Rating       0\n",
      "timestamp    0\n",
      "dtype: int64\n"
     ]
    }
   ],
   "source": [
    "print(\"Numbe of missing values across columns: \\n\", electronics_data.isnull().sum())"
   ]
  },
  {
   "cell_type": "markdown",
   "metadata": {},
   "source": [
    "### Ratings"
   ]
  },
  {
   "cell_type": "code",
   "execution_count": 9,
   "metadata": {},
   "outputs": [
    {
     "data": {
      "text/plain": [
       "<seaborn.axisgrid.FacetGrid at 0x2512c0f8730>"
      ]
     },
     "execution_count": 9,
     "metadata": {},
     "output_type": "execute_result"
    },
    {
     "data": {
      "image/png": "[encoded data removed]",
      "text/plain": [
       "<Figure size 720x360 with 1 Axes>"
      ]
     },
     "metadata": {},
     "output_type": "display_data"
    }
   ],
   "source": [
    "with sns.axes_style(\"white\"):\n",
    "    g = sns.factorplot(\"Rating\", data=electronics_data, \n",
    "                      aspect=2.0, kind=\"count\")\n",
    "    g.set_ylabels(\"Total number of ratings\")"
   ]
  },
  {
   "cell_type": "code",
   "execution_count": 10,
   "metadata": {},
   "outputs": [
    {
     "name": "stdout",
     "output_type": "stream",
     "text": [
      "Total data\n",
      "--------------------------------------------------\n",
      "\n",
      "Total num of ratings: 1048576\n",
      "Total num of Users:  786330\n",
      "Total num of products:  61894\n"
     ]
    }
   ],
   "source": [
    "print(\"Total data\")\n",
    "print(\"-\"*50)\n",
    "print(\"\\nTotal num of ratings:\" , electronics_data.shape[0])\n",
    "print(\"Total num of Users: \", len(np.unique(electronics_data.userId)))\n",
    "print(\"Total num of products: \", len(np.unique(electronics_data.productId)))"
   ]
  },
  {
   "cell_type": "code",
   "execution_count": 11,
   "metadata": {},
   "outputs": [],
   "source": [
    "# 의미 없는 column 버리기\n",
    "electronics_data.drop(['timestamp'], axis=1, inplace=True)"
   ]
  },
  {
   "cell_type": "code",
   "execution_count": 12,
   "metadata": {},
   "outputs": [
    {
     "data": {
      "text/html": [
       "<div>\n",
       "<style scoped>\n",
       "    .dataframe tbody tr th:only-of-type {\n",
       "        vertical-align: middle;\n",
       "    }\n",
       "\n",
       "    .dataframe tbody tr th {\n",
       "        vertical-align: top;\n",
       "    }\n",
       "\n",
       "    .dataframe thead th {\n",
       "        text-align: right;\n",
       "    }\n",
       "</style>\n",
       "<table border=\"1\" class=\"dataframe\">\n",
       "  <thead>\n",
       "    <tr style=\"text-align: right;\">\n",
       "      <th></th>\n",
       "      <th>userId</th>\n",
       "      <th>productId</th>\n",
       "      <th>Rating</th>\n",
       "    </tr>\n",
       "  </thead>\n",
       "  <tbody>\n",
       "    <tr>\n",
       "      <th>0</th>\n",
       "      <td>AKM1MP6P0OYPR</td>\n",
       "      <td>0132793040</td>\n",
       "      <td>5.0</td>\n",
       "    </tr>\n",
       "    <tr>\n",
       "      <th>1</th>\n",
       "      <td>A2CX7LUOHB2NDG</td>\n",
       "      <td>0321732944</td>\n",
       "      <td>5.0</td>\n",
       "    </tr>\n",
       "    <tr>\n",
       "      <th>2</th>\n",
       "      <td>A2NWSAGRHCP8N5</td>\n",
       "      <td>0439886341</td>\n",
       "      <td>1.0</td>\n",
       "    </tr>\n",
       "    <tr>\n",
       "      <th>3</th>\n",
       "      <td>A2WNBOD3WNDNKT</td>\n",
       "      <td>0439886341</td>\n",
       "      <td>3.0</td>\n",
       "    </tr>\n",
       "    <tr>\n",
       "      <th>4</th>\n",
       "      <td>A1GI0U4ZRJA8WN</td>\n",
       "      <td>0439886341</td>\n",
       "      <td>1.0</td>\n",
       "    </tr>\n",
       "  </tbody>\n",
       "</table>\n",
       "</div>"
      ],
      "text/plain": [
       "           userId   productId  Rating\n",
       "0   AKM1MP6P0OYPR  0132793040     5.0\n",
       "1  A2CX7LUOHB2NDG  0321732944     5.0\n",
       "2  A2NWSAGRHCP8N5  0439886341     1.0\n",
       "3  A2WNBOD3WNDNKT  0439886341     3.0\n",
       "4  A1GI0U4ZRJA8WN  0439886341     1.0"
      ]
     },
     "execution_count": 12,
     "metadata": {},
     "output_type": "execute_result"
    }
   ],
   "source": [
    "electronics_data.head()"
   ]
  },
  {
   "cell_type": "markdown",
   "metadata": {},
   "source": [
    "### Ratings 분석"
   ]
  },
  {
   "cell_type": "code",
   "execution_count": 13,
   "metadata": {},
   "outputs": [
    {
     "data": {
      "text/plain": [
       "userId\n",
       "A5JLAU2ARJ0BO     412\n",
       "A231WM2Z2JL0U3    249\n",
       "A25HBO5V8S8SEA    164\n",
       "A6FIAB28IS79      146\n",
       "AT6CZDCP4TRGA     128\n",
       "Name: Rating, dtype: int64"
      ]
     },
     "execution_count": 13,
     "metadata": {},
     "output_type": "execute_result"
    }
   ],
   "source": [
    "num_of_rated_products_per_user=electronics_data.groupby(by=\"userId\")['Rating'].count().sort_values(ascending=False)\n",
    "num_of_rated_products_per_user.head() # 평가를 많이한 혹은 높은 점수를 준 사람 순서"
   ]
  },
  {
   "cell_type": "code",
   "execution_count": 14,
   "metadata": {},
   "outputs": [
    {
     "data": {
      "text/plain": [
       "count    786330.000000\n",
       "mean          1.333506\n",
       "std           1.385612\n",
       "min           1.000000\n",
       "25%           1.000000\n",
       "50%           1.000000\n",
       "75%           1.000000\n",
       "max         412.000000\n",
       "Name: Rating, dtype: float64"
      ]
     },
     "execution_count": 14,
     "metadata": {},
     "output_type": "execute_result"
    }
   ],
   "source": [
    "num_of_rated_products_per_user.describe()\n",
    "# 대부분 user 당 하나의 product에만 평가함"
   ]
  },
  {
   "cell_type": "code",
   "execution_count": 15,
   "metadata": {},
   "outputs": [],
   "source": [
    "quantiles = num_of_rated_products_per_user.quantile(np.arange(0,1.01,0.01), interpolation='higher')\n",
    "\n",
    "# 각각에 해당하는 백분위수 입력하고 각 백분위 수에 맞는 quantile 반환\n",
    "# interpolation: 보간 방법>> 큰거로!"
   ]
  },
  {
   "cell_type": "code",
   "execution_count": 16,
   "metadata": {},
   "outputs": [
    {
     "data": {
      "text/plain": [
       "0.00      1\n",
       "0.01      1\n",
       "0.02      1\n",
       "0.03      1\n",
       "0.04      1\n",
       "       ... \n",
       "0.96      3\n",
       "0.97      4\n",
       "0.98      4\n",
       "0.99      6\n",
       "1.00    412\n",
       "Name: Rating, Length: 101, dtype: int64"
      ]
     },
     "execution_count": 16,
     "metadata": {},
     "output_type": "execute_result"
    }
   ],
   "source": [
    "quantiles"
   ]
  },
  {
   "cell_type": "code",
   "execution_count": 17,
   "metadata": {},
   "outputs": [
    {
     "data": {
      "text/plain": [
       "<Figure size 720x720 with 0 Axes>"
      ]
     },
     "execution_count": 17,
     "metadata": {},
     "output_type": "execute_result"
    },
    {
     "data": {
      "text/plain": [
       "Text(0.5, 1.0, 'Quantiles and their Values')"
      ]
     },
     "execution_count": 17,
     "metadata": {},
     "output_type": "execute_result"
    },
    {
     "data": {
      "text/plain": [
       "<AxesSubplot:title={'center':'Quantiles and their Values'}>"
      ]
     },
     "execution_count": 17,
     "metadata": {},
     "output_type": "execute_result"
    },
    {
     "data": {
      "text/plain": [
       "<matplotlib.collections.PathCollection at 0x25103e74910>"
      ]
     },
     "execution_count": 17,
     "metadata": {},
     "output_type": "execute_result"
    },
    {
     "data": {
      "text/plain": [
       "<matplotlib.collections.PathCollection at 0x25103e6ef70>"
      ]
     },
     "execution_count": 17,
     "metadata": {},
     "output_type": "execute_result"
    },
    {
     "data": {
      "text/plain": [
       "Text(0, 0.5, 'No of ratings by user')"
      ]
     },
     "execution_count": 17,
     "metadata": {},
     "output_type": "execute_result"
    },
    {
     "data": {
      "text/plain": [
       "Text(0.5, 0, 'Value at the quantile')"
      ]
     },
     "execution_count": 17,
     "metadata": {},
     "output_type": "execute_result"
    },
    {
     "data": {
      "text/plain": [
       "<matplotlib.legend.Legend at 0x25103e74ca0>"
      ]
     },
     "execution_count": 17,
     "metadata": {},
     "output_type": "execute_result"
    },
    {
     "data": {
      "image/png": "[encoded data removed]",
      "text/plain": [
       "<Figure size 720x720 with 1 Axes>"
      ]
     },
     "metadata": {
      "needs_background": "light"
     },
     "output_type": "display_data"
    }
   ],
   "source": [
    "plt.figure(figsize=(10,10))\n",
    "plt.title(\"Quantiles and their Values\")\n",
    "quantiles.plot()\n",
    "\n",
    "#qunatiles with 0.05 difference\n",
    "plt.scatter(x=quantiles.index[::5], y=quantiles.values[::5], c='orange', label=\"quantiles with 0.05 intervals\")\n",
    "\n",
    "# quantiles with 0.25 difference\n",
    "plt.scatter(x=quantiles.index[::25], y=quantiles.values[::25], c='m', label = \"quantiles with 0.25 intervals\")\n",
    "plt.ylabel('No of ratings by user')\n",
    "plt.xlabel('Value at the quantile')\n",
    "plt.legend(loc='best') # 알아서 최적의 위치를 계산하여 삽입한다\n",
    "plt.show()"
   ]
  },
  {
   "cell_type": "code",
   "execution_count": 18,
   "metadata": {},
   "outputs": [
    {
     "name": "stdout",
     "output_type": "stream",
     "text": [
      "\n",
      " No of rated product more than 50 per user : 38\n",
      "\n"
     ]
    }
   ],
   "source": [
    "print('\\n No of rated product more than 50 per user : {}\\n'.format(sum(num_of_rated_products_per_user >= 50)) )"
   ]
  },
  {
   "cell_type": "markdown",
   "metadata": {},
   "source": [
    "### Popularity Based Recommendation\n",
    ": 가장 많이 구입되거나 높게 평가된 아이템들을 추천함. 개인에 맞는 추천 시스템은 아님"
   ]
  },
  {
   "cell_type": "code",
   "execution_count": 19,
   "metadata": {},
   "outputs": [],
   "source": [
    "# 평가가 50번 이상된 상품들을 가져옴\n",
    "new_df=electronics_data.groupby(\"productId\").filter(lambda x:x['Rating'].count() >=50)"
   ]
  },
  {
   "cell_type": "code",
   "execution_count": 20,
   "metadata": {},
   "outputs": [
    {
     "data": {
      "text/html": [
       "<div>\n",
       "<style scoped>\n",
       "    .dataframe tbody tr th:only-of-type {\n",
       "        vertical-align: middle;\n",
       "    }\n",
       "\n",
       "    .dataframe tbody tr th {\n",
       "        vertical-align: top;\n",
       "    }\n",
       "\n",
       "    .dataframe thead th {\n",
       "        text-align: right;\n",
       "    }\n",
       "</style>\n",
       "<table border=\"1\" class=\"dataframe\">\n",
       "  <thead>\n",
       "    <tr style=\"text-align: right;\">\n",
       "      <th></th>\n",
       "      <th>userId</th>\n",
       "      <th>productId</th>\n",
       "      <th>Rating</th>\n",
       "    </tr>\n",
       "  </thead>\n",
       "  <tbody>\n",
       "    <tr>\n",
       "      <th>183</th>\n",
       "      <td>A1BKC6B7YHYTVV</td>\n",
       "      <td>0972683275</td>\n",
       "      <td>4.0</td>\n",
       "    </tr>\n",
       "    <tr>\n",
       "      <th>184</th>\n",
       "      <td>AWVFSIB42LHKJ</td>\n",
       "      <td>0972683275</td>\n",
       "      <td>4.0</td>\n",
       "    </tr>\n",
       "    <tr>\n",
       "      <th>185</th>\n",
       "      <td>A36MQBNADRH8YY</td>\n",
       "      <td>0972683275</td>\n",
       "      <td>5.0</td>\n",
       "    </tr>\n",
       "    <tr>\n",
       "      <th>186</th>\n",
       "      <td>A3SRXMPLAEZ6DP</td>\n",
       "      <td>0972683275</td>\n",
       "      <td>4.0</td>\n",
       "    </tr>\n",
       "    <tr>\n",
       "      <th>187</th>\n",
       "      <td>A20XXTXWF2TCPY</td>\n",
       "      <td>0972683275</td>\n",
       "      <td>5.0</td>\n",
       "    </tr>\n",
       "  </tbody>\n",
       "</table>\n",
       "</div>"
      ],
      "text/plain": [
       "             userId   productId  Rating\n",
       "183  A1BKC6B7YHYTVV  0972683275     4.0\n",
       "184   AWVFSIB42LHKJ  0972683275     4.0\n",
       "185  A36MQBNADRH8YY  0972683275     5.0\n",
       "186  A3SRXMPLAEZ6DP  0972683275     4.0\n",
       "187  A20XXTXWF2TCPY  0972683275     5.0"
      ]
     },
     "execution_count": 20,
     "metadata": {},
     "output_type": "execute_result"
    }
   ],
   "source": [
    "new_df.head()"
   ]
  },
  {
   "cell_type": "code",
   "execution_count": 21,
   "metadata": {},
   "outputs": [
    {
     "data": {
      "text/plain": [
       "(677947, 3)"
      ]
     },
     "execution_count": 21,
     "metadata": {},
     "output_type": "execute_result"
    }
   ],
   "source": [
    "new_df.shape"
   ]
  },
  {
   "cell_type": "code",
   "execution_count": 22,
   "metadata": {},
   "outputs": [
    {
     "data": {
      "text/plain": [
       "[<matplotlib.lines.Line2D at 0x2510e48aa30>]"
      ]
     },
     "execution_count": 22,
     "metadata": {},
     "output_type": "execute_result"
    },
    {
     "data": {
      "text/plain": [
       "Text(0.5, 1.0, '# RATINGS per Product')"
      ]
     },
     "execution_count": 22,
     "metadata": {},
     "output_type": "execute_result"
    },
    {
     "data": {
      "text/plain": [
       "Text(0.5, 0, 'Product')"
      ]
     },
     "execution_count": 22,
     "metadata": {},
     "output_type": "execute_result"
    },
    {
     "data": {
      "text/plain": [
       "Text(0, 0.5, 'No of ratings per product')"
      ]
     },
     "execution_count": 22,
     "metadata": {},
     "output_type": "execute_result"
    },
    {
     "data": {
      "text/plain": [
       "[Text(-500.0, 0, ''),\n",
       " Text(0.0, 0, ''),\n",
       " Text(500.0, 0, ''),\n",
       " Text(1000.0, 0, ''),\n",
       " Text(1500.0, 0, ''),\n",
       " Text(2000.0, 0, ''),\n",
       " Text(2500.0, 0, ''),\n",
       " Text(3000.0, 0, ''),\n",
       " Text(3500.0, 0, ''),\n",
       " Text(4000.0, 0, ''),\n",
       " Text(4500.0, 0, '')]"
      ]
     },
     "execution_count": 22,
     "metadata": {},
     "output_type": "execute_result"
    },
    {
     "data": {
      "image/png": "[encoded data removed]",
      "text/plain": [
       "<Figure size 576x288 with 1 Axes>"
      ]
     },
     "metadata": {
      "needs_background": "light"
     },
     "output_type": "display_data"
    }
   ],
   "source": [
    "num_of_ratings_per_product=new_df.groupby(by=\"productId\")['Rating'].count().sort_values(ascending=False)\n",
    "\n",
    "fig=plt.figure(figsize=plt.figaspect(.5)) # 그래프 크기를 0.5만큼 확대(즉 축소되는것)\n",
    "ax=plt.gca() # 현재의 사이즈를 반환\n",
    "plt.plot(num_of_ratings_per_product.values)\n",
    "plt.title('# RATINGS per Product')\n",
    "plt.xlabel('Product')\n",
    "plt.ylabel('No of ratings per product')\n",
    "ax.set_xticklabels([])\n",
    "\n",
    "plt.show()"
   ]
  },
  {
   "cell_type": "code",
   "execution_count": 23,
   "metadata": {},
   "outputs": [
    {
     "data": {
      "text/plain": [
       "productId\n",
       "0972683275    4.470980\n",
       "1400501466    3.560000\n",
       "1400501520    4.243902\n",
       "1400501776    3.884892\n",
       "1400532620    3.684211\n",
       "Name: Rating, dtype: float64"
      ]
     },
     "execution_count": 23,
     "metadata": {},
     "output_type": "execute_result"
    }
   ],
   "source": [
    "# 평가들을 상품 아이디로 묶고 각 상품의 평균 평점을 낸다\n",
    "new_df.groupby('productId')['Rating'].mean().head()"
   ]
  },
  {
   "cell_type": "code",
   "execution_count": 24,
   "metadata": {},
   "outputs": [
    {
     "data": {
      "text/plain": [
       "productId\n",
       "B0000DYV9H    4.947368\n",
       "B000053HC5    4.945783\n",
       "B00009R96C    4.885714\n",
       "B00005LE76    4.879310\n",
       "B000I1X3W8    4.869565\n",
       "Name: Rating, dtype: float64"
      ]
     },
     "execution_count": 24,
     "metadata": {},
     "output_type": "execute_result"
    }
   ],
   "source": [
    "# 평균 높은것부터 출력\n",
    "new_df.groupby('productId')['Rating'].mean().sort_values(ascending=False).head()"
   ]
  },
  {
   "cell_type": "code",
   "execution_count": 25,
   "metadata": {},
   "outputs": [
    {
     "data": {
      "text/plain": [
       "productId\n",
       "B0002L5R78    9487\n",
       "B0001FTVEK    5345\n",
       "B000I68BD4    4903\n",
       "B000BQ7GW8    4275\n",
       "B00007E7JU    3523\n",
       "Name: Rating, dtype: int64"
      ]
     },
     "execution_count": 25,
     "metadata": {},
     "output_type": "execute_result"
    }
   ],
   "source": [
    "# 평가 된 수 기준 정렬\n",
    "new_df.groupby(\"productId\")['Rating'].count().sort_values(ascending=False).head()"
   ]
  },
  {
   "cell_type": "code",
   "execution_count": 26,
   "metadata": {},
   "outputs": [],
   "source": [
    "# 평점 평균을 이용하여 dataFrame 만들기\n",
    "ratings_mean_count=pd.DataFrame(new_df.groupby('productId')['Rating'].mean())"
   ]
  },
  {
   "cell_type": "code",
   "execution_count": 27,
   "metadata": {},
   "outputs": [
    {
     "data": {
      "text/html": [
       "<div>\n",
       "<style scoped>\n",
       "    .dataframe tbody tr th:only-of-type {\n",
       "        vertical-align: middle;\n",
       "    }\n",
       "\n",
       "    .dataframe tbody tr th {\n",
       "        vertical-align: top;\n",
       "    }\n",
       "\n",
       "    .dataframe thead th {\n",
       "        text-align: right;\n",
       "    }\n",
       "</style>\n",
       "<table border=\"1\" class=\"dataframe\">\n",
       "  <thead>\n",
       "    <tr style=\"text-align: right;\">\n",
       "      <th></th>\n",
       "      <th>Rating</th>\n",
       "    </tr>\n",
       "    <tr>\n",
       "      <th>productId</th>\n",
       "      <th></th>\n",
       "    </tr>\n",
       "  </thead>\n",
       "  <tbody>\n",
       "    <tr>\n",
       "      <th>0972683275</th>\n",
       "      <td>4.470980</td>\n",
       "    </tr>\n",
       "    <tr>\n",
       "      <th>1400501466</th>\n",
       "      <td>3.560000</td>\n",
       "    </tr>\n",
       "    <tr>\n",
       "      <th>1400501520</th>\n",
       "      <td>4.243902</td>\n",
       "    </tr>\n",
       "    <tr>\n",
       "      <th>1400501776</th>\n",
       "      <td>3.884892</td>\n",
       "    </tr>\n",
       "    <tr>\n",
       "      <th>1400532620</th>\n",
       "      <td>3.684211</td>\n",
       "    </tr>\n",
       "  </tbody>\n",
       "</table>\n",
       "</div>"
      ],
      "text/plain": [
       "              Rating\n",
       "productId           \n",
       "0972683275  4.470980\n",
       "1400501466  3.560000\n",
       "1400501520  4.243902\n",
       "1400501776  3.884892\n",
       "1400532620  3.684211"
      ]
     },
     "execution_count": 27,
     "metadata": {},
     "output_type": "execute_result"
    }
   ],
   "source": [
    "ratings_mean_count.head()"
   ]
  },
  {
   "cell_type": "code",
   "execution_count": 28,
   "metadata": {},
   "outputs": [],
   "source": [
    "ratings_mean_count['rating_counts'] = pd.DataFrame(new_df.groupby('productId')['Rating'].count())"
   ]
  },
  {
   "cell_type": "code",
   "execution_count": 29,
   "metadata": {},
   "outputs": [
    {
     "data": {
      "text/plain": [
       "9487"
      ]
     },
     "execution_count": 29,
     "metadata": {},
     "output_type": "execute_result"
    }
   ],
   "source": [
    "ratings_mean_count['rating_counts'].max() # rating수가 가장 많은 거"
   ]
  },
  {
   "cell_type": "code",
   "execution_count": 30,
   "metadata": {},
   "outputs": [
    {
     "data": {
      "text/plain": [
       "<Figure size 432x432 with 0 Axes>"
      ]
     },
     "execution_count": 30,
     "metadata": {},
     "output_type": "execute_result"
    },
    {
     "data": {
      "text/plain": [
       "<AxesSubplot:>"
      ]
     },
     "execution_count": 30,
     "metadata": {},
     "output_type": "execute_result"
    },
    {
     "data": {
      "image/png": "[encoded data removed]",
      "text/plain": [
       "<Figure size 432x432 with 1 Axes>"
      ]
     },
     "metadata": {
      "needs_background": "light"
     },
     "output_type": "display_data"
    }
   ],
   "source": [
    "plt.figure(figsize=(6,6))\n",
    "plt.rcParams['patch.force_edgecolor']=True # 테두리 지정: default black\n",
    "ratings_mean_count['rating_counts'].hist(bins=50) # 리뷰수"
   ]
  },
  {
   "cell_type": "code",
   "execution_count": 31,
   "metadata": {},
   "outputs": [
    {
     "data": {
      "text/plain": [
       "<Figure size 576x432 with 0 Axes>"
      ]
     },
     "execution_count": 31,
     "metadata": {},
     "output_type": "execute_result"
    },
    {
     "data": {
      "text/plain": [
       "<AxesSubplot:>"
      ]
     },
     "execution_count": 31,
     "metadata": {},
     "output_type": "execute_result"
    },
    {
     "data": {
      "image/png": "[encoded data removed]",
      "text/plain": [
       "<Figure size 576x432 with 1 Axes>"
      ]
     },
     "metadata": {
      "needs_background": "light"
     },
     "output_type": "display_data"
    }
   ],
   "source": [
    "plt.figure(figsize=(8,6))\n",
    "plt.rcParams['patch.force_edgecolor']=True \n",
    "ratings_mean_count['Rating'].hist(bins=50) #평점 평균"
   ]
  },
  {
   "cell_type": "code",
   "execution_count": 32,
   "metadata": {},
   "outputs": [
    {
     "data": {
      "text/plain": [
       "<Figure size 576x432 with 0 Axes>"
      ]
     },
     "execution_count": 32,
     "metadata": {},
     "output_type": "execute_result"
    },
    {
     "data": {
      "text/plain": [
       "<seaborn.axisgrid.JointGrid at 0x2510894de80>"
      ]
     },
     "execution_count": 32,
     "metadata": {},
     "output_type": "execute_result"
    },
    {
     "data": {
      "text/plain": [
       "<Figure size 576x432 with 0 Axes>"
      ]
     },
     "metadata": {},
     "output_type": "display_data"
    },
    {
     "data": {
      "image/png": "[encoded data removed]",
      "text/plain": [
       "<Figure size 432x432 with 3 Axes>"
      ]
     },
     "metadata": {
      "needs_background": "light"
     },
     "output_type": "display_data"
    }
   ],
   "source": [
    "plt.figure(figsize=(8,6))\n",
    "plt.rcParams['patch.force_edgecolor'] = True\n",
    "sns.jointplot(x='Rating', y='rating_counts', data=ratings_mean_count, alpha=0.4)"
   ]
  },
  {
   "cell_type": "code",
   "execution_count": 33,
   "metadata": {},
   "outputs": [
    {
     "data": {
      "text/plain": [
       "<AxesSubplot:xlabel='productId'>"
      ]
     },
     "execution_count": 33,
     "metadata": {},
     "output_type": "execute_result"
    },
    {
     "data": {
      "image/png": "[encoded data removed]",
      "text/plain": [
       "<Figure size 432x288 with 1 Axes>"
      ]
     },
     "metadata": {
      "needs_background": "light"
     },
     "output_type": "display_data"
    }
   ],
   "source": [
    "popular_products=pd.DataFrame(new_df.groupby('productId')['Rating'].count())\n",
    "most_popular=popular_products.sort_values(\"Rating\", ascending=False)\n",
    "most_popular.head(30).plot(kind='bar')\n",
    "# 리뷰수가 가장 많은 제품의 히스토그램"
   ]
  },
  {
   "cell_type": "markdown",
   "metadata": {},
   "source": [
    "## Collaborative Filtering"
   ]
  },
  {
   "cell_type": "code",
   "execution_count": 34,
   "metadata": {},
   "outputs": [
    {
     "name": "stdout",
     "output_type": "stream",
     "text": [
      "Collecting surprise\n",
      "  Downloading surprise-0.1-py2.py3-none-any.whl (1.8 kB)\n",
      "Collecting scikit-surprise\n",
      "  Downloading scikit-surprise-1.1.1.tar.gz (11.8 MB)\n",
      "Requirement already satisfied: joblib>=0.11 in c:\\users\\seowoo\\anaconda3\\lib\\site-packages (from scikit-surprise->surprise) (0.17.0)\n",
      "Requirement already satisfied: numpy>=1.11.2 in c:\\users\\seowoo\\anaconda3\\lib\\site-packages (from scikit-surprise->surprise) (1.19.5)\n",
      "Requirement already satisfied: scipy>=1.0.0 in c:\\users\\seowoo\\anaconda3\\lib\\site-packages (from scikit-surprise->surprise) (1.5.2)\n",
      "Requirement already satisfied: six>=1.10.0 in c:\\users\\seowoo\\anaconda3\\lib\\site-packages (from scikit-surprise->surprise) (1.16.0)\n",
      "Building wheels for collected packages: scikit-surprise\n",
      "  Building wheel for scikit-surprise (setup.py): started\n",
      "  Building wheel for scikit-surprise (setup.py): finished with status 'done'\n",
      "  Created wheel for scikit-surprise: filename=scikit_surprise-1.1.1-cp38-cp38-win_amd64.whl size=728675 sha256=847d582ef9ecfd055924c56280635198128c2b69016a088aafe59cf6912f75a6\n",
      "  Stored in directory: c:\\users\\정서우\\appdata\\local\\pip\\cache\\wheels\\20\\91\\57\\2965d4cff1b8ac7ed1b6fa25741882af3974b54a31759e10b6\n",
      "Successfully built scikit-surprise\n",
      "Installing collected packages: scikit-surprise, surprise\n",
      "Successfully installed scikit-surprise-1.1.1 surprise-0.1\n"
     ]
    }
   ],
   "source": [
    "!pip3 install surprise"
   ]
  },
  {
   "cell_type": "code",
   "execution_count": 35,
   "metadata": {},
   "outputs": [],
   "source": [
    "from surprise import KNNWithMeans\n",
    "from surprise import Dataset\n",
    "from surprise import accuracy\n",
    "from surprise import Reader\n",
    "import os\n",
    "from surprise.model_selection import train_test_split"
   ]
  },
  {
   "cell_type": "markdown",
   "metadata": {},
   "source": [
    "KNN model: https://danthetech.netlify.app/DataScience/how-does-recommendation-algorithms-work-using-surpriselib\n",
    "\n",
    "KNNWithMeans: KNNBasic과 차이점은 k명의 유사 사용자들이 영화 i에 대해 평가한 평점들을 그대로 가중합하지않고,\n",
    "\n",
    "r-mu\n",
    " \n",
    "를 가중합하게 된다. 그리고 최종적으로는 우리가 영화 i에대해 예측하려는 사용자 U의 평균을 더해주는 방법으로 사용자 U의 특성을 좀 더 부가하는 방법을 쓰고 있다. 예를들어 U는 원래 평점을 조금 낮게주는 스타일이어서 정말 재밌다고 느끼는 영화에도 4점을 준다고 가정해보자. 이 경우에 k명의 유사 유저들이 영화 i에 대해 다 5점을 줬단 이유로 5점에 가까운 예측 값이 나오게 된다면 문제가 발생할 수 있게 되는 것이다. KNNwithMeans에서는 이런 경우를 조금 더 방지할 수 있게 된다."
   ]
  },
  {
   "cell_type": "code",
   "execution_count": 38,
   "metadata": {},
   "outputs": [],
   "source": [
    "# 데이터 가져오기\n",
    "reader=Reader(rating_scale=(1,5))\n",
    "data = Dataset.load_from_df(new_df, reader)"
   ]
  },
  {
   "cell_type": "code",
   "execution_count": 40,
   "metadata": {},
   "outputs": [],
   "source": [
    "trainset, testset = train_test_split(data, test_size=0.3, random_state=10)"
   ]
  },
  {
   "cell_type": "code",
   "execution_count": 41,
   "metadata": {},
   "outputs": [
    {
     "name": "stdout",
     "output_type": "stream",
     "text": [
      "Estimating biases using als...\n",
      "Computing the pearson_baseline similarity matrix...\n",
      "Done computing similarity matrix.\n"
     ]
    },
    {
     "data": {
      "text/plain": [
       "<surprise.prediction_algorithms.knns.KNNWithMeans at 0x2517999bfd0>"
      ]
     },
     "execution_count": 41,
     "metadata": {},
     "output_type": "execute_result"
    }
   ],
   "source": [
    "## KNN을 이용 trainset에 파라미터 맞추기\n",
    "algo = KNNWithMeans(k=5, sim_options = {'name': 'pearson_baseline', 'user_based':False})\n",
    "# 'name': 사용할 유사도 이름, 'user_based': user base인지 item base인지 결정\n",
    "algo.fit(trainset)"
   ]
  },
  {
   "cell_type": "code",
   "execution_count": 42,
   "metadata": {},
   "outputs": [
    {
     "name": "stdout",
     "output_type": "stream",
     "text": [
      "Item-based Model: Test Set\n",
      "RMSE: 1.3436\n"
     ]
    },
    {
     "data": {
      "text/plain": [
       "1.343641161111319"
      ]
     },
     "execution_count": 42,
     "metadata": {},
     "output_type": "execute_result"
    }
   ],
   "source": [
    "## Test accuracy 측정\n",
    "test_pred = algo.test(testset)\n",
    "print(\"Item-based Model: Test Set\")\n",
    "accuracy.rmse(test_pred, verbose=True)"
   ]
  },
  {
   "cell_type": "markdown",
   "metadata": {},
   "source": [
    "## Model-based collaborative filtering system\n",
    "\n",
    ": 대량의 상품, 많은 사용자들에게 추천 가능, sparse한 matrices에도 사용가능"
   ]
  },
  {
   "cell_type": "code",
   "execution_count": 43,
   "metadata": {},
   "outputs": [
    {
     "data": {
      "text/html": [
       "<div>\n",
       "<style scoped>\n",
       "    .dataframe tbody tr th:only-of-type {\n",
       "        vertical-align: middle;\n",
       "    }\n",
       "\n",
       "    .dataframe tbody tr th {\n",
       "        vertical-align: top;\n",
       "    }\n",
       "\n",
       "    .dataframe thead th {\n",
       "        text-align: right;\n",
       "    }\n",
       "</style>\n",
       "<table border=\"1\" class=\"dataframe\">\n",
       "  <thead>\n",
       "    <tr style=\"text-align: right;\">\n",
       "      <th>productId</th>\n",
       "      <th>0972683275</th>\n",
       "      <th>1400501466</th>\n",
       "      <th>1400501520</th>\n",
       "      <th>1400501776</th>\n",
       "      <th>1400532620</th>\n",
       "      <th>1400532655</th>\n",
       "      <th>140053271X</th>\n",
       "      <th>1400532736</th>\n",
       "      <th>1400599997</th>\n",
       "      <th>1400698987</th>\n",
       "      <th>...</th>\n",
       "      <th>B00000JFMK</th>\n",
       "      <th>B00000JHWX</th>\n",
       "      <th>B00000JI4F</th>\n",
       "      <th>B00000JII6</th>\n",
       "      <th>B00000JMUG</th>\n",
       "      <th>B00000JPPI</th>\n",
       "      <th>B00000JSGF</th>\n",
       "      <th>B00000JYLO</th>\n",
       "      <th>B00000JYWQ</th>\n",
       "      <th>B00000K135</th>\n",
       "    </tr>\n",
       "    <tr>\n",
       "      <th>userId</th>\n",
       "      <th></th>\n",
       "      <th></th>\n",
       "      <th></th>\n",
       "      <th></th>\n",
       "      <th></th>\n",
       "      <th></th>\n",
       "      <th></th>\n",
       "      <th></th>\n",
       "      <th></th>\n",
       "      <th></th>\n",
       "      <th></th>\n",
       "      <th></th>\n",
       "      <th></th>\n",
       "      <th></th>\n",
       "      <th></th>\n",
       "      <th></th>\n",
       "      <th></th>\n",
       "      <th></th>\n",
       "      <th></th>\n",
       "      <th></th>\n",
       "      <th></th>\n",
       "    </tr>\n",
       "  </thead>\n",
       "  <tbody>\n",
       "    <tr>\n",
       "      <th>A01852072Z7B68UHLI5UG</th>\n",
       "      <td>0</td>\n",
       "      <td>0</td>\n",
       "      <td>0</td>\n",
       "      <td>0</td>\n",
       "      <td>0</td>\n",
       "      <td>0</td>\n",
       "      <td>0</td>\n",
       "      <td>0</td>\n",
       "      <td>0</td>\n",
       "      <td>0</td>\n",
       "      <td>...</td>\n",
       "      <td>0</td>\n",
       "      <td>0</td>\n",
       "      <td>0</td>\n",
       "      <td>0</td>\n",
       "      <td>0</td>\n",
       "      <td>0</td>\n",
       "      <td>0</td>\n",
       "      <td>0</td>\n",
       "      <td>0</td>\n",
       "      <td>0</td>\n",
       "    </tr>\n",
       "    <tr>\n",
       "      <th>A0266076X6KPZ6CCHGVS</th>\n",
       "      <td>0</td>\n",
       "      <td>0</td>\n",
       "      <td>0</td>\n",
       "      <td>0</td>\n",
       "      <td>0</td>\n",
       "      <td>0</td>\n",
       "      <td>0</td>\n",
       "      <td>0</td>\n",
       "      <td>0</td>\n",
       "      <td>0</td>\n",
       "      <td>...</td>\n",
       "      <td>0</td>\n",
       "      <td>0</td>\n",
       "      <td>0</td>\n",
       "      <td>0</td>\n",
       "      <td>0</td>\n",
       "      <td>0</td>\n",
       "      <td>0</td>\n",
       "      <td>0</td>\n",
       "      <td>0</td>\n",
       "      <td>0</td>\n",
       "    </tr>\n",
       "    <tr>\n",
       "      <th>A0293130VTX2ZXA70JQS</th>\n",
       "      <td>5</td>\n",
       "      <td>0</td>\n",
       "      <td>0</td>\n",
       "      <td>0</td>\n",
       "      <td>0</td>\n",
       "      <td>0</td>\n",
       "      <td>0</td>\n",
       "      <td>0</td>\n",
       "      <td>0</td>\n",
       "      <td>0</td>\n",
       "      <td>...</td>\n",
       "      <td>0</td>\n",
       "      <td>0</td>\n",
       "      <td>0</td>\n",
       "      <td>0</td>\n",
       "      <td>0</td>\n",
       "      <td>0</td>\n",
       "      <td>0</td>\n",
       "      <td>0</td>\n",
       "      <td>0</td>\n",
       "      <td>0</td>\n",
       "    </tr>\n",
       "    <tr>\n",
       "      <th>A030530627MK66BD8V4LN</th>\n",
       "      <td>4</td>\n",
       "      <td>0</td>\n",
       "      <td>0</td>\n",
       "      <td>0</td>\n",
       "      <td>0</td>\n",
       "      <td>0</td>\n",
       "      <td>0</td>\n",
       "      <td>0</td>\n",
       "      <td>0</td>\n",
       "      <td>0</td>\n",
       "      <td>...</td>\n",
       "      <td>0</td>\n",
       "      <td>0</td>\n",
       "      <td>0</td>\n",
       "      <td>0</td>\n",
       "      <td>0</td>\n",
       "      <td>0</td>\n",
       "      <td>0</td>\n",
       "      <td>0</td>\n",
       "      <td>0</td>\n",
       "      <td>0</td>\n",
       "    </tr>\n",
       "    <tr>\n",
       "      <th>A0571176384K8RBNKGF8O</th>\n",
       "      <td>0</td>\n",
       "      <td>0</td>\n",
       "      <td>0</td>\n",
       "      <td>0</td>\n",
       "      <td>0</td>\n",
       "      <td>0</td>\n",
       "      <td>0</td>\n",
       "      <td>0</td>\n",
       "      <td>0</td>\n",
       "      <td>0</td>\n",
       "      <td>...</td>\n",
       "      <td>0</td>\n",
       "      <td>0</td>\n",
       "      <td>0</td>\n",
       "      <td>0</td>\n",
       "      <td>0</td>\n",
       "      <td>0</td>\n",
       "      <td>0</td>\n",
       "      <td>0</td>\n",
       "      <td>0</td>\n",
       "      <td>0</td>\n",
       "    </tr>\n",
       "  </tbody>\n",
       "</table>\n",
       "<p>5 rows × 76 columns</p>\n",
       "</div>"
      ],
      "text/plain": [
       "productId              0972683275  1400501466  1400501520  1400501776  \\\n",
       "userId                                                                  \n",
       "A01852072Z7B68UHLI5UG           0           0           0           0   \n",
       "A0266076X6KPZ6CCHGVS            0           0           0           0   \n",
       "A0293130VTX2ZXA70JQS            5           0           0           0   \n",
       "A030530627MK66BD8V4LN           4           0           0           0   \n",
       "A0571176384K8RBNKGF8O           0           0           0           0   \n",
       "\n",
       "productId              1400532620  1400532655  140053271X  1400532736  \\\n",
       "userId                                                                  \n",
       "A01852072Z7B68UHLI5UG           0           0           0           0   \n",
       "A0266076X6KPZ6CCHGVS            0           0           0           0   \n",
       "A0293130VTX2ZXA70JQS            0           0           0           0   \n",
       "A030530627MK66BD8V4LN           0           0           0           0   \n",
       "A0571176384K8RBNKGF8O           0           0           0           0   \n",
       "\n",
       "productId              1400599997  1400698987  ...  B00000JFMK  B00000JHWX  \\\n",
       "userId                                         ...                           \n",
       "A01852072Z7B68UHLI5UG           0           0  ...           0           0   \n",
       "A0266076X6KPZ6CCHGVS            0           0  ...           0           0   \n",
       "A0293130VTX2ZXA70JQS            0           0  ...           0           0   \n",
       "A030530627MK66BD8V4LN           0           0  ...           0           0   \n",
       "A0571176384K8RBNKGF8O           0           0  ...           0           0   \n",
       "\n",
       "productId              B00000JI4F  B00000JII6  B00000JMUG  B00000JPPI  \\\n",
       "userId                                                                  \n",
       "A01852072Z7B68UHLI5UG           0           0           0           0   \n",
       "A0266076X6KPZ6CCHGVS            0           0           0           0   \n",
       "A0293130VTX2ZXA70JQS            0           0           0           0   \n",
       "A030530627MK66BD8V4LN           0           0           0           0   \n",
       "A0571176384K8RBNKGF8O           0           0           0           0   \n",
       "\n",
       "productId              B00000JSGF  B00000JYLO  B00000JYWQ  B00000K135  \n",
       "userId                                                                 \n",
       "A01852072Z7B68UHLI5UG           0           0           0           0  \n",
       "A0266076X6KPZ6CCHGVS            0           0           0           0  \n",
       "A0293130VTX2ZXA70JQS            0           0           0           0  \n",
       "A030530627MK66BD8V4LN           0           0           0           0  \n",
       "A0571176384K8RBNKGF8O           0           0           0           0  \n",
       "\n",
       "[5 rows x 76 columns]"
      ]
     },
     "execution_count": 43,
     "metadata": {},
     "output_type": "execute_result"
    }
   ],
   "source": [
    "new_df1 = new_df.head(10000)\n",
    "ratings_matrix = new_df1.pivot_table(values='Rating', index='userId', columns= 'productId', fill_value=0) # 사용자-아이템\n",
    "ratings_matrix.head()"
   ]
  },
  {
   "cell_type": "code",
   "execution_count": 44,
   "metadata": {},
   "outputs": [
    {
     "data": {
      "text/plain": [
       "(9832, 76)"
      ]
     },
     "execution_count": 44,
     "metadata": {},
     "output_type": "execute_result"
    }
   ],
   "source": [
    "ratings_matrix.shape"
   ]
  },
  {
   "cell_type": "code",
   "execution_count": 45,
   "metadata": {},
   "outputs": [
    {
     "data": {
      "text/html": [
       "<div>\n",
       "<style scoped>\n",
       "    .dataframe tbody tr th:only-of-type {\n",
       "        vertical-align: middle;\n",
       "    }\n",
       "\n",
       "    .dataframe tbody tr th {\n",
       "        vertical-align: top;\n",
       "    }\n",
       "\n",
       "    .dataframe thead th {\n",
       "        text-align: right;\n",
       "    }\n",
       "</style>\n",
       "<table border=\"1\" class=\"dataframe\">\n",
       "  <thead>\n",
       "    <tr style=\"text-align: right;\">\n",
       "      <th>userId</th>\n",
       "      <th>A01852072Z7B68UHLI5UG</th>\n",
       "      <th>A0266076X6KPZ6CCHGVS</th>\n",
       "      <th>A0293130VTX2ZXA70JQS</th>\n",
       "      <th>A030530627MK66BD8V4LN</th>\n",
       "      <th>A0571176384K8RBNKGF8O</th>\n",
       "      <th>A0590501PZ7HOWJKBGQ4</th>\n",
       "      <th>A0641581307AKT5MAOU0Q</th>\n",
       "      <th>A076219533YHEV2LJO988</th>\n",
       "      <th>A0821988FXKFYX53V4QG</th>\n",
       "      <th>A099626739FNCRNHIKBCG</th>\n",
       "      <th>...</th>\n",
       "      <th>AZWOPBY75SGAM</th>\n",
       "      <th>AZX0ZDVAFMN78</th>\n",
       "      <th>AZX5LAN9JEAFF</th>\n",
       "      <th>AZX7I110AF0W2</th>\n",
       "      <th>AZXKUK895VGSM</th>\n",
       "      <th>AZXP46IB63PU8</th>\n",
       "      <th>AZYTSU42BZ7TP</th>\n",
       "      <th>AZZGJ2KMWB7R</th>\n",
       "      <th>AZZMV5VT9W7Y8</th>\n",
       "      <th>AZZST8OYL5P4Q</th>\n",
       "    </tr>\n",
       "    <tr>\n",
       "      <th>productId</th>\n",
       "      <th></th>\n",
       "      <th></th>\n",
       "      <th></th>\n",
       "      <th></th>\n",
       "      <th></th>\n",
       "      <th></th>\n",
       "      <th></th>\n",
       "      <th></th>\n",
       "      <th></th>\n",
       "      <th></th>\n",
       "      <th></th>\n",
       "      <th></th>\n",
       "      <th></th>\n",
       "      <th></th>\n",
       "      <th></th>\n",
       "      <th></th>\n",
       "      <th></th>\n",
       "      <th></th>\n",
       "      <th></th>\n",
       "      <th></th>\n",
       "      <th></th>\n",
       "    </tr>\n",
       "  </thead>\n",
       "  <tbody>\n",
       "    <tr>\n",
       "      <th>0972683275</th>\n",
       "      <td>0</td>\n",
       "      <td>0</td>\n",
       "      <td>5</td>\n",
       "      <td>4</td>\n",
       "      <td>0</td>\n",
       "      <td>0</td>\n",
       "      <td>0</td>\n",
       "      <td>0</td>\n",
       "      <td>0</td>\n",
       "      <td>0</td>\n",
       "      <td>...</td>\n",
       "      <td>0</td>\n",
       "      <td>0</td>\n",
       "      <td>0</td>\n",
       "      <td>0</td>\n",
       "      <td>0</td>\n",
       "      <td>0</td>\n",
       "      <td>0</td>\n",
       "      <td>0</td>\n",
       "      <td>0</td>\n",
       "      <td>0</td>\n",
       "    </tr>\n",
       "    <tr>\n",
       "      <th>1400501466</th>\n",
       "      <td>0</td>\n",
       "      <td>0</td>\n",
       "      <td>0</td>\n",
       "      <td>0</td>\n",
       "      <td>0</td>\n",
       "      <td>0</td>\n",
       "      <td>0</td>\n",
       "      <td>0</td>\n",
       "      <td>0</td>\n",
       "      <td>0</td>\n",
       "      <td>...</td>\n",
       "      <td>0</td>\n",
       "      <td>0</td>\n",
       "      <td>0</td>\n",
       "      <td>0</td>\n",
       "      <td>0</td>\n",
       "      <td>0</td>\n",
       "      <td>0</td>\n",
       "      <td>0</td>\n",
       "      <td>0</td>\n",
       "      <td>0</td>\n",
       "    </tr>\n",
       "    <tr>\n",
       "      <th>1400501520</th>\n",
       "      <td>0</td>\n",
       "      <td>0</td>\n",
       "      <td>0</td>\n",
       "      <td>0</td>\n",
       "      <td>0</td>\n",
       "      <td>0</td>\n",
       "      <td>0</td>\n",
       "      <td>0</td>\n",
       "      <td>0</td>\n",
       "      <td>3</td>\n",
       "      <td>...</td>\n",
       "      <td>0</td>\n",
       "      <td>0</td>\n",
       "      <td>0</td>\n",
       "      <td>0</td>\n",
       "      <td>0</td>\n",
       "      <td>0</td>\n",
       "      <td>0</td>\n",
       "      <td>0</td>\n",
       "      <td>0</td>\n",
       "      <td>0</td>\n",
       "    </tr>\n",
       "    <tr>\n",
       "      <th>1400501776</th>\n",
       "      <td>0</td>\n",
       "      <td>0</td>\n",
       "      <td>0</td>\n",
       "      <td>0</td>\n",
       "      <td>0</td>\n",
       "      <td>0</td>\n",
       "      <td>0</td>\n",
       "      <td>0</td>\n",
       "      <td>0</td>\n",
       "      <td>0</td>\n",
       "      <td>...</td>\n",
       "      <td>0</td>\n",
       "      <td>0</td>\n",
       "      <td>0</td>\n",
       "      <td>0</td>\n",
       "      <td>0</td>\n",
       "      <td>0</td>\n",
       "      <td>0</td>\n",
       "      <td>0</td>\n",
       "      <td>1</td>\n",
       "      <td>0</td>\n",
       "    </tr>\n",
       "    <tr>\n",
       "      <th>1400532620</th>\n",
       "      <td>0</td>\n",
       "      <td>0</td>\n",
       "      <td>0</td>\n",
       "      <td>0</td>\n",
       "      <td>0</td>\n",
       "      <td>0</td>\n",
       "      <td>0</td>\n",
       "      <td>0</td>\n",
       "      <td>0</td>\n",
       "      <td>0</td>\n",
       "      <td>...</td>\n",
       "      <td>0</td>\n",
       "      <td>0</td>\n",
       "      <td>0</td>\n",
       "      <td>0</td>\n",
       "      <td>0</td>\n",
       "      <td>0</td>\n",
       "      <td>0</td>\n",
       "      <td>0</td>\n",
       "      <td>0</td>\n",
       "      <td>0</td>\n",
       "    </tr>\n",
       "  </tbody>\n",
       "</table>\n",
       "<p>5 rows × 9832 columns</p>\n",
       "</div>"
      ],
      "text/plain": [
       "userId      A01852072Z7B68UHLI5UG  A0266076X6KPZ6CCHGVS  A0293130VTX2ZXA70JQS  \\\n",
       "productId                                                                       \n",
       "0972683275                      0                     0                     5   \n",
       "1400501466                      0                     0                     0   \n",
       "1400501520                      0                     0                     0   \n",
       "1400501776                      0                     0                     0   \n",
       "1400532620                      0                     0                     0   \n",
       "\n",
       "userId      A030530627MK66BD8V4LN  A0571176384K8RBNKGF8O  \\\n",
       "productId                                                  \n",
       "0972683275                      4                      0   \n",
       "1400501466                      0                      0   \n",
       "1400501520                      0                      0   \n",
       "1400501776                      0                      0   \n",
       "1400532620                      0                      0   \n",
       "\n",
       "userId      A0590501PZ7HOWJKBGQ4  A0641581307AKT5MAOU0Q  \\\n",
       "productId                                                 \n",
       "0972683275                     0                      0   \n",
       "1400501466                     0                      0   \n",
       "1400501520                     0                      0   \n",
       "1400501776                     0                      0   \n",
       "1400532620                     0                      0   \n",
       "\n",
       "userId      A076219533YHEV2LJO988  A0821988FXKFYX53V4QG  \\\n",
       "productId                                                 \n",
       "0972683275                      0                     0   \n",
       "1400501466                      0                     0   \n",
       "1400501520                      0                     0   \n",
       "1400501776                      0                     0   \n",
       "1400532620                      0                     0   \n",
       "\n",
       "userId      A099626739FNCRNHIKBCG  ...  AZWOPBY75SGAM  AZX0ZDVAFMN78  \\\n",
       "productId                          ...                                 \n",
       "0972683275                      0  ...              0              0   \n",
       "1400501466                      0  ...              0              0   \n",
       "1400501520                      3  ...              0              0   \n",
       "1400501776                      0  ...              0              0   \n",
       "1400532620                      0  ...              0              0   \n",
       "\n",
       "userId      AZX5LAN9JEAFF  AZX7I110AF0W2  AZXKUK895VGSM  AZXP46IB63PU8  \\\n",
       "productId                                                                \n",
       "0972683275              0              0              0              0   \n",
       "1400501466              0              0              0              0   \n",
       "1400501520              0              0              0              0   \n",
       "1400501776              0              0              0              0   \n",
       "1400532620              0              0              0              0   \n",
       "\n",
       "userId      AZYTSU42BZ7TP  AZZGJ2KMWB7R  AZZMV5VT9W7Y8  AZZST8OYL5P4Q  \n",
       "productId                                                              \n",
       "0972683275              0             0              0              0  \n",
       "1400501466              0             0              0              0  \n",
       "1400501520              0             0              0              0  \n",
       "1400501776              0             0              1              0  \n",
       "1400532620              0             0              0              0  \n",
       "\n",
       "[5 rows x 9832 columns]"
      ]
     },
     "execution_count": 45,
     "metadata": {},
     "output_type": "execute_result"
    }
   ],
   "source": [
    "X=ratings_matrix.T\n",
    "X.head()"
   ]
  },
  {
   "cell_type": "code",
   "execution_count": 46,
   "metadata": {},
   "outputs": [
    {
     "name": "stdout",
     "output_type": "stream",
     "text": [
      "(76, 9832)\n",
      "\n",
      "Index(['0972683275', '1400501466', '1400501520', '1400501776', '1400532620',\n",
      "       '1400532655', '140053271X', '1400532736', '1400599997', '1400698987',\n",
      "       '3744295508', '6301977173', '7214047977', '8862935293', '9573212919',\n",
      "       '9575871979', '9625993428', '9888002198', '9966694544', '9983891212',\n",
      "       '9984984354', '9985511476', 'B000001OM4', 'B000001OM5', 'B000001OMI',\n",
      "       'B000001ON6', 'B00000DM9W', 'B00000IGBF', 'B00000J05A', 'B00000J061',\n",
      "       'B00000J08Q', 'B00000J0D2', 'B00000J0D5', 'B00000J0D8', 'B00000J1EJ',\n",
      "       'B00000J1EP', 'B00000J1EQ', 'B00000J1F3', 'B00000J1GA', 'B00000J1QK',\n",
      "       'B00000J1QR', 'B00000J1SC', 'B00000J1TX', 'B00000J1U8', 'B00000J1UQ',\n",
      "       'B00000J1V3', 'B00000J1V5', 'B00000J3NF', 'B00000J3Q7', 'B00000J3UJ',\n",
      "       'B00000J434', 'B00000J4EY', 'B00000J4FS', 'B00000J4GE', 'B00000J6WY',\n",
      "       'B00000JBAT', 'B00000JBHP', 'B00000JBPB', 'B00000JCT8', 'B00000JCTO',\n",
      "       'B00000JD34', 'B00000JDF5', 'B00000JDF6', 'B00000JDHV', 'B00000JFE3',\n",
      "       'B00000JFIF', 'B00000JFMK', 'B00000JHWX', 'B00000JI4F', 'B00000JII6',\n",
      "       'B00000JMUG', 'B00000JPPI', 'B00000JSGF', 'B00000JYLO', 'B00000JYWQ',\n",
      "       'B00000K135'],\n",
      "      dtype='object', name='productId')\n"
     ]
    }
   ],
   "source": [
    "print(X.shape)\n",
    "print()\n",
    "print(X.index)"
   ]
  },
  {
   "cell_type": "code",
   "execution_count": 47,
   "metadata": {},
   "outputs": [],
   "source": [
    "X1 = X"
   ]
  },
  {
   "cell_type": "code",
   "execution_count": 48,
   "metadata": {},
   "outputs": [
    {
     "data": {
      "text/plain": [
       "(76, 10)"
      ]
     },
     "execution_count": 48,
     "metadata": {},
     "output_type": "execute_result"
    }
   ],
   "source": [
    "from sklearn.decomposition import TruncatedSVD\n",
    "SVD = TruncatedSVD(n_components = 10) # 차원 축소\n",
    "decomposed_matrix=SVD.fit_transform(X)\n",
    "decomposed_matrix.shape"
   ]
  },
  {
   "cell_type": "code",
   "execution_count": 49,
   "metadata": {},
   "outputs": [
    {
     "data": {
      "text/plain": [
       "array([[ 1.48104508e+02, -1.54677986e-01,  2.44500909e-02,\n",
       "         2.98758948e-04, -1.34215280e-01, -4.69735953e-05,\n",
       "         4.58425485e-02,  1.50141387e-04,  4.77761844e-03,\n",
       "        -8.17480865e-02],\n",
       "       [ 6.69637952e-04,  1.29163782e+00,  1.49561155e+00,\n",
       "         2.02588952e-01, -3.63646063e-03,  2.73411878e-02,\n",
       "         1.20988906e-02,  4.02931574e-02,  6.12906805e+01,\n",
       "         2.01143543e+00],\n",
       "       [ 7.21047851e-06,  1.06800194e-01,  3.23668228e-01,\n",
       "        -3.28834898e-04, -2.25710199e-03,  1.13281240e-02,\n",
       "        -3.48112380e-03, -3.74484052e-02,  9.64555323e-01,\n",
       "        -1.74335340e-01],\n",
       "       [ 6.02361701e-04,  7.56084275e-01,  5.47594343e-01,\n",
       "        -2.90747471e-02, -3.31112116e-02,  1.03333590e-01,\n",
       "        -1.10470702e-01,  1.55629366e-01,  4.16684187e+00,\n",
       "         7.36930697e-01],\n",
       "       [ 5.49858387e-04,  7.98769605e-01,  1.01043655e+00,\n",
       "         8.80052796e-02,  4.17118376e-02, -1.45599206e-01,\n",
       "         2.74037481e-01, -6.01761304e-01,  1.12181848e+00,\n",
       "        -1.20865269e+00],\n",
       "       [ 2.62250382e-01,  8.72508052e+01, -1.42129757e+01,\n",
       "        -6.08006987e-03,  4.89234561e-03, -2.00854639e-04,\n",
       "        -2.97971832e-03, -2.33882638e-03, -7.73105439e-01,\n",
       "        -2.07469627e-02],\n",
       "       [ 1.02231457e-03,  1.45070811e+01,  8.52281357e+01,\n",
       "        -5.52710982e-02, -3.01440954e-02,  6.77113656e-03,\n",
       "        -1.34086116e-02,  6.31830165e-03, -1.23696302e+00,\n",
       "        -1.69220402e-02],\n",
       "       [ 6.29984530e-06,  6.29689423e-02,  3.95320162e-01,\n",
       "        -2.66491226e-03, -6.43528532e-04,  6.46919441e-04,\n",
       "        -1.75289871e-02, -4.32034779e-02,  5.60376735e-01,\n",
       "         1.46967126e-01],\n",
       "       [ 5.38586982e-04,  7.79460579e-01, -7.28079715e-02,\n",
       "        -2.14187504e-02, -3.19537047e-03,  3.37856123e-02,\n",
       "        -4.79907984e-02,  2.29385900e-01,  3.40629574e+00,\n",
       "         4.69268264e-01],\n",
       "       [ 3.26964017e-04,  6.19932471e-01,  8.34340407e-01,\n",
       "        -6.20579958e-03,  1.12170490e-01,  2.10867409e-01,\n",
       "         3.93589377e-01,  2.88737413e-01, -7.28688366e-01,\n",
       "        -2.00490920e+00],\n",
       "       [ 5.15393075e-06,  1.81309017e-03, -3.98073037e-03,\n",
       "         1.70344250e-03,  4.12777376e-03, -5.84834553e-03,\n",
       "         1.11035246e-02,  2.16057475e-03,  1.49544648e-01,\n",
       "        -2.30503303e-02],\n",
       "       [-1.03405615e-05,  4.62819873e-05,  7.33414178e-03,\n",
       "        -1.89763906e-04,  3.56094954e-05,  5.53888756e-03,\n",
       "        -1.19107722e-03, -3.09017763e-03, -1.68996050e-01,\n",
       "         8.82241314e-03],\n",
       "       [-3.13917650e-05,  2.51591519e-03,  4.09783998e-02,\n",
       "        -5.18737098e-02, -1.36254686e-02,  3.57578756e-02,\n",
       "        -9.68648248e-02,  4.54449188e-01,  6.53166978e-02,\n",
       "         4.51370121e-01],\n",
       "       [ 3.58799405e-06,  2.56325125e-03, -7.35263448e-03,\n",
       "         2.56646693e-04,  8.13677590e-03, -2.25835544e-02,\n",
       "         1.26038331e-02,  3.78636670e-02,  5.71479169e-01,\n",
       "        -4.64120969e-02],\n",
       "       [-1.16287203e-05, -2.20042117e-02, -3.47005473e-02,\n",
       "        -6.19476993e-03,  1.73902530e-03, -5.86778575e-02,\n",
       "        -3.01033946e-02, -6.52080141e-02,  1.50435034e+00,\n",
       "         2.85494751e+00],\n",
       "       [-1.68627949e-05,  1.22379504e-03,  4.64977754e-03,\n",
       "        -5.63792793e-03, -9.73735660e-03, -3.02751427e-03,\n",
       "        -6.32000202e-03,  1.35372154e-01, -2.24207061e-01,\n",
       "        -1.92194596e-01],\n",
       "       [ 1.20229910e-05, -7.53857117e-03, -2.16920431e-02,\n",
       "        -7.82356231e-03,  8.55477414e-03, -2.49170729e-02,\n",
       "         5.86915830e-03,  1.34055765e-02,  1.00605336e+00,\n",
       "         5.25887315e-01],\n",
       "       [-3.60569949e-06, -1.88708108e-04, -3.27180245e-04,\n",
       "        -1.76815768e-04, -7.47982629e-04, -1.96587057e-03,\n",
       "        -1.96937826e-03, -1.36772720e-02,  5.74801159e-03,\n",
       "         9.51944893e-03],\n",
       "       [ 3.92504307e-07,  1.15246871e-03,  2.01309122e-03,\n",
       "         5.40731611e-04,  3.65551881e-04, -1.40870436e-03,\n",
       "         6.29124936e-03,  6.72878995e-03,  1.85272185e-02,\n",
       "        -3.81277514e-02],\n",
       "       [ 2.02717531e-01,  2.36002265e-02,  1.84477801e-02,\n",
       "         2.78326119e-02,  1.05499892e-02,  2.15508012e-02,\n",
       "         1.05089606e-01, -1.55343845e-01, -2.23821304e+00,\n",
       "         6.00487331e+01],\n",
       "       [-6.56937108e-07,  2.34718572e-05, -1.04549219e-03,\n",
       "        -1.09711351e-04,  2.91398585e-05, -1.23418477e-03,\n",
       "        -1.65898513e-04, -5.45284047e-03,  6.26404519e-03,\n",
       "        -1.11569908e-02],\n",
       "       [-5.07618150e-06, -2.12938913e-04,  1.32802255e-03,\n",
       "         7.24380205e-04, -2.18501440e-03,  3.57124770e-03,\n",
       "        -5.21154190e-03, -3.37150626e-02, -1.00670842e-01,\n",
       "        -5.05991984e-02],\n",
       "       [-2.74615213e-05, -9.13314446e-03, -6.18839039e-03,\n",
       "        -5.44292885e-03, -7.45337946e-03, -9.93443397e-03,\n",
       "        -4.03895993e-02, -5.02705324e-02, -1.04029502e-01,\n",
       "         2.20004951e-01],\n",
       "       [ 1.86555152e-01,  2.77428184e-02,  3.67551651e-02,\n",
       "        -8.48420314e-04,  3.91962492e-01,  8.11589704e-02,\n",
       "        -9.93884905e-02,  4.50489358e-02, -5.09727418e-01,\n",
       "        -3.18786162e-01],\n",
       "       [-9.18368893e-07,  1.94679988e-04,  1.02445276e-03,\n",
       "         6.60653309e-03, -1.91572052e-04,  1.67989263e-03,\n",
       "        -4.61434015e-04,  4.40819145e-01, -1.14649651e-02,\n",
       "         9.34706395e-04],\n",
       "       [ 3.64203140e-04, -5.97906714e-04,  2.59398409e-02,\n",
       "        -3.49020780e-02, -1.33490086e-02,  6.66897515e-01,\n",
       "        -1.18381656e-01,  2.81486828e-01, -9.93237750e-01,\n",
       "         7.29998451e-01],\n",
       "       [-5.92955179e-07,  1.20218372e-02,  5.00463892e-02,\n",
       "         8.50818110e+01,  2.11039145e-01, -2.55429531e-02,\n",
       "         7.62804923e-03, -1.37898286e+00, -1.43208552e-01,\n",
       "        -1.59467232e-02],\n",
       "       [ 1.44783049e-06,  1.53732520e-03,  1.99755738e-03,\n",
       "         1.64557575e-03,  3.45483292e-04,  1.68804076e-03,\n",
       "         5.04789669e-03,  2.50264477e-04, -1.85033799e-02,\n",
       "        -5.02580085e-02],\n",
       "       [ 2.21411182e-07, -1.59672407e-04, -8.21153445e-05,\n",
       "        -5.07908006e-05,  1.05506818e-03,  7.28341314e-05,\n",
       "         4.79804019e-03, -8.10325830e-04, -6.26405197e-03,\n",
       "        -1.30565427e-02],\n",
       "       [ 3.28636907e-06,  2.07918516e-03, -3.79307728e-03,\n",
       "         1.70794778e+00,  9.15910747e-03,  3.58187172e-01,\n",
       "         3.97718992e-02,  6.87918466e+01, -4.34228586e-02,\n",
       "         8.63161359e-02],\n",
       "       [ 1.24438524e-06,  2.15287826e-04, -2.38974960e-04,\n",
       "         8.34076479e-05,  4.01930657e-04, -3.39778644e-04,\n",
       "         8.78603128e-04, -1.75817789e-05,  1.80398374e-02,\n",
       "         2.49431690e-03],\n",
       "       [-6.10648000e-07, -1.20858481e-04,  1.81356001e-04,\n",
       "        -1.29849431e-04,  2.67286173e-06, -3.03926317e-04,\n",
       "        -4.30157968e-04, -1.39829404e-03, -7.59437456e-03,\n",
       "        -3.13740388e-03],\n",
       "       [-9.13192568e-07, -2.88045314e-04,  5.27846365e-05,\n",
       "         1.20648612e-04, -4.50971791e-04,  1.06713593e-04,\n",
       "        -1.27919766e-03, -3.18860285e-03, -2.64041613e-02,\n",
       "         2.65015680e-03],\n",
       "       [-3.64597174e-09, -1.82965673e-07, -2.09492167e-06,\n",
       "        -2.82503587e-06,  2.31929486e-06, -9.23218502e-06,\n",
       "         1.14202038e-05,  7.39235036e-06,  1.11679893e-04,\n",
       "         5.49745397e-05],\n",
       "       [-2.69368111e-07, -2.93093699e-04,  2.33558947e-04,\n",
       "        -1.87176904e-04, -1.16036792e-04,  1.02584520e-03,\n",
       "        -1.83582685e-03,  2.86870144e-03, -8.62066260e-03,\n",
       "        -3.90292319e-03],\n",
       "       [-1.83660661e-06, -4.24993123e-03, -6.14742105e-03,\n",
       "         2.99922608e-03, -9.68816858e-03,  8.39559400e-03,\n",
       "        -2.62775664e-02, -6.84951621e-02, -2.62954251e-01,\n",
       "        -7.63901917e-02],\n",
       "       [-8.57788894e-06, -3.02611120e-02, -2.40291461e-02,\n",
       "        -1.49474373e-02, -1.87790688e-02, -9.92018175e-03,\n",
       "        -9.43933470e-02, -3.76375102e-02, -3.62681519e-01,\n",
       "         1.20290690e+00],\n",
       "       [-2.82217821e-07, -1.62900561e-03, -8.16109530e-04,\n",
       "        -1.16145381e-03, -1.87797110e-03,  8.65372173e-03,\n",
       "        -9.04528853e-03,  2.21778432e-04, -5.90852521e-02,\n",
       "         6.61065503e-02],\n",
       "       [ 2.33974012e-04, -6.65163021e-04, -3.88140359e-04,\n",
       "        -1.26391467e-03,  2.42215042e-01,  6.34373165e-04,\n",
       "        -1.12614904e-01,  3.44778809e-03,  1.07093826e-02,\n",
       "         2.48811413e-02],\n",
       "       [ 4.37592643e-05,  2.19780967e-04, -2.64232547e-03,\n",
       "        -5.84054010e-03,  1.75894346e-02, -1.50267756e-02,\n",
       "         2.14639588e-02, -5.81207161e-02,  1.26914118e+00,\n",
       "         1.49751313e-01],\n",
       "       [ 2.40452250e-04,  4.62389875e-03,  8.33003956e-04,\n",
       "         1.63338347e-04,  1.16152475e-01,  9.80824891e-04,\n",
       "         3.29822090e-01,  2.20081616e-02,  9.38889901e-02,\n",
       "        -4.86990822e-02],\n",
       "       [-3.40870366e-06,  2.20684006e-02,  6.69348607e-03,\n",
       "         5.62166272e-04,  2.74835998e-02,  6.08602918e-03,\n",
       "         6.24954521e-02,  3.05287906e-02,  1.01946837e+00,\n",
       "        -6.09312308e-01],\n",
       "       [-3.76475536e-05, -3.88934903e-02,  3.11137188e-02,\n",
       "        -5.89248977e-02, -6.23050373e-02,  2.91269254e-02,\n",
       "        -2.41112726e-01,  4.99327707e-01, -1.08947871e+00,\n",
       "         1.90685569e+00],\n",
       "       [ 7.14755370e-08,  4.39222840e-04,  1.84884804e-03,\n",
       "         1.11438362e-04,  3.99450856e-04,  1.08802149e-03,\n",
       "         3.01249114e-03,  1.00201667e-02,  1.01433655e-02,\n",
       "         1.44347919e-02],\n",
       "       [ 1.39558471e-05, -3.95046062e-02, -8.22101600e-03,\n",
       "        -3.68510913e-02, -4.04188917e-02,  3.27113148e-04,\n",
       "        -1.40731906e-01,  1.86820568e-01, -3.16958278e-01,\n",
       "         1.36939692e+00],\n",
       "       [-4.38852050e-05, -1.66384837e-02, -1.32787221e-02,\n",
       "        -4.84926865e-03, -4.94058990e-03, -3.93513056e-03,\n",
       "        -6.70905273e-02, -5.11906905e-02, -1.07826848e-01,\n",
       "         5.87459802e-01],\n",
       "       [ 2.49016717e-01, -8.20123887e-04,  2.49398999e-02,\n",
       "        -1.90632472e-01,  7.85366431e+01, -5.34655027e-02,\n",
       "        -2.94024338e+01,  4.82998403e-03, -3.12320967e-03,\n",
       "        -9.75860557e-03],\n",
       "       [-5.58145671e-06, -4.43492679e-04, -2.12054034e-03,\n",
       "         1.16646704e-03,  1.13810772e-03, -2.92503512e-03,\n",
       "        -1.21950612e-04, -2.44389964e-02, -3.02641357e-02,\n",
       "        -1.73680501e-02],\n",
       "       [-5.31330054e-06,  3.61542115e-04,  3.08486876e-03,\n",
       "         9.95366718e-03, -1.55758341e-03,  2.04034257e-03,\n",
       "        -1.35882794e-03,  3.85906058e-01, -2.16712466e-02,\n",
       "        -7.70826599e-02],\n",
       "       [-1.80009284e-07,  2.34847123e-04,  1.63599812e-04,\n",
       "        -6.60593212e-04,  5.55789346e-04, -7.85643581e-04,\n",
       "         1.81699043e-03,  5.10035010e-03,  1.36577052e-02,\n",
       "         1.20560777e-03],\n",
       "       [ 1.34792157e-05,  1.61020318e-02,  1.96481364e-02,\n",
       "         1.87200980e-02,  5.47092884e-03,  1.21736573e-02,\n",
       "         6.39837647e-02, -1.49096448e-02, -2.21112539e-01,\n",
       "        -6.11299002e-01],\n",
       "       [-7.59421558e-06, -1.97128390e-03, -3.68827203e-04,\n",
       "        -4.89816458e-03, -2.13067632e-03, -1.98861045e-03,\n",
       "        -8.89987497e-03, -1.82910606e-02,  4.27624875e-02,\n",
       "         8.81680278e-02],\n",
       "       [ 6.19380322e-05,  7.87122745e-02,  9.46411285e-02,\n",
       "         9.22674035e-02,  1.71864645e-02,  6.20730933e-02,\n",
       "         2.79307022e-01, -1.27014032e-01, -1.05128494e+00,\n",
       "        -2.91233564e+00],\n",
       "       [ 1.85202030e-04, -7.67869880e-03, -9.57017127e-03,\n",
       "        -5.46200829e-03,  2.95678808e-03, -2.02482242e-02,\n",
       "        -3.44346208e-03, -8.99573854e-02,  4.59257739e-01,\n",
       "         1.20867932e-01],\n",
       "       [ 9.26812876e-06,  7.21102069e-03,  4.80648280e-03,\n",
       "         5.36783914e-03,  3.19056777e-03,  4.20701056e-03,\n",
       "         1.88900335e-02, -2.29499093e-02, -1.34121907e-01,\n",
       "        -1.90873813e-01],\n",
       "       [-1.23668359e-05,  1.08963907e-04, -4.40557755e-04,\n",
       "        -1.40762166e-02,  5.10839431e-03,  4.22910037e-03,\n",
       "        -2.83359611e-02,  1.26898845e-01,  2.58553167e-01,\n",
       "         6.60990003e-02],\n",
       "       [-2.68205139e-06, -9.25855537e-04,  8.77967347e-05,\n",
       "        -2.63429544e-05, -1.34589701e-03, -5.87856739e-05,\n",
       "        -2.83864946e-03, -2.42234237e-03, -2.72393217e-02,\n",
       "         1.13278755e-02],\n",
       "       [-1.34775415e-07,  7.14118657e-05,  2.77220584e-06,\n",
       "         5.41171256e-03,  7.72708258e-05,  8.21595316e-04,\n",
       "         8.33802290e-04,  3.60487018e-01,  4.67096447e-03,\n",
       "        -3.99875803e-03],\n",
       "       [ 1.16018192e-06,  6.05325982e-04,  1.83402019e-03,\n",
       "        -7.72858839e-04,  1.42770855e-04,  3.06674015e-03,\n",
       "         2.09005570e-03,  1.42731672e-02, -1.65728656e-02,\n",
       "        -2.76940236e-03],\n",
       "       [ 1.62630698e-06,  4.53875216e-04,  3.09174975e-03,\n",
       "        -2.67487336e-03,  3.78169615e-04,  5.42637686e-03,\n",
       "         1.31312055e-03, -2.41018826e-05, -5.16212169e-02,\n",
       "        -4.04698689e-03],\n",
       "       [-4.25123899e-06, -1.62048135e-03,  3.76940892e-04,\n",
       "         1.65543290e-03, -1.34294130e-03, -8.92432119e-05,\n",
       "        -7.47894301e-03,  7.84017493e-04, -1.52950204e-01,\n",
       "         3.83319634e-03],\n",
       "       [ 7.47757887e-03,  4.06511306e-04,  1.78751883e-02,\n",
       "        -9.06402335e-02,  3.25833608e+01,  7.14780993e-03,\n",
       "         7.08414331e+01, -3.01545670e-02, -6.40264433e-03,\n",
       "        -1.73987394e-02],\n",
       "       [ 5.90530177e-04, -5.21214914e-02, -3.19482071e-02,\n",
       "        -6.25724048e-02,  1.11804631e+00,  4.27075756e-01,\n",
       "         4.07046415e-01,  3.41081931e-01,  8.69690687e-01,\n",
       "         2.06162720e+00],\n",
       "       [ 1.02347963e-06,  4.18752604e-04,  1.32822592e-04,\n",
       "         2.37786164e-04,  1.47690021e-03,  7.68783485e-05,\n",
       "         6.57584770e-03, -5.69933645e-04,  6.15698029e-03,\n",
       "        -3.30872248e-02],\n",
       "       [ 1.82501440e-08,  1.46326676e-05, -2.92949226e-04,\n",
       "        -2.86771320e-05,  1.59357814e-05, -1.69555242e-04,\n",
       "        -3.97308358e-04, -8.35258002e-04,  4.16934220e-03,\n",
       "         7.67595164e-04],\n",
       "       [-6.68287652e-07,  1.55815713e-06, -2.17024345e-05,\n",
       "         2.67435351e-04,  2.01421447e-04, -8.39224060e-04,\n",
       "         1.59558526e-03, -5.66702774e-03,  1.95007042e-03,\n",
       "        -6.57413438e-03],\n",
       "       [ 2.40980571e-07,  4.49299943e-03,  1.05044072e-02,\n",
       "        -2.50395362e-04,  6.00606685e-03,  1.89135777e-03,\n",
       "         3.02297498e-02,  8.45450586e-02, -1.27256960e-02,\n",
       "        -1.33581543e-01],\n",
       "       [-1.80377367e-06, -2.09222339e-03, -3.17864937e-04,\n",
       "        -8.68793299e-04,  3.49049653e-03,  1.91140539e-04,\n",
       "        -3.30994055e-03,  5.21700038e-03,  3.22773729e-02,\n",
       "         5.61015944e-02],\n",
       "       [ 2.11424959e-06, -2.77127396e-03, -8.97801146e-03,\n",
       "         2.00029467e-02,  4.28826758e-02,  8.05131896e+01,\n",
       "        -2.77113519e-02, -3.13130305e-01, -1.57619243e-02,\n",
       "        -2.76276227e-02],\n",
       "       [-1.61432974e-07, -6.79600330e-05,  2.68578860e-05,\n",
       "        -3.13919305e-05, -1.11300035e-04, -4.47503206e-05,\n",
       "        -2.04645249e-04, -8.93745054e-04, -6.45887304e-04,\n",
       "         1.11408194e-03],\n",
       "       [ 9.25590489e-08,  2.38423088e-05,  6.15881361e-05,\n",
       "         3.55120498e-06, -6.24414421e-05,  2.86327737e-04,\n",
       "        -2.49051493e-04,  2.75376662e-04, -3.91446886e-03,\n",
       "         9.02339838e-04],\n",
       "       [ 4.14635385e-08,  1.07366685e-04,  3.21106146e-04,\n",
       "        -1.89029059e-04, -3.81436821e-05,  2.08890507e-03,\n",
       "        -3.91943357e-04,  2.09701034e-03, -6.90658065e-03,\n",
       "         1.71246716e-03],\n",
       "       [ 3.27460001e-05,  2.35595838e-02,  2.06906268e-03,\n",
       "         2.96848356e-02,  3.42367515e-01,  7.48626022e-03,\n",
       "         1.16799229e+00, -2.17805521e-01, -1.67140625e-01,\n",
       "        -2.64657791e+00],\n",
       "       [ 1.85263107e-04,  3.94407829e-03,  1.68237324e-03,\n",
       "         1.98178718e-04,  3.75373447e-03,  4.10928065e-03,\n",
       "         1.06098870e-02,  1.10705596e-02,  3.08220369e-02,\n",
       "        -1.28143471e-02],\n",
       "       [-6.24593257e-06, -9.34026363e-05,  1.15617697e-03,\n",
       "         2.46945249e-03,  5.80509954e-04,  2.07330610e-03,\n",
       "        -1.05957271e-03, -1.22681433e-02, -4.50591105e-02,\n",
       "        -4.79299297e-02],\n",
       "       [-2.46038186e-07, -7.77823338e-04, -1.57760258e-03,\n",
       "         1.21053283e-03,  6.81358249e-04, -6.96344615e-04,\n",
       "        -2.01843892e-03, -8.99779979e-03,  6.04826790e-03,\n",
       "         1.76260835e-03]])"
      ]
     },
     "execution_count": 49,
     "metadata": {},
     "output_type": "execute_result"
    }
   ],
   "source": [
    "decomposed_matrix"
   ]
  },
  {
   "cell_type": "code",
   "execution_count": 50,
   "metadata": {},
   "outputs": [
    {
     "data": {
      "text/plain": [
       "(76, 76)"
      ]
     },
     "execution_count": 50,
     "metadata": {},
     "output_type": "execute_result"
    }
   ],
   "source": [
    "correlation_matrix=np.corrcoef(decomposed_matrix)\n",
    "correlation_matrix.shape"
   ]
  },
  {
   "cell_type": "code",
   "execution_count": 52,
   "metadata": {},
   "outputs": [
    {
     "data": {
      "text/plain": [
       "'B00000K135'"
      ]
     },
     "execution_count": 52,
     "metadata": {},
     "output_type": "execute_result"
    }
   ],
   "source": [
    "X.index[75]"
   ]
  },
  {
   "cell_type": "code",
   "execution_count": 53,
   "metadata": {},
   "outputs": [
    {
     "data": {
      "text/plain": [
       "75"
      ]
     },
     "execution_count": 53,
     "metadata": {},
     "output_type": "execute_result"
    }
   ],
   "source": [
    "i = X.index[75]\n",
    "\n",
    "product_names=list(X.index)\n",
    "product_ID = product_names.index(i) #index 구하기\n",
    "product_ID"
   ]
  },
  {
   "cell_type": "code",
   "execution_count": 57,
   "metadata": {},
   "outputs": [
    {
     "data": {
      "text/plain": [
       "(76,)"
      ]
     },
     "execution_count": 57,
     "metadata": {},
     "output_type": "execute_result"
    }
   ],
   "source": [
    "# 한 product_ID(75)와의 상관관계\n",
    "correlation_product_ID = correlation_matrix[product_ID]\n",
    "correlation_product_ID.shape"
   ]
  },
  {
   "cell_type": "code",
   "execution_count": 58,
   "metadata": {},
   "outputs": [
    {
     "data": {
      "text/plain": [
       "array([ 0.04037138,  0.61197867,  0.52758748,  0.60652781,  0.33298078,\n",
       "       -0.01911007, -0.12082963,  0.55772001,  0.58013125, -0.48376379,\n",
       "        0.54311522, -0.57461444, -0.36940171,  0.52907048,  0.49942829,\n",
       "       -0.86584709,  0.64873199,  0.88265538, -0.06559356,  0.18331506,\n",
       "        0.42412919, -0.40791136,  0.10457913, -0.44386213, -0.80908458,\n",
       "       -0.45435647,  0.16500676, -0.41771333, -0.41540077, -0.79567962,\n",
       "        0.63680663, -0.53056877, -0.47808235,  0.598715  , -0.80669329,\n",
       "       -0.44498988,  0.05380175, -0.22677354,  0.18177737,  0.66316098,\n",
       "       -0.02185749,  0.3695218 , -0.27357499,  0.02805294, -0.03192793,\n",
       "        0.16987182,  0.14354876, -0.0459849 , -0.83065642,  0.29594828,\n",
       "       -0.3945296 ,  0.58263216, -0.38002239,  0.76909834, -0.45989877,\n",
       "        0.25276287, -0.39119552, -0.79088098, -0.95676161, -0.62582765,\n",
       "       -0.59493594, -0.0942944 ,  0.33367917, -0.0955992 ,  0.76902351,\n",
       "        0.46193753, -0.62988826,  0.44779493, -0.02109749,  0.34232612,\n",
       "       -0.57079784, -0.68237751, -0.19758544,  0.15990911, -0.43045639,\n",
       "        1.        ])"
      ]
     },
     "execution_count": 58,
     "metadata": {},
     "output_type": "execute_result"
    }
   ],
   "source": [
    "correlation_product_ID "
   ]
  },
  {
   "cell_type": "code",
   "execution_count": 63,
   "metadata": {},
   "outputs": [
    {
     "data": {
      "text/plain": [
       "['9575871979',\n",
       " '9888002198',\n",
       " 'B000001OMI',\n",
       " 'B00000J061',\n",
       " 'B00000J1EJ',\n",
       " 'B00000J1QK',\n",
       " 'B00000J3Q7',\n",
       " 'B00000J4GE',\n",
       " 'B00000JBPB',\n",
       " 'B00000JCT8',\n",
       " 'B00000JFE3',\n",
       " 'B00000JPPI']"
      ]
     },
     "execution_count": 63,
     "metadata": {},
     "output_type": "execute_result"
    }
   ],
   "source": [
    "Recommend = list(X.index[abs(correlation_product_ID) > 0.65]) # 상관계수 0.65보다 큰 상품들의 index의 list return\n",
    "\n",
    "Recommend.remove(i) #이미 구입한 상품은 뺀다\n",
    "\n",
    "Recommend[0:24] #상위 24개 추천"
   ]
  },
  {
   "cell_type": "code",
   "execution_count": 64,
   "metadata": {},
   "outputs": [
    {
     "data": {
      "text/plain": [
       "['9575871979',\n",
       " '9888002198',\n",
       " 'B000001OMI',\n",
       " 'B00000J061',\n",
       " 'B00000J1EJ',\n",
       " 'B00000J1QK',\n",
       " 'B00000J3Q7',\n",
       " 'B00000J4GE',\n",
       " 'B00000JBPB',\n",
       " 'B00000JCT8',\n",
       " 'B00000JFE3',\n",
       " 'B00000JPPI']"
      ]
     },
     "execution_count": 64,
     "metadata": {},
     "output_type": "execute_result"
    }
   ],
   "source": [
    "Recommend"
   ]
  },
  {
   "cell_type": "code",
   "execution_count": null,
   "metadata": {},
   "outputs": [],
   "source": []
  }
 ],
 "metadata": {
  "kernelspec": {
   "display_name": "Python 3",
   "language": "python",
   "name": "python3"
  },
  "language_info": {
   "codemirror_mode": {
    "name": "ipython",
    "version": 3
   },
   "file_extension": ".py",
   "mimetype": "text/x-python",
   "name": "python",
   "nbconvert_exporter": "python",
   "pygments_lexer": "ipython3",
   "version": "3.8.5"
  }
 },
 "nbformat": 4,
 "nbformat_minor": 4
}
